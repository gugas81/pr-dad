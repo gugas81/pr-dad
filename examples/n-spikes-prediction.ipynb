{
 "cells": [
  {
   "cell_type": "code",
   "execution_count": 51,
   "id": "cfde87ae",
   "metadata": {},
   "outputs": [],
   "source": [
    "import torch\n",
    "import sys\n",
    "sys.path.append('/Users/leongugel/PycharmProjects/spectral-phase-retrieval')\n",
    "import torchvision\n",
    "import numpy as np\n",
    "import torch.nn as nn\n",
    "import torch.nn.functional as F\n",
    "import torch.optim as optim\n",
    "import os\n",
    "import random\n",
    "from torchvision import transforms\n",
    "import math \n",
    "import matplotlib.pyplot as plt\n",
    "from scipy.fft import fft, rfft, irfft, ifft,fftshift, fft2, ifft2, dct, idct\n",
    "from scipy.ndimage.filters import gaussian_filter\n",
    "from PIL import Image, ImageCms\n",
    "from torch.utils.data.sampler import Sampler\n",
    "from models.seq_blocks import MlpNet\n"
   ]
  },
  {
   "cell_type": "code",
   "execution_count": null,
   "id": "559363d2",
   "metadata": {},
   "outputs": [],
   "source": []
  },
  {
   "cell_type": "code",
   "execution_count": 4,
   "id": "9b9aabb8",
   "metadata": {},
   "outputs": [],
   "source": [
    "def fft_magitude(img, shift: bool=True):\n",
    "    if isinstance(img, np.ndarray):\n",
    "        img_tensor = torch.from_numpy(img)\n",
    "    else:\n",
    "        img_tensor = img\n",
    "    fft_img = torch.fft.fft2(img_tensor, norm=\"forward\")\n",
    "    fft_img_magnitude = torch.abs(fft_img)\n",
    "    if shift:\n",
    "        fft_img_magnitude = torch.fft.fftshift(fft_img_magnitude)\n",
    "    return fft_img_magnitude"
   ]
  },
  {
   "cell_type": "code",
   "execution_count": 5,
   "id": "cd6dc2f7",
   "metadata": {},
   "outputs": [],
   "source": [
    "def pol2cart(r, phi):\n",
    "    x = r * np.cos(phi)\n",
    "    y = r * np.sin(phi)\n",
    "    return(x, y)"
   ]
  },
  {
   "cell_type": "code",
   "execution_count": 6,
   "id": "dcd95141",
   "metadata": {},
   "outputs": [],
   "source": [
    "def get_random_spike_signals_polar(n_spikes: int = 1, \n",
    "                                   img_size: int = 32, \n",
    "                                   min_dist: int = 4, \n",
    "                                   sigma: float = 1.0, \n",
    "                                   add_gauss_noise: float = 0.0125) -> torch.Tensor:\n",
    "    phi_ranges = 2*np.pi*np.arange(0, n_spikes, 1)/n_spikes\n",
    "    half_size = img_size // 2\n",
    "    r_ranges =( np.random.permutation(half_size-2*min_dist)+min_dist)[:n_spikes]\n",
    "    x, y = pol2cart(r_ranges, phi_ranges)\n",
    "    x += (half_size)\n",
    "    y += (half_size)\n",
    "    x = np.int32(np.round(x))\n",
    "    y = np.int32(np.round(y))\n",
    "    img_spikes = np.zeros((img_size, img_size))\n",
    "    for ind in range(n_spikes):\n",
    "        img_spikes[y[ind], x[ind]] =1.0\n",
    "    if sigma > 0: \n",
    "        img_spikes = gaussian_filter(img_spikes, sigma)\n",
    "    img_spikes = torch.from_numpy(img_spikes)\n",
    "    if add_gauss_noise > 0.0:\n",
    "        img_spikes = img_spikes + add_gauss_noise*torch.randn_like(img_spikes)\n",
    "    \n",
    "    return img_spikes, x, y"
   ]
  },
  {
   "cell_type": "code",
   "execution_count": 36,
   "id": "16ed54b3",
   "metadata": {},
   "outputs": [],
   "source": [
    "\n",
    "class SpikesSampler(Sampler):\n",
    "    def __init__(self,\n",
    "                 batch_size: int = 4,\n",
    "                 spikes_range=(3, 16),\n",
    "                 img_size: int = 32,\n",
    "                 min_dist: int = 4,\n",
    "                 sigma: float = 1.0,\n",
    "                 add_gauss_noise: float = 0.0125,\n",
    "                 len_ds: int = 10000):\n",
    "        'Initialization'\n",
    "        self.batch_size = batch_size\n",
    "        self.spikes_range = spikes_range\n",
    "        self.img_size = img_size\n",
    "        self.min_dist = min_dist\n",
    "        self.sigma = sigma\n",
    "        self.add_gauss_noise = add_gauss_noise\n",
    "        self.len_ds = len_ds\n",
    "\n",
    "    def __len__(self):\n",
    "        'Denotes the total number of samples'\n",
    "        raise int(self.len_ds)\n",
    "\n",
    "    def _get_item(self):\n",
    "        'Generates one sample of data'\n",
    "        # Select sample\n",
    "        n_spikes = np.random.randint(self.spikes_range[0], self.spikes_range[1])\n",
    "\n",
    "        # Load data and get label\n",
    "        # print(f'n_spikes:{n_spikes}, self.img_size: {self.img_size}')\n",
    "        img_spikes, x, y = get_random_spike_signals_polar(n_spikes=n_spikes,\n",
    "                                                          img_size=self.img_size,\n",
    "                                                          min_dist=self.min_dist,\n",
    "                                                          sigma=self.sigma,\n",
    "                                                          add_gauss_noise=self.add_gauss_noise)\n",
    "        fft_spkes = fft_magitude(img_spikes)\n",
    "\n",
    "        return fft_spkes, img_spikes, n_spikes, x, y\n",
    "\n",
    "    def __iter__(self):\n",
    "        batch = {'fft_spikes': [], 'img_spikes': [], 'n_spikes': [], 'x': [], 'y': []}\n",
    "        for _ in range(self.batch_size):\n",
    "            fft_spkes, img_spikes, n_spikes, x, y = self._get_item()\n",
    "            batch['fft_spikes'].append(fft_spkes)\n",
    "            batch['img_spikes'].append(img_spikes)\n",
    "            batch['n_spikes'].append(n_spikes)\n",
    "            batch['x'].append(x)\n",
    "            batch['y'].append(y)\n",
    "        batch['fft_spikes'] = torch.stack(batch['fft_spikes'])\n",
    "        batch['n_spikes'] = torch.tensor(batch['n_spikes'])[:, None]\n",
    "        yield batch\n"
   ]
  },
  {
   "cell_type": "code",
   "execution_count": 23,
   "id": "1765d7a6",
   "metadata": {},
   "outputs": [],
   "source": [
    "class SpikesDataset(torch.utils.data.Dataset):\n",
    "    def __init__(self, \n",
    "                 spikes_range = [3, 16],\n",
    "                 img_size: int = 32, \n",
    "                 min_dist: int = 4, \n",
    "                 sigma: float = 1.0, \n",
    "                 add_gauss_noise: float = 0.0125,\n",
    "                  len_ds: int = 10000):\n",
    "        'Initialization'\n",
    "        self.spikes_range=spikes_range\n",
    "        self.img_size = img_size\n",
    "        self.min_dist = min_dist\n",
    "        self.sigma = sigma\n",
    "        self.add_gauss_noise = add_gauss_noise \n",
    "        self.len_ds =len_ds\n",
    "\n",
    "    def __len__(self):\n",
    "            'Denotes the total number of samples'\n",
    "            raise int(self.len_ds)\n",
    "\n",
    "    def __getitem__(self, index):\n",
    "            'Generates one sample of data'\n",
    "            # Select sample\n",
    "            n_spikes = np.random.randint(spikes_range[0],spikes_range[1])\n",
    "\n",
    "            # Load data and get label\n",
    "            img_spikes, x, y = get_random_spike_signals_polar(n_spikes=n_spikes, \n",
    "                                   img_size = self.img_size, \n",
    "                                   min_dist = self.min_dist, \n",
    "                                   sigma =  self.sigma, \n",
    "                                   add_gauss_noise = self.add_gauss_noise)\n",
    "            fft_spkes = fft_magitude(img_spikes)\n",
    "\n",
    "            return fft_spkes, img_spikes, n_spikes, x, y"
   ]
  },
  {
   "cell_type": "code",
   "execution_count": 31,
   "id": "97c3af6e",
   "metadata": {},
   "outputs": [
    {
     "data": {
      "text/plain": [
       "3"
      ]
     },
     "execution_count": 31,
     "metadata": {},
     "output_type": "execute_result"
    }
   ],
   "source": [
    "np.random.randint(2,10)"
   ]
  },
  {
   "cell_type": "code",
   "execution_count": 33,
   "id": "0756c3d9",
   "metadata": {},
   "outputs": [],
   "source": [
    "# Parameters\n",
    "params = {'batch_size': 8,\n",
    "          'num_workers': 4}\n",
    "spikes_ds = SpikesDataset(len_ds = 10)\n",
    "training_generator = torch.utils.data.DataLoader(spikes_ds, **params)\n"
   ]
  },
  {
   "cell_type": "code",
   "execution_count": 87,
   "id": "5f9178ef",
   "metadata": {},
   "outputs": [],
   "source": [
    "img_size = 32\n",
    "batch_size = 16\n",
    "spikes_range=(2, 8)\n",
    "n_classes = spikes_range[1] - spikes_range[0] +1\n",
    "spike_sampler = SpikesSampler(spikes_range=spikes_range, \n",
    "                              img_size=img_size,\n",
    "                              batch_size=batch_size, \n",
    "                              add_gauss_noise = 0.0)\n",
    "batch_spikes_data = next(iter(spike_sampler))"
   ]
  },
  {
   "cell_type": "code",
   "execution_count": 88,
   "id": "de87a190",
   "metadata": {},
   "outputs": [
    {
     "data": {
      "text/plain": [
       "7"
      ]
     },
     "execution_count": 88,
     "metadata": {},
     "output_type": "execute_result"
    }
   ],
   "source": [
    "n_classes"
   ]
  },
  {
   "cell_type": "code",
   "execution_count": 63,
   "id": "281abd36",
   "metadata": {},
   "outputs": [],
   "source": [
    "in_size = img_size**2\n",
    "ch_list = [in_size, in_size // 4, in_size // 16, in_size // 32, in_size // 128, in_size // 256, 1]\n",
    "mlp_net = MlpNet(in_ch=in_size,\n",
    "                 ch_list = ch_list,\n",
    "                  out_ch=1,\n",
    "                 deep=len(ch_list),\n",
    "                  multy_coeff=0.5)"
   ]
  },
  {
   "cell_type": "code",
   "execution_count": 64,
   "id": "eb5fee2e",
   "metadata": {},
   "outputs": [
    {
     "data": {
      "text/plain": [
       "MlpNet(\n",
       "  (fc_layers): BlockList(\n",
       "    (0): FcBlock(\n",
       "      (fc_seq): BlockList(\n",
       "        (0): Linear(in_features=1024, out_features=256, bias=True)\n",
       "        (1): Identity()\n",
       "        (2): LeakyReLU(negative_slope=0.2, inplace=True)\n",
       "      )\n",
       "    )\n",
       "    (1): FcBlock(\n",
       "      (fc_seq): BlockList(\n",
       "        (0): Linear(in_features=256, out_features=64, bias=True)\n",
       "        (1): Identity()\n",
       "        (2): LeakyReLU(negative_slope=0.2, inplace=True)\n",
       "      )\n",
       "    )\n",
       "    (2): FcBlock(\n",
       "      (fc_seq): BlockList(\n",
       "        (0): Linear(in_features=64, out_features=32, bias=True)\n",
       "        (1): Identity()\n",
       "        (2): LeakyReLU(negative_slope=0.2, inplace=True)\n",
       "      )\n",
       "    )\n",
       "    (3): FcBlock(\n",
       "      (fc_seq): BlockList(\n",
       "        (0): Linear(in_features=32, out_features=8, bias=True)\n",
       "        (1): Identity()\n",
       "        (2): LeakyReLU(negative_slope=0.2, inplace=True)\n",
       "      )\n",
       "    )\n",
       "    (4): FcBlock(\n",
       "      (fc_seq): BlockList(\n",
       "        (0): Linear(in_features=8, out_features=4, bias=True)\n",
       "        (1): Identity()\n",
       "        (2): LeakyReLU(negative_slope=0.2, inplace=True)\n",
       "      )\n",
       "    )\n",
       "    (5): FcBlock(\n",
       "      (fc_seq): BlockList(\n",
       "        (0): Linear(in_features=4, out_features=1, bias=True)\n",
       "        (1): Identity()\n",
       "        (2): LeakyReLU(negative_slope=0.2, inplace=True)\n",
       "      )\n",
       "    )\n",
       "  )\n",
       ")"
      ]
     },
     "execution_count": 64,
     "metadata": {},
     "output_type": "execute_result"
    }
   ],
   "source": [
    "mlp_net"
   ]
  },
  {
   "cell_type": "code",
   "execution_count": 65,
   "id": "5366b6c1",
   "metadata": {},
   "outputs": [],
   "source": [
    "iters = 10000\n",
    "mlp_net.train()\n",
    "l2_loss = torch.nn.MSELoss()\n",
    "class_loss = torch.nn.CrossEntropyLoss\n",
    "optim = torch.optim.Adam(params=mlp_net.parameters(), lr= 0.00001)"
   ]
  },
  {
   "cell_type": "code",
   "execution_count": null,
   "id": "7feeccda",
   "metadata": {},
   "outputs": [],
   "source": [
    "x = torch.flatten(batch_spikes_data['fft_spikes'], 1).to(torch.float)\n",
    "y = batch_spikes_data['n_spikes'].to(torch.float)\n",
    "y_pred = mlp_net(x)"
   ]
  },
  {
   "cell_type": "code",
   "execution_count": 75,
   "id": "5a714a93",
   "metadata": {},
   "outputs": [
    {
     "data": {
      "text/plain": [
       "tensor([[7.],\n",
       "        [4.],\n",
       "        [7.],\n",
       "        [3.],\n",
       "        [2.],\n",
       "        [2.],\n",
       "        [6.],\n",
       "        [5.],\n",
       "        [5.],\n",
       "        [6.],\n",
       "        [4.],\n",
       "        [6.],\n",
       "        [3.],\n",
       "        [3.],\n",
       "        [6.],\n",
       "        [3.]])"
      ]
     },
     "execution_count": 75,
     "metadata": {},
     "output_type": "execute_result"
    }
   ],
   "source": [
    "y"
   ]
  },
  {
   "cell_type": "code",
   "execution_count": 76,
   "id": "b6e77c41",
   "metadata": {},
   "outputs": [
    {
     "data": {
      "text/plain": [
       "tensor([[7.6327],\n",
       "        [3.6515],\n",
       "        [7.6117],\n",
       "        [2.8587],\n",
       "        [0.8750],\n",
       "        [1.4614],\n",
       "        [6.2523],\n",
       "        [5.1917],\n",
       "        [5.3948],\n",
       "        [6.1696],\n",
       "        [3.5093],\n",
       "        [6.3213],\n",
       "        [2.9187],\n",
       "        [2.7440],\n",
       "        [6.5029],\n",
       "        [2.8569]], grad_fn=<LeakyReluBackward1>)"
      ]
     },
     "execution_count": 76,
     "metadata": {},
     "output_type": "execute_result"
    }
   ],
   "source": [
    "y_pred"
   ]
  },
  {
   "cell_type": "code",
   "execution_count": 72,
   "id": "8688ab18",
   "metadata": {},
   "outputs": [
    {
     "name": "stdout",
     "output_type": "stream",
     "text": [
      "ind: 0, loss: 3.7030858993530273\n",
      "ind: 500, loss: 3.004824638366699\n",
      "ind: 1000, loss: 3.096035957336426\n",
      "ind: 1500, loss: 2.843257427215576\n",
      "ind: 2000, loss: 1.5155291557312012\n",
      "ind: 2500, loss: 1.6146228313446045\n",
      "ind: 3000, loss: 1.7886306047439575\n",
      "ind: 3500, loss: 1.6603196859359741\n",
      "ind: 4000, loss: 2.0471994876861572\n",
      "ind: 4500, loss: 1.7338281869888306\n",
      "ind: 5000, loss: 0.8767526149749756\n",
      "ind: 5500, loss: 1.363584041595459\n",
      "ind: 6000, loss: 0.6734015941619873\n",
      "ind: 6500, loss: 0.8365642428398132\n",
      "ind: 7000, loss: 0.5023687481880188\n",
      "ind: 7500, loss: 0.25611451268196106\n",
      "ind: 8000, loss: 0.2980993390083313\n",
      "ind: 8500, loss: 0.06660129874944687\n",
      "ind: 9000, loss: 0.07051374018192291\n",
      "ind: 9500, loss: 0.2875252664089203\n"
     ]
    }
   ],
   "source": [
    "l2_loss_pred = []\n",
    "for ind in range(iters):\n",
    "    batch_spikes_data = next(iter(spike_sampler))\n",
    "    x = torch.flatten(batch_spikes_data['fft_spikes'], 1).to(torch.float)\n",
    "    y = batch_spikes_data['n_spikes'].to(torch.float)\n",
    "    y_pred = mlp_net(x)\n",
    "    pred_loss = l2_loss(y, y_pred)\n",
    "    pred_loss.backward()\n",
    "    optim.step()\n",
    "    l2_loss_pred.append(pred_loss.detach().cpu().numpy())\n",
    "    if ind % 500 ==0:\n",
    "        print(f'ind: {ind}, loss: {pred_loss}')\n",
    "l2_loss_pred=np.array(l2_loss_pred)"
   ]
  },
  {
   "cell_type": "code",
   "execution_count": 74,
   "id": "85cb7a20",
   "metadata": {},
   "outputs": [
    {
     "data": {
      "text/plain": [
       "[<matplotlib.lines.Line2D at 0x11ebc5850>]"
      ]
     },
     "execution_count": 74,
     "metadata": {},
     "output_type": "execute_result"
    },
    {
     "data": {
      "image/png": "[encoded data removed]",
      "text/plain": [
       "<Figure size 432x288 with 1 Axes>"
      ]
     },
     "metadata": {
      "needs_background": "light"
     },
     "output_type": "display_data"
    }
   ],
   "source": [
    "\n",
    "plt.plot(l2_loss_pred)"
   ]
  },
  {
   "cell_type": "code",
   "execution_count": 105,
   "id": "95be3ef9",
   "metadata": {},
   "outputs": [],
   "source": [
    "class PikesClaseesNet(nn.Module):\n",
    "    def __init__(self,in_size,ch_list, n_classes):\n",
    "        super(PikesClaseesNet, self).__init__()\n",
    "        ch_list =  ch_list + [n_classes]\n",
    "        self.mlp_net = MlpNet(in_ch=in_size,\n",
    "                     ch_list = ch_list,\n",
    "                      out_ch=n_classes,\n",
    "                     deep=len(ch_list),\n",
    "                      multy_coeff=0.5)\n",
    "        self.sigmoid = torch.nn.Sigmoid()\n",
    "    def forward(self, x):\n",
    "        out_net = self.mlp_net(x)\n",
    "        return self.sigmoid (out_net)"
   ]
  },
  {
   "cell_type": "code",
   "execution_count": 106,
   "id": "3d5bc353",
   "metadata": {},
   "outputs": [],
   "source": [
    "ch_list = [in_size, in_size // 4, in_size // 8, in_size //16, in_size // 32, in_size // 64]\n",
    "# mlp_net = MlpNet(in_ch=in_size,\n",
    "#                  ch_list = ch_list,\n",
    "#                   out_ch=1,\n",
    "#                  deep=len(ch_list),\n",
    "#                   multy_coeff=0.5)"
   ]
  },
  {
   "cell_type": "code",
   "execution_count": 107,
   "id": "053124c0",
   "metadata": {},
   "outputs": [
    {
     "data": {
      "text/plain": [
       "([1024, 256, 128, 64, 32, 16], [1024, 256, 128, 64, 32, 16, 7])"
      ]
     },
     "execution_count": 107,
     "metadata": {},
     "output_type": "execute_result"
    }
   ],
   "source": [
    "ch_list, ch_list + [n_classes]"
   ]
  },
  {
   "cell_type": "code",
   "execution_count": 108,
   "id": "716cd928",
   "metadata": {},
   "outputs": [],
   "source": [
    "pikes_classes_net = PikesClaseesNet(in_size=in_size, ch_list = ch_list, n_classes=n_classes)"
   ]
  },
  {
   "cell_type": "code",
   "execution_count": 109,
   "id": "96c1f0ea",
   "metadata": {},
   "outputs": [
    {
     "data": {
      "text/plain": [
       "MlpNet(\n",
       "  (fc_layers): BlockList(\n",
       "    (0): FcBlock(\n",
       "      (fc_seq): BlockList(\n",
       "        (0): Linear(in_features=1024, out_features=256, bias=True)\n",
       "        (1): Identity()\n",
       "        (2): LeakyReLU(negative_slope=0.2, inplace=True)\n",
       "      )\n",
       "    )\n",
       "    (1): FcBlock(\n",
       "      (fc_seq): BlockList(\n",
       "        (0): Linear(in_features=256, out_features=128, bias=True)\n",
       "        (1): Identity()\n",
       "        (2): LeakyReLU(negative_slope=0.2, inplace=True)\n",
       "      )\n",
       "    )\n",
       "    (2): FcBlock(\n",
       "      (fc_seq): BlockList(\n",
       "        (0): Linear(in_features=128, out_features=64, bias=True)\n",
       "        (1): Identity()\n",
       "        (2): LeakyReLU(negative_slope=0.2, inplace=True)\n",
       "      )\n",
       "    )\n",
       "    (3): FcBlock(\n",
       "      (fc_seq): BlockList(\n",
       "        (0): Linear(in_features=64, out_features=32, bias=True)\n",
       "        (1): Identity()\n",
       "        (2): LeakyReLU(negative_slope=0.2, inplace=True)\n",
       "      )\n",
       "    )\n",
       "    (4): FcBlock(\n",
       "      (fc_seq): BlockList(\n",
       "        (0): Linear(in_features=32, out_features=16, bias=True)\n",
       "        (1): Identity()\n",
       "        (2): LeakyReLU(negative_slope=0.2, inplace=True)\n",
       "      )\n",
       "    )\n",
       "    (5): FcBlock(\n",
       "      (fc_seq): BlockList(\n",
       "        (0): Linear(in_features=16, out_features=7, bias=True)\n",
       "        (1): Identity()\n",
       "        (2): LeakyReLU(negative_slope=0.2, inplace=True)\n",
       "      )\n",
       "    )\n",
       "  )\n",
       ")"
      ]
     },
     "execution_count": 109,
     "metadata": {},
     "output_type": "execute_result"
    }
   ],
   "source": [
    "pikes_classes_net.mlp_net"
   ]
  },
  {
   "cell_type": "code",
   "execution_count": 119,
   "id": "4a337978",
   "metadata": {},
   "outputs": [],
   "source": [
    "x = torch.flatten(batch_spikes_data['fft_spikes'], 1).to(torch.float)\n",
    "y = batch_spikes_data['n_spikes'].to(torch.long)\n",
    "y_pred = pikes_classes_net(x)"
   ]
  },
  {
   "cell_type": "code",
   "execution_count": 120,
   "id": "9f0e5885",
   "metadata": {},
   "outputs": [
    {
     "data": {
      "text/plain": [
       "tensor([[0.4994, 0.5375, 0.4893, 0.5345, 0.4926, 0.5745, 0.5070],\n",
       "        [0.4994, 0.5375, 0.4893, 0.5345, 0.4926, 0.5745, 0.5070],\n",
       "        [0.4994, 0.5375, 0.4893, 0.5345, 0.4926, 0.5745, 0.5070],\n",
       "        [0.4994, 0.5375, 0.4893, 0.5345, 0.4926, 0.5745, 0.5070],\n",
       "        [0.4994, 0.5375, 0.4893, 0.5345, 0.4926, 0.5745, 0.5070],\n",
       "        [0.4994, 0.5375, 0.4893, 0.5345, 0.4926, 0.5745, 0.5070],\n",
       "        [0.4994, 0.5375, 0.4893, 0.5345, 0.4926, 0.5745, 0.5070],\n",
       "        [0.4994, 0.5375, 0.4893, 0.5345, 0.4926, 0.5745, 0.5070],\n",
       "        [0.4994, 0.5375, 0.4893, 0.5345, 0.4926, 0.5745, 0.5070],\n",
       "        [0.4994, 0.5375, 0.4893, 0.5345, 0.4926, 0.5745, 0.5070],\n",
       "        [0.4994, 0.5375, 0.4893, 0.5345, 0.4926, 0.5745, 0.5070],\n",
       "        [0.4994, 0.5375, 0.4893, 0.5345, 0.4926, 0.5745, 0.5070],\n",
       "        [0.4994, 0.5375, 0.4893, 0.5345, 0.4926, 0.5745, 0.5070],\n",
       "        [0.4994, 0.5375, 0.4893, 0.5345, 0.4926, 0.5745, 0.5070],\n",
       "        [0.4994, 0.5375, 0.4893, 0.5345, 0.4926, 0.5745, 0.5070],\n",
       "        [0.4994, 0.5375, 0.4893, 0.5345, 0.4926, 0.5745, 0.5070]],\n",
       "       grad_fn=<SigmoidBackward>)"
      ]
     },
     "execution_count": 120,
     "metadata": {},
     "output_type": "execute_result"
    }
   ],
   "source": [
    "y_pred"
   ]
  },
  {
   "cell_type": "code",
   "execution_count": 121,
   "id": "fc8cf0cf",
   "metadata": {},
   "outputs": [
    {
     "ename": "RuntimeError",
     "evalue": "Class values must be smaller than num_classes.",
     "output_type": "error",
     "traceback": [
      "\u001b[0;31m---------------------------------------------------------------------------\u001b[0m",
      "\u001b[0;31mRuntimeError\u001b[0m                              Traceback (most recent call last)",
      "\u001b[0;32m<ipython-input-121-203dffd91cca>\u001b[0m in \u001b[0;36m<module>\u001b[0;34m\u001b[0m\n\u001b[0;32m----> 1\u001b[0;31m \u001b[0mtorch\u001b[0m\u001b[0;34m.\u001b[0m\u001b[0mnn\u001b[0m\u001b[0;34m.\u001b[0m\u001b[0mfunctional\u001b[0m\u001b[0;34m.\u001b[0m\u001b[0mone_hot\u001b[0m\u001b[0;34m(\u001b[0m\u001b[0my\u001b[0m\u001b[0;34m,\u001b[0m \u001b[0mnum_classes\u001b[0m\u001b[0;34m=\u001b[0m\u001b[0;36m7\u001b[0m\u001b[0;34m)\u001b[0m\u001b[0;34m\u001b[0m\u001b[0;34m\u001b[0m\u001b[0m\n\u001b[0m",
      "\u001b[0;31mRuntimeError\u001b[0m: Class values must be smaller than num_classes."
     ]
    }
   ],
   "source": [
    "torch.nn.functional.one_hot(y, num_classes=7)"
   ]
  },
  {
   "cell_type": "code",
   "execution_count": 124,
   "id": "cd129d5e",
   "metadata": {},
   "outputs": [
    {
     "data": {
      "text/plain": [
       "(tensor([[6],\n",
       "         [5],\n",
       "         [7],\n",
       "         [2],\n",
       "         [6],\n",
       "         [2],\n",
       "         [6],\n",
       "         [2],\n",
       "         [6],\n",
       "         [3],\n",
       "         [4],\n",
       "         [3],\n",
       "         [6],\n",
       "         [6],\n",
       "         [5],\n",
       "         [7]]),\n",
       " 7)"
      ]
     },
     "execution_count": 124,
     "metadata": {},
     "output_type": "execute_result"
    }
   ],
   "source": [
    "y, n_classes"
   ]
  },
  {
   "cell_type": "code",
   "execution_count": null,
   "id": "a6b2373d",
   "metadata": {},
   "outputs": [],
   "source": []
  },
  {
   "cell_type": "code",
   "execution_count": null,
   "id": "914477b9",
   "metadata": {},
   "outputs": [],
   "source": []
  }
 ],
 "metadata": {
  "kernelspec": {
   "display_name": "Python 3",
   "language": "python",
   "name": "python3"
  },
  "language_info": {
   "codemirror_mode": {
    "name": "ipython",
    "version": 3
   },
   "file_extension": ".py",
   "mimetype": "text/x-python",
   "name": "python",
   "nbconvert_exporter": "python",
   "pygments_lexer": "ipython3",
   "version": "3.8.9"
  }
 },
 "nbformat": 4,
 "nbformat_minor": 5
}

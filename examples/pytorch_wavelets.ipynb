{
 "cells": [
  {
   "cell_type": "code",
   "execution_count": 1,
   "id": "7b3c1835",
   "metadata": {},
   "outputs": [
    {
     "ename": "ModuleNotFoundError",
     "evalue": "No module named 'pytorch_wavelets'",
     "output_type": "error",
     "traceback": [
      "\u001b[0;31m---------------------------------------------------------------------------\u001b[0m",
      "\u001b[0;31mModuleNotFoundError\u001b[0m                       Traceback (most recent call last)",
      "\u001b[0;32m<ipython-input-1-b9ead42d9d5a>\u001b[0m in \u001b[0;36m<module>\u001b[0;34m\u001b[0m\n\u001b[1;32m     19\u001b[0m \u001b[0;32mfrom\u001b[0m \u001b[0mtorchvision\u001b[0m\u001b[0;34m.\u001b[0m\u001b[0mtransforms\u001b[0m \u001b[0;32mimport\u001b[0m \u001b[0mfunctional\u001b[0m \u001b[0;32mas\u001b[0m \u001b[0mF\u001b[0m\u001b[0;34m\u001b[0m\u001b[0;34m\u001b[0m\u001b[0m\n\u001b[1;32m     20\u001b[0m \u001b[0;32mfrom\u001b[0m \u001b[0mscipy\u001b[0m\u001b[0;34m.\u001b[0m\u001b[0mfft\u001b[0m \u001b[0;32mimport\u001b[0m \u001b[0mfft\u001b[0m\u001b[0;34m,\u001b[0m \u001b[0mrfft\u001b[0m\u001b[0;34m,\u001b[0m \u001b[0mirfft\u001b[0m\u001b[0;34m,\u001b[0m \u001b[0mifft\u001b[0m\u001b[0;34m,\u001b[0m\u001b[0mfftshift\u001b[0m\u001b[0;34m,\u001b[0m \u001b[0mfft2\u001b[0m\u001b[0;34m,\u001b[0m \u001b[0mifft2\u001b[0m\u001b[0;34m,\u001b[0m \u001b[0mdct\u001b[0m\u001b[0;34m,\u001b[0m \u001b[0midct\u001b[0m\u001b[0;34m\u001b[0m\u001b[0;34m\u001b[0m\u001b[0m\n\u001b[0;32m---> 21\u001b[0;31m \u001b[0;32mfrom\u001b[0m \u001b[0mpytorch_wavelets\u001b[0m \u001b[0;32mimport\u001b[0m \u001b[0mDWTForward\u001b[0m\u001b[0;34m,\u001b[0m \u001b[0mDWTInverse\u001b[0m \u001b[0;31m# (or import DWT, IDWT)\u001b[0m\u001b[0;34m\u001b[0m\u001b[0;34m\u001b[0m\u001b[0m\n\u001b[0m",
      "\u001b[0;31mModuleNotFoundError\u001b[0m: No module named 'pytorch_wavelets'"
     ]
    }
   ],
   "source": [
    "import torch\n",
    "from torch import Tensor\n",
    "import numpy as np\n",
    "from typing import Tuple\n",
    "from PIL import Image, ImageOps\n",
    "import matplotlib.pyplot as plt\n",
    "import wget\n",
    "import torchvision\n",
    "from torchvision import transforms\n",
    "import numbers\n",
    "import random\n",
    "import math\n",
    "import torch.nn as nn\n",
    "from PIL import Image, ImageFilter\n",
    "from skimage import color\n",
    "import cv2\n",
    "from scipy.ndimage.interpolation import map_coordinates\n",
    "from scipy.ndimage.filters import gaussian_filter\n",
    "from torchvision.transforms import functional as F\n",
    "from scipy.fft import fft, rfft, irfft, ifft,fftshift, fft2, ifft2, dct, idct\n",
    "from pytorch_wavelets import DWTForward, DWTInverse # (or import DWT, IDWT)"
   ]
  },
  {
   "cell_type": "code",
   "execution_count": null,
   "id": "0bebcdcd",
   "metadata": {},
   "outputs": [],
   "source": [
    "from pytorch_wavelets import DWTForward, DWTInverse "
   ]
  },
  {
   "cell_type": "code",
   "execution_count": null,
   "id": "e1b1ab70",
   "metadata": {},
   "outputs": [],
   "source": [
    "import sys\n",
    "print(\"Python version\")\n",
    "print (sys.version)\n",
    "print(\"Version info.\")\n",
    "print (sys.version_info)"
   ]
  },
  {
   "cell_type": "code",
   "execution_count": null,
   "id": "fe63d592",
   "metadata": {},
   "outputs": [],
   "source": [
    "batch_size_test = 8\n",
    "test_loader_mnist = torch.utils.data.DataLoader(\n",
    "  torchvision.datasets.MNIST('./files/', train=False, download=True,\n",
    "                             transform=torchvision.transforms.Compose([\n",
    "                                 torchvision.transforms.Resize(32),\n",
    "                               torchvision.transforms.ToTensor(),\n",
    "                               torchvision.transforms.Normalize(\n",
    "                                 (0.1307,), (0.3081,),\n",
    "                               )\n",
    "                             ])),\n",
    "  batch_size=batch_size_test, shuffle=False)"
   ]
  },
  {
   "cell_type": "code",
   "execution_count": null,
   "id": "21484d3a",
   "metadata": {},
   "outputs": [],
   "source": [
    "img_batch, targets_batch = next(iter(test_loader_mnist))"
   ]
  },
  {
   "cell_type": "code",
   "execution_count": null,
   "id": "a466a9d6",
   "metadata": {},
   "outputs": [],
   "source": [
    "mnist_img_tensor = img_batch[0][None]\n",
    "mnist_img_np = img_batch[0,0].numpy()"
   ]
  },
  {
   "cell_type": "code",
   "execution_count": null,
   "id": "186ccc00",
   "metadata": {},
   "outputs": [],
   "source": [
    "plt.imshow(mnist_img_tensor, cmap='gray', interpolation='none')"
   ]
  },
  {
   "cell_type": "code",
   "execution_count": null,
   "id": "62e4d613",
   "metadata": {},
   "outputs": [],
   "source": [
    "plt.imshow(mnist_img_np, cmap='gray', interpolation='none')"
   ]
  },
  {
   "cell_type": "code",
   "execution_count": null,
   "id": "826f4830",
   "metadata": {},
   "outputs": [],
   "source": [
    "xfm = DWTForward(J=3, mode='reflect', wave='db3')  # Accepts all wave types available to PyWavelets\n",
    "ifm = DWTInverse(mode='reflect', wave='db3')"
   ]
  },
  {
   "cell_type": "code",
   "execution_count": null,
   "id": "831da590",
   "metadata": {},
   "outputs": [],
   "source": [
    "Yl, Yh = xfm(mnist_img_tensor)"
   ]
  },
  {
   "cell_type": "code",
   "execution_count": null,
   "id": "d5f60281",
   "metadata": {},
   "outputs": [],
   "source": [
    "Yl.shape, len(Yh), [print(hp.shape) for hp in Yh]"
   ]
  },
  {
   "cell_type": "code",
   "execution_count": null,
   "id": "4c622ba8",
   "metadata": {},
   "outputs": [],
   "source": [
    "plt.imshow((Yl[0,0]+5.4)/12.0, cmap='gray', interpolation='none')"
   ]
  },
  {
   "cell_type": "code",
   "execution_count": null,
   "id": "cd218146",
   "metadata": {},
   "outputs": [],
   "source": [
    "Yl[0,0].min(), Yl[0,0].max(), Yl[0,0].mean(), Yl[0,0].std()"
   ]
  },
  {
   "cell_type": "code",
   "execution_count": null,
   "id": "43827139",
   "metadata": {},
   "outputs": [],
   "source": [
    "plt.imshow((Yh[1][0,0,1]+5.4)/12.0, cmap='gray', interpolation='none')"
   ]
  },
  {
   "cell_type": "code",
   "execution_count": null,
   "id": "5ec0af53",
   "metadata": {},
   "outputs": [],
   "source": [
    "img_lena = Image.open(\"lena.jpg\")"
   ]
  },
  {
   "cell_type": "code",
   "execution_count": null,
   "id": "f0d3708e",
   "metadata": {},
   "outputs": [],
   "source": [
    "img_lena_tensor = transforms.ToTensor()(img_lena)"
   ]
  },
  {
   "cell_type": "code",
   "execution_count": null,
   "id": "abed0179",
   "metadata": {},
   "outputs": [],
   "source": [
    "img_lena_tensor.shape"
   ]
  },
  {
   "cell_type": "code",
   "execution_count": null,
   "id": "745dfc1f",
   "metadata": {},
   "outputs": [],
   "source": [
    "plt.imshow(img_lena_tensor.permute(1,2,0), cmap='gray', interpolation='none')"
   ]
  },
  {
   "cell_type": "code",
   "execution_count": null,
   "id": "e1889902",
   "metadata": {},
   "outputs": [],
   "source": [
    "lena_Yl, lena_Yh = xfm(img_lena_tensor[None])"
   ]
  },
  {
   "cell_type": "code",
   "execution_count": null,
   "id": "b37a536d",
   "metadata": {},
   "outputs": [],
   "source": [
    "lena_Yl.shape, lena_Yl.max(), lena_Yl.min()"
   ]
  },
  {
   "cell_type": "code",
   "execution_count": null,
   "id": "e3571b5f",
   "metadata": {},
   "outputs": [],
   "source": [
    "plt.imshow(lena_Yl[0].permute(1,2,0)/2**3, cmap='gray', interpolation='none')"
   ]
  },
  {
   "cell_type": "code",
   "execution_count": null,
   "id": "331e5e03",
   "metadata": {},
   "outputs": [],
   "source": [
    "plt.imshow(lena_Yh[0][0,0].permute(1,2,0)*(2**3), cmap='gray', interpolation='none')"
   ]
  },
  {
   "cell_type": "code",
   "execution_count": null,
   "id": "2f6209c6",
   "metadata": {},
   "outputs": [],
   "source": [
    "lena_Yh[0].shape, lena_Yh[0][0,0].max(), lena_Yh[0][0,0].min(), lena_Yh[0][0,0].mean(), lena_Yh[0][0,0].std()"
   ]
  },
  {
   "cell_type": "code",
   "execution_count": null,
   "id": "271d1d8c",
   "metadata": {},
   "outputs": [],
   "source": [
    "plt.imshow(lena_Yh[0][0,0,0]*2, cmap='gray', interpolation='none')"
   ]
  },
  {
   "cell_type": "code",
   "execution_count": null,
   "id": "8fb41219",
   "metadata": {},
   "outputs": [],
   "source": []
  }
 ],
 "metadata": {
  "kernelspec": {
   "display_name": "Python 3",
   "language": "python",
   "name": "python3"
  },
  "language_info": {
   "codemirror_mode": {
    "name": "ipython",
    "version": 3
   },
   "file_extension": ".py",
   "mimetype": "text/x-python",
   "name": "python",
   "nbconvert_exporter": "python",
   "pygments_lexer": "ipython3",
   "version": "3.8.9"
  }
 },
 "nbformat": 4,
 "nbformat_minor": 5
}

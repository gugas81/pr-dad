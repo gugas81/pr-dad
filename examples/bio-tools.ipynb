{
 "cells": [
  {
   "cell_type": "code",
   "execution_count": 3,
   "id": "e034f6cb",
   "metadata": {},
   "outputs": [],
   "source": [
    "from pathlib import Path\n",
    "import os \n",
    "from tqdm import tqdm\n",
    "import timeit\n",
    "import numpy as np\n",
    "import multiprocessing\n",
    "pool = multiprocessing.Pool()\n",
    "from collections import Counter\n",
    "import matplotlib\n",
    "import matplotlib.pyplot as plt"
   ]
  },
  {
   "cell_type": "code",
   "execution_count": 4,
   "id": "b4f885f9",
   "metadata": {},
   "outputs": [],
   "source": [
    "def count_kmers(sequence, k_size):\n",
    "    data = {}\n",
    "    size = len(sequence)\n",
    "    for i in range(size - k_size + 1):\n",
    "        kmer = sequence[i: i + k_size]\n",
    "        try:\n",
    "            data[kmer] += 1\n",
    "        except KeyError:\n",
    "            data[kmer] = 1\n",
    "    return data\n"
   ]
  },
  {
   "cell_type": "code",
   "execution_count": 5,
   "id": "8f890933",
   "metadata": {},
   "outputs": [],
   "source": [
    "def count_kmers_fast(sequence, k_size):\n",
    "    data = {}\n",
    "    size = len(sequence)\n",
    "    for i in range(size - k_size + 1):\n",
    "        kmer = sequence[i: i + k_size]\n",
    "        if kmer not in data:\n",
    "            data[kmer] = 1\n",
    "        else:\n",
    "            data[kmer] += 1\n",
    "    return data"
   ]
  },
  {
   "cell_type": "code",
   "execution_count": 6,
   "id": "2519eed3",
   "metadata": {},
   "outputs": [],
   "source": [
    "def count_kmers_fast_1(sequence, k_size):\n",
    "    size = len(sequence)\n",
    "    kmers = [sequence[i: i + k_size] for i in range(size - k_size + 1)]\n",
    "    data = dict(Counter(kmers))\n",
    "    return data "
   ]
  },
  {
   "cell_type": "code",
   "execution_count": null,
   "id": "c21cd707",
   "metadata": {},
   "outputs": [],
   "source": [
    "a = dict(Counter(MyList))"
   ]
  },
  {
   "cell_type": "code",
   "execution_count": 222,
   "id": "f5ea6e5e",
   "metadata": {},
   "outputs": [],
   "source": [
    "seq='CGCCTAAATAGCCTCGCGGAGCCTTATGTCATACTCGTCCTGCC'"
   ]
  },
  {
   "cell_type": "code",
   "execution_count": 239,
   "id": "89576d13",
   "metadata": {},
   "outputs": [
    {
     "data": {
      "text/plain": [
       "11"
      ]
     },
     "execution_count": 239,
     "metadata": {},
     "output_type": "execute_result"
    }
   ],
   "source": [
    "len(seq)//4"
   ]
  },
  {
   "cell_type": "code",
   "execution_count": 243,
   "id": "10232bfb",
   "metadata": {},
   "outputs": [
    {
     "data": {
      "text/plain": [
       "<function __main__.<lambda>(seq_)>"
      ]
     },
     "execution_count": 243,
     "metadata": {},
     "output_type": "execute_result"
    }
   ],
   "source": [
    "lambda seq_: np.split(np.array(list(seq_)), len(seq_)//4)"
   ]
  },
  {
   "cell_type": "code",
   "execution_count": 258,
   "id": "6d4cd18d",
   "metadata": {},
   "outputs": [],
   "source": [
    "seq_shiftted=[seq]+[seq[i+1: -(i+1)] for i in range(3)]"
   ]
  },
  {
   "cell_type": "code",
   "execution_count": 259,
   "id": "6b10a43d",
   "metadata": {},
   "outputs": [
    {
     "data": {
      "text/plain": [
       "['CGCCTAAATAGCCTCGCGGAGCCTTATGTCATACTCGTCCTGCC',\n",
       " 'GCCTAAATAGCCTCGCGGAGCCTTATGTCATACTCGTCCTGC',\n",
       " 'CCTAAATAGCCTCGCGGAGCCTTATGTCATACTCGTCCTG',\n",
       " 'CTAAATAGCCTCGCGGAGCCTTATGTCATACTCGTCCT']"
      ]
     },
     "execution_count": 259,
     "metadata": {},
     "output_type": "execute_result"
    }
   ],
   "source": [
    "seq_shiftted"
   ]
  },
  {
   "cell_type": "code",
   "execution_count": 260,
   "id": "9d99dba1",
   "metadata": {},
   "outputs": [
    {
     "ename": "ValueError",
     "evalue": "array split does not result in an equal division",
     "output_type": "error",
     "traceback": [
      "\u001b[0;31m---------------------------------------------------------------------------\u001b[0m",
      "\u001b[0;31mValueError\u001b[0m                                Traceback (most recent call last)",
      "\u001b[0;32m<ipython-input-260-61ae8482c413>\u001b[0m in \u001b[0;36m<module>\u001b[0;34m\u001b[0m\n\u001b[1;32m      1\u001b[0m \u001b[0mkmers\u001b[0m \u001b[0;34m=\u001b[0m \u001b[0;34m[\u001b[0m\u001b[0;34m]\u001b[0m\u001b[0;34m\u001b[0m\u001b[0;34m\u001b[0m\u001b[0m\n\u001b[1;32m      2\u001b[0m \u001b[0;32mfor\u001b[0m \u001b[0msub_seq\u001b[0m \u001b[0;32min\u001b[0m \u001b[0mseq_shiftted\u001b[0m\u001b[0;34m:\u001b[0m\u001b[0;34m\u001b[0m\u001b[0;34m\u001b[0m\u001b[0m\n\u001b[0;32m----> 3\u001b[0;31m     \u001b[0mkmers\u001b[0m \u001b[0;34m+=\u001b[0m \u001b[0mlist\u001b[0m\u001b[0;34m(\u001b[0m\u001b[0mmap\u001b[0m\u001b[0;34m(\u001b[0m\u001b[0;32mlambda\u001b[0m \u001b[0mseq_\u001b[0m\u001b[0;34m:\u001b[0m \u001b[0;34m''\u001b[0m\u001b[0;34m.\u001b[0m\u001b[0mjoin\u001b[0m\u001b[0;34m(\u001b[0m\u001b[0mseq_\u001b[0m\u001b[0;34m)\u001b[0m\u001b[0;34m,\u001b[0m \u001b[0mnp\u001b[0m\u001b[0;34m.\u001b[0m\u001b[0msplit\u001b[0m\u001b[0;34m(\u001b[0m\u001b[0mnp\u001b[0m\u001b[0;34m.\u001b[0m\u001b[0marray\u001b[0m\u001b[0;34m(\u001b[0m\u001b[0mlist\u001b[0m\u001b[0;34m(\u001b[0m\u001b[0msub_seq\u001b[0m\u001b[0;34m)\u001b[0m\u001b[0;34m)\u001b[0m\u001b[0;34m,\u001b[0m  \u001b[0mlen\u001b[0m\u001b[0;34m(\u001b[0m\u001b[0msub_seq\u001b[0m\u001b[0;34m)\u001b[0m\u001b[0;34m//\u001b[0m\u001b[0;36m4\u001b[0m\u001b[0;34m)\u001b[0m\u001b[0;34m)\u001b[0m\u001b[0;34m)\u001b[0m\u001b[0;34m\u001b[0m\u001b[0;34m\u001b[0m\u001b[0m\n\u001b[0m",
      "\u001b[0;32m<__array_function__ internals>\u001b[0m in \u001b[0;36msplit\u001b[0;34m(*args, **kwargs)\u001b[0m\n",
      "\u001b[0;32m~/.envs/phase-retrieval-env/lib/python3.8/site-packages/numpy/lib/shape_base.py\u001b[0m in \u001b[0;36msplit\u001b[0;34m(ary, indices_or_sections, axis)\u001b[0m\n\u001b[1;32m    870\u001b[0m         \u001b[0mN\u001b[0m \u001b[0;34m=\u001b[0m \u001b[0mary\u001b[0m\u001b[0;34m.\u001b[0m\u001b[0mshape\u001b[0m\u001b[0;34m[\u001b[0m\u001b[0maxis\u001b[0m\u001b[0;34m]\u001b[0m\u001b[0;34m\u001b[0m\u001b[0;34m\u001b[0m\u001b[0m\n\u001b[1;32m    871\u001b[0m         \u001b[0;32mif\u001b[0m \u001b[0mN\u001b[0m \u001b[0;34m%\u001b[0m \u001b[0msections\u001b[0m\u001b[0;34m:\u001b[0m\u001b[0;34m\u001b[0m\u001b[0;34m\u001b[0m\u001b[0m\n\u001b[0;32m--> 872\u001b[0;31m             raise ValueError(\n\u001b[0m\u001b[1;32m    873\u001b[0m                 'array split does not result in an equal division') from None\n\u001b[1;32m    874\u001b[0m     \u001b[0;32mreturn\u001b[0m \u001b[0marray_split\u001b[0m\u001b[0;34m(\u001b[0m\u001b[0mary\u001b[0m\u001b[0;34m,\u001b[0m \u001b[0mindices_or_sections\u001b[0m\u001b[0;34m,\u001b[0m \u001b[0maxis\u001b[0m\u001b[0;34m)\u001b[0m\u001b[0;34m\u001b[0m\u001b[0;34m\u001b[0m\u001b[0m\n",
      "\u001b[0;31mValueError\u001b[0m: array split does not result in an equal division"
     ]
    }
   ],
   "source": [
    "kmers = []\n",
    "for sub_seq in seq_shiftted:\n",
    "    kmers += list(map(lambda seq_: ''.join(seq_), np.split(np.array(list(sub_seq)),  len(sub_seq)//4)))"
   ]
  },
  {
   "cell_type": "code",
   "execution_count": 287,
   "id": "b8ae9b61",
   "metadata": {},
   "outputs": [],
   "source": [
    "kmres_5 = count_kmers(seq, 4)"
   ]
  },
  {
   "cell_type": "code",
   "execution_count": 288,
   "id": "7be94d29",
   "metadata": {},
   "outputs": [
    {
     "data": {
      "text/plain": [
       "{'AGCT': 7,\n",
       " 'GCTC': 8,\n",
       " 'CTCC': 6,\n",
       " 'TCCC': 15,\n",
       " 'CCCC': 8,\n",
       " 'CCCT': 10,\n",
       " 'CCTC': 11,\n",
       " 'CTCA': 11,\n",
       " 'TCAT': 6,\n",
       " 'CATT': 8,\n",
       " 'ATTG': 7,\n",
       " 'TTGA': 8,\n",
       " 'TGAT': 10,\n",
       " 'GATA': 17,\n",
       " 'ATAT': 8,\n",
       " 'TATA': 5,\n",
       " 'TATG': 3,\n",
       " 'ATGA': 10,\n",
       " 'TGAA': 5,\n",
       " 'GAAT': 5,\n",
       " 'AATG': 7,\n",
       " 'TGAG': 10,\n",
       " 'GAGT': 5,\n",
       " 'AGTA': 5,\n",
       " 'GTAA': 6,\n",
       " 'TAAC': 10,\n",
       " 'AACT': 14,\n",
       " 'ACTA': 7,\n",
       " 'CTAA': 6,\n",
       " 'TAAG': 6,\n",
       " 'AAGG': 13,\n",
       " 'AGGG': 6,\n",
       " 'GGGG': 6,\n",
       " 'GGGA': 8,\n",
       " 'GGAC': 6,\n",
       " 'GACC': 9,\n",
       " 'ACCC': 11,\n",
       " 'CCTA': 15,\n",
       " 'CTAG': 20,\n",
       " 'TAGA': 9,\n",
       " 'AGAC': 6,\n",
       " 'GACT': 2,\n",
       " 'ACTC': 5,\n",
       " 'CTCG': 7,\n",
       " 'TCGC': 5,\n",
       " 'CGCG': 9,\n",
       " 'GCGG': 6,\n",
       " 'CGGG': 4,\n",
       " 'GGAA': 10,\n",
       " 'GAAA': 9,\n",
       " 'AAAC': 10,\n",
       " 'ACTT': 13,\n",
       " 'CTTC': 8,\n",
       " 'TTCC': 16,\n",
       " 'TCCT': 12,\n",
       " 'TTGG': 9,\n",
       " 'TGGG': 9,\n",
       " 'GGGC': 7,\n",
       " 'GGCG': 8,\n",
       " 'GCGC': 6,\n",
       " 'GCGA': 5,\n",
       " 'CGAC': 5,\n",
       " 'ACCA': 6,\n",
       " 'CCAA': 8,\n",
       " 'CAAT': 12,\n",
       " 'AATT': 11,\n",
       " 'ATTT': 13,\n",
       " 'TTTT': 11,\n",
       " 'TTTA': 10,\n",
       " 'TTAT': 6,\n",
       " 'TATT': 16,\n",
       " 'ATTC': 15,\n",
       " 'TAGG': 11,\n",
       " 'AGGT': 10,\n",
       " 'GGTA': 14,\n",
       " 'GTAC': 5,\n",
       " 'TACC': 8,\n",
       " 'ACCG': 6,\n",
       " 'CCGA': 6,\n",
       " 'GACA': 5,\n",
       " 'ACAA': 8,\n",
       " 'CAAA': 6,\n",
       " 'AAAA': 6,\n",
       " 'AAAT': 10,\n",
       " 'AATA': 9,\n",
       " 'ATAG': 6,\n",
       " 'TAGC': 9,\n",
       " 'AGCC': 9,\n",
       " 'GCCT': 11,\n",
       " 'AGAT': 9,\n",
       " 'GATT': 8,\n",
       " 'ATTA': 8,\n",
       " 'TTAG': 8,\n",
       " 'AGGA': 12,\n",
       " 'GGAT': 11,\n",
       " 'GTAG': 8,\n",
       " 'GACG': 6,\n",
       " 'ACGT': 9,\n",
       " 'CGTT': 9,\n",
       " 'GTTT': 4,\n",
       " 'TTTG': 7,\n",
       " 'TTGC': 5,\n",
       " 'TGCG': 3,\n",
       " 'CGGA': 9,\n",
       " 'GAAG': 6,\n",
       " 'AAGC': 3,\n",
       " 'AGCA': 15,\n",
       " 'GCAG': 11,\n",
       " 'CAGC': 12,\n",
       " 'GCAT': 2,\n",
       " 'CATG': 5,\n",
       " 'GATC': 3,\n",
       " 'ATCG': 3,\n",
       " 'TCGT': 4,\n",
       " 'GTTA': 4,\n",
       " 'GGGT': 4,\n",
       " 'GGTG': 8,\n",
       " 'GTGA': 4,\n",
       " 'GAAC': 7,\n",
       " 'TTCT': 9,\n",
       " 'TCTG': 9,\n",
       " 'CTGG': 4,\n",
       " 'TGGT': 5,\n",
       " 'GGTT': 6,\n",
       " 'GTTG': 8,\n",
       " 'TGGC': 6,\n",
       " 'GGCT': 4,\n",
       " 'TCGA': 5,\n",
       " 'CGAG': 5,\n",
       " 'AGTG': 6,\n",
       " 'GTGG': 7,\n",
       " 'ACGG': 14,\n",
       " 'GGAG': 6,\n",
       " 'GAGA': 8,\n",
       " 'AGAA': 6,\n",
       " 'ATGT': 3,\n",
       " 'TGTT': 4,\n",
       " 'TAGT': 13,\n",
       " 'AGTC': 13,\n",
       " 'GTCT': 9,\n",
       " 'CTGA': 8,\n",
       " 'ATAC': 13,\n",
       " 'TACG': 9,\n",
       " 'CGTC': 6,\n",
       " 'TACT': 8,\n",
       " 'CTTG': 4,\n",
       " 'TTGT': 4,\n",
       " 'TGTC': 7,\n",
       " 'CCCA': 12,\n",
       " 'CCAG': 7,\n",
       " 'CAGG': 5,\n",
       " 'AGGC': 6,\n",
       " 'CGCA': 6,\n",
       " 'GCAC': 10,\n",
       " 'CACA': 5,\n",
       " 'ACAT': 4,\n",
       " 'TTAA': 8,\n",
       " 'GGCA': 9,\n",
       " 'CACT': 5,\n",
       " 'CTTT': 10,\n",
       " 'TTTC': 10,\n",
       " 'CCTT': 2,\n",
       " 'TATC': 9,\n",
       " 'ATCA': 5,\n",
       " 'TCAG': 11,\n",
       " 'GTAT': 11,\n",
       " 'ATCC': 6,\n",
       " 'GTGC': 5,\n",
       " 'TGCT': 10,\n",
       " 'GCTA': 11,\n",
       " 'AGTT': 3,\n",
       " 'GTTC': 6,\n",
       " 'TCCG': 9,\n",
       " 'CCGC': 12,\n",
       " 'AAGA': 6,\n",
       " 'AGAG': 8,\n",
       " 'CTAC': 5,\n",
       " 'GTCA': 4,\n",
       " 'ATGC': 4,\n",
       " 'GCTG': 4,\n",
       " 'CTGT': 6,\n",
       " 'TTAC': 4,\n",
       " 'CCCG': 8,\n",
       " 'CGAA': 6,\n",
       " 'GATG': 6,\n",
       " 'TCTC': 6,\n",
       " 'TCAA': 5,\n",
       " 'CAAG': 9,\n",
       " 'AAGT': 2,\n",
       " 'TCAC': 8,\n",
       " 'CACC': 8,\n",
       " 'CCTG': 7,\n",
       " 'TGAC': 5,\n",
       " 'CCGG': 9,\n",
       " 'CGGC': 6,\n",
       " 'ACCT': 2,\n",
       " 'TGTA': 4,\n",
       " 'TGCA': 4,\n",
       " 'CAGA': 6,\n",
       " 'GAGC': 11,\n",
       " 'GCAA': 11,\n",
       " 'CAAC': 5,\n",
       " 'AACG': 14,\n",
       " 'GCGT': 8,\n",
       " 'CGTG': 4,\n",
       " 'CTAT': 8,\n",
       " 'CTGC': 6,\n",
       " 'GAGG': 5,\n",
       " 'ATCT': 4,\n",
       " 'TCTA': 6,\n",
       " 'GCCC': 4,\n",
       " 'AGCG': 5,\n",
       " 'GTCG': 3,\n",
       " 'TCGG': 3,\n",
       " 'AACA': 4,\n",
       " 'ATAA': 7,\n",
       " 'TACA': 2,\n",
       " 'GGCC': 4,\n",
       " 'CTCT': 6,\n",
       " 'TTCA': 10,\n",
       " 'GCTT': 4,\n",
       " 'CGCC': 10,\n",
       " 'GCCG': 9,\n",
       " 'CCGT': 5,\n",
       " 'CGTA': 7,\n",
       " 'CAGT': 7,\n",
       " 'GTCC': 14,\n",
       " 'TCCA': 6,\n",
       " 'TAAT': 3,\n",
       " 'CACG': 7,\n",
       " 'ACGC': 9,\n",
       " 'TGCC': 3,\n",
       " 'ACTG': 4,\n",
       " 'CGCT': 6,\n",
       " 'TCTT': 7,\n",
       " 'CCAC': 4,\n",
       " 'CCAT': 7,\n",
       " 'ATGG': 4,\n",
       " 'TGGA': 4,\n",
       " 'ACGA': 4,\n",
       " 'CATC': 3,\n",
       " 'AAAG': 3,\n",
       " 'TAAA': 8,\n",
       " 'CGGT': 13,\n",
       " 'GTGT': 4,\n",
       " 'GGTC': 4,\n",
       " 'ACAC': 3,\n",
       " 'TGTG': 2,\n",
       " 'AATC': 3,\n",
       " 'GCCA': 2,\n",
       " 'CATA': 3,\n",
       " 'TTCG': 4,\n",
       " 'CTTA': 4,\n",
       " 'CGAT': 4,\n",
       " 'ACAG': 1}"
      ]
     },
     "execution_count": 288,
     "metadata": {},
     "output_type": "execute_result"
    }
   ],
   "source": [
    "kmres_5"
   ]
  },
  {
   "cell_type": "code",
   "execution_count": 289,
   "id": "5f969d36",
   "metadata": {},
   "outputs": [],
   "source": [
    "kmres_4_q = count_kmers_fast(seq, 4)"
   ]
  },
  {
   "cell_type": "code",
   "execution_count": 290,
   "id": "5ba726a7",
   "metadata": {},
   "outputs": [
    {
     "data": {
      "text/plain": [
       "{'AGCT': 7,\n",
       " 'GCTC': 8,\n",
       " 'CTCC': 6,\n",
       " 'TCCC': 15,\n",
       " 'CCCC': 8,\n",
       " 'CCCT': 10,\n",
       " 'CCTC': 11,\n",
       " 'CTCA': 11,\n",
       " 'TCAT': 6,\n",
       " 'CATT': 8,\n",
       " 'ATTG': 7,\n",
       " 'TTGA': 8,\n",
       " 'TGAT': 10,\n",
       " 'GATA': 17,\n",
       " 'ATAT': 8,\n",
       " 'TATA': 5,\n",
       " 'TATG': 3,\n",
       " 'ATGA': 10,\n",
       " 'TGAA': 5,\n",
       " 'GAAT': 5,\n",
       " 'AATG': 7,\n",
       " 'TGAG': 10,\n",
       " 'GAGT': 5,\n",
       " 'AGTA': 5,\n",
       " 'GTAA': 6,\n",
       " 'TAAC': 10,\n",
       " 'AACT': 14,\n",
       " 'ACTA': 7,\n",
       " 'CTAA': 6,\n",
       " 'TAAG': 6,\n",
       " 'AAGG': 13,\n",
       " 'AGGG': 6,\n",
       " 'GGGG': 6,\n",
       " 'GGGA': 8,\n",
       " 'GGAC': 6,\n",
       " 'GACC': 9,\n",
       " 'ACCC': 11,\n",
       " 'CCTA': 15,\n",
       " 'CTAG': 20,\n",
       " 'TAGA': 9,\n",
       " 'AGAC': 6,\n",
       " 'GACT': 2,\n",
       " 'ACTC': 5,\n",
       " 'CTCG': 7,\n",
       " 'TCGC': 5,\n",
       " 'CGCG': 9,\n",
       " 'GCGG': 6,\n",
       " 'CGGG': 4,\n",
       " 'GGAA': 10,\n",
       " 'GAAA': 9,\n",
       " 'AAAC': 10,\n",
       " 'ACTT': 13,\n",
       " 'CTTC': 8,\n",
       " 'TTCC': 16,\n",
       " 'TCCT': 12,\n",
       " 'TTGG': 9,\n",
       " 'TGGG': 9,\n",
       " 'GGGC': 7,\n",
       " 'GGCG': 8,\n",
       " 'GCGC': 6,\n",
       " 'GCGA': 5,\n",
       " 'CGAC': 5,\n",
       " 'ACCA': 6,\n",
       " 'CCAA': 8,\n",
       " 'CAAT': 12,\n",
       " 'AATT': 11,\n",
       " 'ATTT': 13,\n",
       " 'TTTT': 11,\n",
       " 'TTTA': 10,\n",
       " 'TTAT': 6,\n",
       " 'TATT': 16,\n",
       " 'ATTC': 15,\n",
       " 'TAGG': 11,\n",
       " 'AGGT': 10,\n",
       " 'GGTA': 14,\n",
       " 'GTAC': 5,\n",
       " 'TACC': 8,\n",
       " 'ACCG': 6,\n",
       " 'CCGA': 6,\n",
       " 'GACA': 5,\n",
       " 'ACAA': 8,\n",
       " 'CAAA': 6,\n",
       " 'AAAA': 6,\n",
       " 'AAAT': 10,\n",
       " 'AATA': 9,\n",
       " 'ATAG': 6,\n",
       " 'TAGC': 9,\n",
       " 'AGCC': 9,\n",
       " 'GCCT': 11,\n",
       " 'AGAT': 9,\n",
       " 'GATT': 8,\n",
       " 'ATTA': 8,\n",
       " 'TTAG': 8,\n",
       " 'AGGA': 12,\n",
       " 'GGAT': 11,\n",
       " 'GTAG': 8,\n",
       " 'GACG': 6,\n",
       " 'ACGT': 9,\n",
       " 'CGTT': 9,\n",
       " 'GTTT': 4,\n",
       " 'TTTG': 7,\n",
       " 'TTGC': 5,\n",
       " 'TGCG': 3,\n",
       " 'CGGA': 9,\n",
       " 'GAAG': 6,\n",
       " 'AAGC': 3,\n",
       " 'AGCA': 15,\n",
       " 'GCAG': 11,\n",
       " 'CAGC': 12,\n",
       " 'GCAT': 2,\n",
       " 'CATG': 5,\n",
       " 'GATC': 3,\n",
       " 'ATCG': 3,\n",
       " 'TCGT': 4,\n",
       " 'GTTA': 4,\n",
       " 'GGGT': 4,\n",
       " 'GGTG': 8,\n",
       " 'GTGA': 4,\n",
       " 'GAAC': 7,\n",
       " 'TTCT': 9,\n",
       " 'TCTG': 9,\n",
       " 'CTGG': 4,\n",
       " 'TGGT': 5,\n",
       " 'GGTT': 6,\n",
       " 'GTTG': 8,\n",
       " 'TGGC': 6,\n",
       " 'GGCT': 4,\n",
       " 'TCGA': 5,\n",
       " 'CGAG': 5,\n",
       " 'AGTG': 6,\n",
       " 'GTGG': 7,\n",
       " 'ACGG': 14,\n",
       " 'GGAG': 6,\n",
       " 'GAGA': 8,\n",
       " 'AGAA': 6,\n",
       " 'ATGT': 3,\n",
       " 'TGTT': 4,\n",
       " 'TAGT': 13,\n",
       " 'AGTC': 13,\n",
       " 'GTCT': 9,\n",
       " 'CTGA': 8,\n",
       " 'ATAC': 13,\n",
       " 'TACG': 9,\n",
       " 'CGTC': 6,\n",
       " 'TACT': 8,\n",
       " 'CTTG': 4,\n",
       " 'TTGT': 4,\n",
       " 'TGTC': 7,\n",
       " 'CCCA': 12,\n",
       " 'CCAG': 7,\n",
       " 'CAGG': 5,\n",
       " 'AGGC': 6,\n",
       " 'CGCA': 6,\n",
       " 'GCAC': 10,\n",
       " 'CACA': 5,\n",
       " 'ACAT': 4,\n",
       " 'TTAA': 8,\n",
       " 'GGCA': 9,\n",
       " 'CACT': 5,\n",
       " 'CTTT': 10,\n",
       " 'TTTC': 10,\n",
       " 'CCTT': 2,\n",
       " 'TATC': 9,\n",
       " 'ATCA': 5,\n",
       " 'TCAG': 11,\n",
       " 'GTAT': 11,\n",
       " 'ATCC': 6,\n",
       " 'GTGC': 5,\n",
       " 'TGCT': 10,\n",
       " 'GCTA': 11,\n",
       " 'AGTT': 3,\n",
       " 'GTTC': 6,\n",
       " 'TCCG': 9,\n",
       " 'CCGC': 12,\n",
       " 'AAGA': 6,\n",
       " 'AGAG': 8,\n",
       " 'CTAC': 5,\n",
       " 'GTCA': 4,\n",
       " 'ATGC': 4,\n",
       " 'GCTG': 4,\n",
       " 'CTGT': 6,\n",
       " 'TTAC': 4,\n",
       " 'CCCG': 8,\n",
       " 'CGAA': 6,\n",
       " 'GATG': 6,\n",
       " 'TCTC': 6,\n",
       " 'TCAA': 5,\n",
       " 'CAAG': 9,\n",
       " 'AAGT': 2,\n",
       " 'TCAC': 8,\n",
       " 'CACC': 8,\n",
       " 'CCTG': 7,\n",
       " 'TGAC': 5,\n",
       " 'CCGG': 9,\n",
       " 'CGGC': 6,\n",
       " 'ACCT': 2,\n",
       " 'TGTA': 4,\n",
       " 'TGCA': 4,\n",
       " 'CAGA': 6,\n",
       " 'GAGC': 11,\n",
       " 'GCAA': 11,\n",
       " 'CAAC': 5,\n",
       " 'AACG': 14,\n",
       " 'GCGT': 8,\n",
       " 'CGTG': 4,\n",
       " 'CTAT': 8,\n",
       " 'CTGC': 6,\n",
       " 'GAGG': 5,\n",
       " 'ATCT': 4,\n",
       " 'TCTA': 6,\n",
       " 'GCCC': 4,\n",
       " 'AGCG': 5,\n",
       " 'GTCG': 3,\n",
       " 'TCGG': 3,\n",
       " 'AACA': 4,\n",
       " 'ATAA': 7,\n",
       " 'TACA': 2,\n",
       " 'GGCC': 4,\n",
       " 'CTCT': 6,\n",
       " 'TTCA': 10,\n",
       " 'GCTT': 4,\n",
       " 'CGCC': 10,\n",
       " 'GCCG': 9,\n",
       " 'CCGT': 5,\n",
       " 'CGTA': 7,\n",
       " 'CAGT': 7,\n",
       " 'GTCC': 14,\n",
       " 'TCCA': 6,\n",
       " 'TAAT': 3,\n",
       " 'CACG': 7,\n",
       " 'ACGC': 9,\n",
       " 'TGCC': 3,\n",
       " 'ACTG': 4,\n",
       " 'CGCT': 6,\n",
       " 'TCTT': 7,\n",
       " 'CCAC': 4,\n",
       " 'CCAT': 7,\n",
       " 'ATGG': 4,\n",
       " 'TGGA': 4,\n",
       " 'ACGA': 4,\n",
       " 'CATC': 3,\n",
       " 'AAAG': 3,\n",
       " 'TAAA': 8,\n",
       " 'CGGT': 13,\n",
       " 'GTGT': 4,\n",
       " 'GGTC': 4,\n",
       " 'ACAC': 3,\n",
       " 'TGTG': 2,\n",
       " 'AATC': 3,\n",
       " 'GCCA': 2,\n",
       " 'CATA': 3,\n",
       " 'TTCG': 4,\n",
       " 'CTTA': 4,\n",
       " 'CGAT': 4,\n",
       " 'ACAG': 1}"
      ]
     },
     "execution_count": 290,
     "metadata": {},
     "output_type": "execute_result"
    }
   ],
   "source": [
    "kmres_4_q "
   ]
  },
  {
   "cell_type": "code",
   "execution_count": 291,
   "id": "2e2e35da",
   "metadata": {},
   "outputs": [
    {
     "data": {
      "text/plain": [
       "{'AGCT': 7,\n",
       " 'GCTC': 8,\n",
       " 'CTCC': 6,\n",
       " 'TCCC': 15,\n",
       " 'CCCC': 8,\n",
       " 'CCCT': 10,\n",
       " 'CCTC': 11,\n",
       " 'CTCA': 11,\n",
       " 'TCAT': 6,\n",
       " 'CATT': 8,\n",
       " 'ATTG': 7,\n",
       " 'TTGA': 8,\n",
       " 'TGAT': 10,\n",
       " 'GATA': 17,\n",
       " 'ATAT': 8,\n",
       " 'TATA': 5,\n",
       " 'TATG': 3,\n",
       " 'ATGA': 10,\n",
       " 'TGAA': 5,\n",
       " 'GAAT': 5,\n",
       " 'AATG': 7,\n",
       " 'TGAG': 10,\n",
       " 'GAGT': 5,\n",
       " 'AGTA': 5,\n",
       " 'GTAA': 6,\n",
       " 'TAAC': 10,\n",
       " 'AACT': 14,\n",
       " 'ACTA': 7,\n",
       " 'CTAA': 6,\n",
       " 'TAAG': 6,\n",
       " 'AAGG': 13,\n",
       " 'AGGG': 6,\n",
       " 'GGGG': 6,\n",
       " 'GGGA': 8,\n",
       " 'GGAC': 6,\n",
       " 'GACC': 9,\n",
       " 'ACCC': 11,\n",
       " 'CCTA': 15,\n",
       " 'CTAG': 20,\n",
       " 'TAGA': 9,\n",
       " 'AGAC': 6,\n",
       " 'GACT': 2,\n",
       " 'ACTC': 5,\n",
       " 'CTCG': 7,\n",
       " 'TCGC': 5,\n",
       " 'CGCG': 9,\n",
       " 'GCGG': 6,\n",
       " 'CGGG': 4,\n",
       " 'GGAA': 10,\n",
       " 'GAAA': 9,\n",
       " 'AAAC': 10,\n",
       " 'ACTT': 13,\n",
       " 'CTTC': 8,\n",
       " 'TTCC': 16,\n",
       " 'TCCT': 12,\n",
       " 'TTGG': 9,\n",
       " 'TGGG': 9,\n",
       " 'GGGC': 7,\n",
       " 'GGCG': 8,\n",
       " 'GCGC': 6,\n",
       " 'GCGA': 5,\n",
       " 'CGAC': 5,\n",
       " 'ACCA': 6,\n",
       " 'CCAA': 8,\n",
       " 'CAAT': 12,\n",
       " 'AATT': 11,\n",
       " 'ATTT': 13,\n",
       " 'TTTT': 11,\n",
       " 'TTTA': 10,\n",
       " 'TTAT': 6,\n",
       " 'TATT': 16,\n",
       " 'ATTC': 15,\n",
       " 'TAGG': 11,\n",
       " 'AGGT': 10,\n",
       " 'GGTA': 14,\n",
       " 'GTAC': 5,\n",
       " 'TACC': 8,\n",
       " 'ACCG': 6,\n",
       " 'CCGA': 6,\n",
       " 'GACA': 5,\n",
       " 'ACAA': 8,\n",
       " 'CAAA': 6,\n",
       " 'AAAA': 6,\n",
       " 'AAAT': 10,\n",
       " 'AATA': 9,\n",
       " 'ATAG': 6,\n",
       " 'TAGC': 9,\n",
       " 'AGCC': 9,\n",
       " 'GCCT': 11,\n",
       " 'AGAT': 9,\n",
       " 'GATT': 8,\n",
       " 'ATTA': 8,\n",
       " 'TTAG': 8,\n",
       " 'AGGA': 12,\n",
       " 'GGAT': 11,\n",
       " 'GTAG': 8,\n",
       " 'GACG': 6,\n",
       " 'ACGT': 9,\n",
       " 'CGTT': 9,\n",
       " 'GTTT': 4,\n",
       " 'TTTG': 7,\n",
       " 'TTGC': 5,\n",
       " 'TGCG': 3,\n",
       " 'CGGA': 9,\n",
       " 'GAAG': 6,\n",
       " 'AAGC': 3,\n",
       " 'AGCA': 15,\n",
       " 'GCAG': 11,\n",
       " 'CAGC': 12,\n",
       " 'GCAT': 2,\n",
       " 'CATG': 5,\n",
       " 'GATC': 3,\n",
       " 'ATCG': 3,\n",
       " 'TCGT': 4,\n",
       " 'GTTA': 4,\n",
       " 'GGGT': 4,\n",
       " 'GGTG': 8,\n",
       " 'GTGA': 4,\n",
       " 'GAAC': 7,\n",
       " 'TTCT': 9,\n",
       " 'TCTG': 9,\n",
       " 'CTGG': 4,\n",
       " 'TGGT': 5,\n",
       " 'GGTT': 6,\n",
       " 'GTTG': 8,\n",
       " 'TGGC': 6,\n",
       " 'GGCT': 4,\n",
       " 'TCGA': 5,\n",
       " 'CGAG': 5,\n",
       " 'AGTG': 6,\n",
       " 'GTGG': 7,\n",
       " 'ACGG': 14,\n",
       " 'GGAG': 6,\n",
       " 'GAGA': 8,\n",
       " 'AGAA': 6,\n",
       " 'ATGT': 3,\n",
       " 'TGTT': 4,\n",
       " 'TAGT': 13,\n",
       " 'AGTC': 13,\n",
       " 'GTCT': 9,\n",
       " 'CTGA': 8,\n",
       " 'ATAC': 13,\n",
       " 'TACG': 9,\n",
       " 'CGTC': 6,\n",
       " 'TACT': 8,\n",
       " 'CTTG': 4,\n",
       " 'TTGT': 4,\n",
       " 'TGTC': 7,\n",
       " 'CCCA': 12,\n",
       " 'CCAG': 7,\n",
       " 'CAGG': 5,\n",
       " 'AGGC': 6,\n",
       " 'CGCA': 6,\n",
       " 'GCAC': 10,\n",
       " 'CACA': 5,\n",
       " 'ACAT': 4,\n",
       " 'TTAA': 8,\n",
       " 'GGCA': 9,\n",
       " 'CACT': 5,\n",
       " 'CTTT': 10,\n",
       " 'TTTC': 10,\n",
       " 'CCTT': 2,\n",
       " 'TATC': 9,\n",
       " 'ATCA': 5,\n",
       " 'TCAG': 11,\n",
       " 'GTAT': 11,\n",
       " 'ATCC': 6,\n",
       " 'GTGC': 5,\n",
       " 'TGCT': 10,\n",
       " 'GCTA': 11,\n",
       " 'AGTT': 3,\n",
       " 'GTTC': 6,\n",
       " 'TCCG': 9,\n",
       " 'CCGC': 12,\n",
       " 'AAGA': 6,\n",
       " 'AGAG': 8,\n",
       " 'CTAC': 5,\n",
       " 'GTCA': 4,\n",
       " 'ATGC': 4,\n",
       " 'GCTG': 4,\n",
       " 'CTGT': 6,\n",
       " 'TTAC': 4,\n",
       " 'CCCG': 8,\n",
       " 'CGAA': 6,\n",
       " 'GATG': 6,\n",
       " 'TCTC': 6,\n",
       " 'TCAA': 5,\n",
       " 'CAAG': 9,\n",
       " 'AAGT': 2,\n",
       " 'TCAC': 8,\n",
       " 'CACC': 8,\n",
       " 'CCTG': 7,\n",
       " 'TGAC': 5,\n",
       " 'CCGG': 9,\n",
       " 'CGGC': 6,\n",
       " 'ACCT': 2,\n",
       " 'TGTA': 4,\n",
       " 'TGCA': 4,\n",
       " 'CAGA': 6,\n",
       " 'GAGC': 11,\n",
       " 'GCAA': 11,\n",
       " 'CAAC': 5,\n",
       " 'AACG': 14,\n",
       " 'GCGT': 8,\n",
       " 'CGTG': 4,\n",
       " 'CTAT': 8,\n",
       " 'CTGC': 6,\n",
       " 'GAGG': 5,\n",
       " 'ATCT': 4,\n",
       " 'TCTA': 6,\n",
       " 'GCCC': 4,\n",
       " 'AGCG': 5,\n",
       " 'GTCG': 3,\n",
       " 'TCGG': 3,\n",
       " 'AACA': 4,\n",
       " 'ATAA': 7,\n",
       " 'TACA': 2,\n",
       " 'GGCC': 4,\n",
       " 'CTCT': 6,\n",
       " 'TTCA': 10,\n",
       " 'GCTT': 4,\n",
       " 'CGCC': 10,\n",
       " 'GCCG': 9,\n",
       " 'CCGT': 5,\n",
       " 'CGTA': 7,\n",
       " 'CAGT': 7,\n",
       " 'GTCC': 14,\n",
       " 'TCCA': 6,\n",
       " 'TAAT': 3,\n",
       " 'CACG': 7,\n",
       " 'ACGC': 9,\n",
       " 'TGCC': 3,\n",
       " 'ACTG': 4,\n",
       " 'CGCT': 6,\n",
       " 'TCTT': 7,\n",
       " 'CCAC': 4,\n",
       " 'CCAT': 7,\n",
       " 'ATGG': 4,\n",
       " 'TGGA': 4,\n",
       " 'ACGA': 4,\n",
       " 'CATC': 3,\n",
       " 'AAAG': 3,\n",
       " 'TAAA': 8,\n",
       " 'CGGT': 13,\n",
       " 'GTGT': 4,\n",
       " 'GGTC': 4,\n",
       " 'ACAC': 3,\n",
       " 'TGTG': 2,\n",
       " 'AATC': 3,\n",
       " 'GCCA': 2,\n",
       " 'CATA': 3,\n",
       " 'TTCG': 4,\n",
       " 'CTTA': 4,\n",
       " 'CGAT': 4,\n",
       " 'ACAG': 1}"
      ]
     },
     "execution_count": 291,
     "metadata": {},
     "output_type": "execute_result"
    }
   ],
   "source": [
    "count_kmers_fast_1(seq, 4)"
   ]
  },
  {
   "cell_type": "code",
   "execution_count": 301,
   "id": "12e7a436",
   "metadata": {},
   "outputs": [
    {
     "data": {
      "text/plain": [
       "4.7653643499998"
      ]
     },
     "execution_count": 301,
     "metadata": {},
     "output_type": "execute_result"
    }
   ],
   "source": [
    "timeit.timeit(lambda: count_kmers_fast(seq, 9), number=1000)"
   ]
  },
  {
   "cell_type": "code",
   "execution_count": 302,
   "id": "e1a37348",
   "metadata": {},
   "outputs": [
    {
     "data": {
      "text/plain": [
       "7.582477744999778"
      ]
     },
     "execution_count": 302,
     "metadata": {},
     "output_type": "execute_result"
    }
   ],
   "source": [
    "timeit.timeit(lambda: count_kmers(seq, 9), number=10000)"
   ]
  },
  {
   "cell_type": "code",
   "execution_count": 304,
   "id": "aa181ccf",
   "metadata": {},
   "outputs": [
    {
     "data": {
      "text/plain": [
       "4.719371380999291"
      ]
     },
     "execution_count": 304,
     "metadata": {},
     "output_type": "execute_result"
    }
   ],
   "source": [
    "timeit.timeit(lambda: count_kmers_fast_1(seq, 9), number=10000)"
   ]
  },
  {
   "cell_type": "code",
   "execution_count": 225,
   "id": "3c11ef7e",
   "metadata": {},
   "outputs": [
    {
     "data": {
      "text/plain": [
       "{'CGCC': 1,\n",
       " 'GCCT': 3,\n",
       " 'CCTA': 1,\n",
       " 'CTAA': 1,\n",
       " 'TAAA': 1,\n",
       " 'AAAT': 1,\n",
       " 'AATA': 1,\n",
       " 'ATAG': 1,\n",
       " 'TAGC': 1,\n",
       " 'AGCC': 2,\n",
       " 'CCTC': 1,\n",
       " 'CTCG': 2,\n",
       " 'TCGC': 1,\n",
       " 'CGCG': 1,\n",
       " 'GCGG': 1,\n",
       " 'CGGA': 1,\n",
       " 'GGAG': 1,\n",
       " 'GAGC': 1,\n",
       " 'CCTT': 1,\n",
       " 'CTTA': 1,\n",
       " 'TTAT': 1,\n",
       " 'TATG': 1,\n",
       " 'ATGT': 1,\n",
       " 'TGTC': 1,\n",
       " 'GTCA': 1,\n",
       " 'TCAT': 1,\n",
       " 'CATA': 1,\n",
       " 'ATAC': 1,\n",
       " 'TACT': 1,\n",
       " 'ACTC': 1,\n",
       " 'TCGT': 1,\n",
       " 'CGTC': 1,\n",
       " 'GTCC': 1,\n",
       " 'TCCT': 1,\n",
       " 'CCTG': 1,\n",
       " 'CTGC': 1,\n",
       " 'TGCC': 1}"
      ]
     },
     "execution_count": 225,
     "metadata": {},
     "output_type": "execute_result"
    }
   ],
   "source": [
    "kmres_4_q"
   ]
  },
  {
   "cell_type": "code",
   "execution_count": 215,
   "id": "58b0f468",
   "metadata": {},
   "outputs": [
    {
     "data": {
      "text/plain": [
       "{'CGCC': 1,\n",
       " 'GCCT': 3,\n",
       " 'CCTA': 1,\n",
       " 'CTAA': 1,\n",
       " 'TAAA': 1,\n",
       " 'AAAT': 1,\n",
       " 'AATA': 1,\n",
       " 'ATAG': 1,\n",
       " 'TAGC': 1,\n",
       " 'AGCC': 2,\n",
       " 'CCTC': 1,\n",
       " 'CTCG': 2,\n",
       " 'TCGC': 1,\n",
       " 'CGCG': 1,\n",
       " 'GCGG': 1,\n",
       " 'CGGA': 1,\n",
       " 'GGAG': 1,\n",
       " 'GAGC': 1,\n",
       " 'CCTT': 1,\n",
       " 'CTTA': 1,\n",
       " 'TTAT': 1,\n",
       " 'TATG': 1,\n",
       " 'ATGT': 1,\n",
       " 'TGTC': 1,\n",
       " 'GTCA': 1,\n",
       " 'TCAT': 1,\n",
       " 'CATA': 1,\n",
       " 'ATAC': 1,\n",
       " 'TACT': 1,\n",
       " 'ACTC': 1,\n",
       " 'TCGT': 1,\n",
       " 'CGTC': 1,\n",
       " 'GTCC': 1,\n",
       " 'TCCT': 1,\n",
       " 'CCTG': 1,\n",
       " 'CTGC': 1,\n",
       " 'TGCC': 1}"
      ]
     },
     "execution_count": 215,
     "metadata": {},
     "output_type": "execute_result"
    }
   ],
   "source": [
    "kmres_4"
   ]
  },
  {
   "cell_type": "code",
   "execution_count": null,
   "id": "1833dfe3",
   "metadata": {},
   "outputs": [],
   "source": []
  },
  {
   "cell_type": "code",
   "execution_count": 50,
   "id": "7155dedd",
   "metadata": {},
   "outputs": [
    {
     "data": {
      "text/plain": [
       "4"
      ]
     },
     "execution_count": 50,
     "metadata": {},
     "output_type": "execute_result"
    }
   ],
   "source": [
    "max(kmres_3.values())"
   ]
  },
  {
   "cell_type": "code",
   "execution_count": 61,
   "id": "ea4c3322",
   "metadata": {},
   "outputs": [
    {
     "data": {
      "text/plain": [
       "{'AGC', 'ATA', 'CCT', 'CGC', 'CTC', 'GCC', 'GTC', 'TCG'}"
      ]
     },
     "execution_count": 61,
     "metadata": {},
     "output_type": "execute_result"
    }
   ],
   "source": [
    "set(dict(filter(lambda x: x[1]>=2, kmres_3.items())).keys())"
   ]
  },
  {
   "cell_type": "code",
   "execution_count": 51,
   "id": "b838483b",
   "metadata": {},
   "outputs": [
    {
     "ename": "SyntaxError",
     "evalue": "invalid syntax (<ipython-input-51-278b0025cebc>, line 1)",
     "output_type": "error",
     "traceback": [
      "\u001b[0;36m  File \u001b[0;32m\"<ipython-input-51-278b0025cebc>\"\u001b[0;36m, line \u001b[0;32m1\u001b[0m\n\u001b[0;31m    [k if v == max(kmres_3.values())  for k,v in kmres_3.items()]\u001b[0m\n\u001b[0m                                      ^\u001b[0m\n\u001b[0;31mSyntaxError\u001b[0m\u001b[0;31m:\u001b[0m invalid syntax\n"
     ]
    }
   ],
   "source": [
    "[k if v == max(kmres_3.values()) for k,v in kmres_3.items()]"
   ]
  },
  {
   "cell_type": "code",
   "execution_count": 47,
   "id": "9516e2ec",
   "metadata": {},
   "outputs": [],
   "source": [
    "new_maximum_val = max(kmres_3.keys(), key=(lambda new_k: kmres_3[new_k]))"
   ]
  },
  {
   "cell_type": "code",
   "execution_count": 48,
   "id": "45c248cc",
   "metadata": {},
   "outputs": [
    {
     "data": {
      "text/plain": [
       "'GCC'"
      ]
     },
     "execution_count": 48,
     "metadata": {},
     "output_type": "execute_result"
    }
   ],
   "source": [
    "new_maximum_val"
   ]
  },
  {
   "cell_type": "code",
   "execution_count": 11,
   "id": "078e8614",
   "metadata": {},
   "outputs": [
    {
     "data": {
      "text/plain": [
       "5"
      ]
     },
     "execution_count": 11,
     "metadata": {},
     "output_type": "execute_result"
    }
   ],
   "source": [
    "kmres_4['CGCG']"
   ]
  },
  {
   "cell_type": "code",
   "execution_count": 27,
   "id": "0b1c1548",
   "metadata": {},
   "outputs": [
    {
     "data": {
      "text/plain": [
       "5"
      ]
     },
     "execution_count": 27,
     "metadata": {},
     "output_type": "execute_result"
    }
   ],
   "source": [
    "count_kmers('CGCGATACGTTACATACATGATAGACCGCGCGCGATCATATCGCGATTATC',4)['CGCG']"
   ]
  },
  {
   "cell_type": "code",
   "execution_count": 149,
   "id": "c9a5bae4",
   "metadata": {},
   "outputs": [],
   "source": [
    "def pattern_match(seq, pattern):\n",
    "    pos = []\n",
    "    size = len(seq)\n",
    "    pattern_size = len(pattern)\n",
    "    for i in range(size - pattern_size + 1):\n",
    "        sub_seq = seq[i: i + pattern_size]\n",
    "        if sub_seq == pattern:\n",
    "            pos.append(i)\n",
    "    return pos"
   ]
  },
  {
   "cell_type": "code",
   "execution_count": 19,
   "id": "1e6a223d",
   "metadata": {},
   "outputs": [
    {
     "data": {
      "text/plain": [
       "[7, 15, 17]"
      ]
     },
     "execution_count": 19,
     "metadata": {},
     "output_type": "execute_result"
    }
   ],
   "source": [
    "pattern_match('ATGACTTCGCTGTTACGCGC', 'CGC')"
   ]
  },
  {
   "cell_type": "code",
   "execution_count": 21,
   "id": "a8897542",
   "metadata": {},
   "outputs": [
    {
     "data": {
      "text/plain": [
       "[7, 15, 17]"
      ]
     },
     "execution_count": 21,
     "metadata": {},
     "output_type": "execute_result"
    }
   ],
   "source": [
    "pattern_match('ATGACTTCGCTGTTACGCGC', 'CGC')"
   ]
  },
  {
   "cell_type": "code",
   "execution_count": 30,
   "id": "34c91275",
   "metadata": {},
   "outputs": [],
   "source": [
    "def pattern_count(seq, pattern):\n",
    "    return len(pattern_match(seq, pattern))"
   ]
  },
  {
   "cell_type": "code",
   "execution_count": 31,
   "id": "1f84b27a",
   "metadata": {},
   "outputs": [],
   "source": [
    "seq=\"TGTACAAGGCAATCCGGGTACAAGGTACAAGTTACGTACAAGGGTACAAGTGTACAAGTGTACAAGGCTTGAGTACAAGGTACAAGAGACAACTGTACAAGGGTACAAGCGTACAAGGTACAAGGTACAAGCTGTACAAGAAGTACAAGCGTACAAGGACAATCCGTGTACAAGGTACAAGTACAACCCCGTACAAGGTTCAAGTACAAGTAATATCGCTGTACAAGGAGTACAAGTCAAGGTACAAGAAGTCAACCGTACAAGGTACAAGCCGTACAAGAGTACAAGGCCGGTACAAGCCCGTACAAGTGGCTCCGTACAAGATGGTACAAGGTACAAGGAAGAGCTGTACAAGCATTTGTACAAGTAATAGCGTACAAGGTAGTACAAGGTACAAGCGGTACAAGGGGGCAAATCGTACAAGGTACAAGCCTAACGTACAAGGTACAAGCACAGGAAGTACAAGGTACAAGGTACAAGTCGTACAAGCCCTGTACAAGGTACAAGTATTATACGTACAAGGTACAAGGGTACAAGCTGCGGTACAAGCCCATGTACAAGGTACAAGAGTACAAGGAGTACAAGTGGGATTGTGCAGTACAAGGTACAAGGTACAAGGGAAAGTACAAGCGCCCTAGCAGTACAAGCGGGTACAAGACAGGTCCGTACAAGTACCCGTACAAGAATGTCGTACAAGGTACAAGGTACAAGGTACAAGTCGTGTACAAGTAGTACAAGCGGTACAAGAGTACAAGGTACAAGTGTACAAGGTACAAGAACCGGAGTACAAGGCGTACAAGGTACAAGTTTCGTACAAGTGACCAGTACAAGGTACAAGGTACAAGGTTTACCGTACAAGTCAGTACAAGTGTACAAGGGGTACAAGGTACAAGATTACTAACAACGAAGTACAAGGAGTACAAGCAGTGTACAAGGTACAAGAGTACAAGCCGTACAAGATAAGGAACGTACAAGGTACAAGGTACAAGGGTACAAGGTACATGTGTACAAGAGCGGTACAAG\"\n",
    "pattern = \"GTACAAGGT\"\n"
   ]
  },
  {
   "cell_type": "code",
   "execution_count": 35,
   "id": "32e02699",
   "metadata": {},
   "outputs": [
    {
     "data": {
      "text/plain": [
       "33"
      ]
     },
     "execution_count": 35,
     "metadata": {},
     "output_type": "execute_result"
    }
   ],
   "source": [
    "pattern_count(seq, pattern)"
   ]
  },
  {
   "cell_type": "code",
   "execution_count": 7,
   "id": "5fddd7f2",
   "metadata": {},
   "outputs": [],
   "source": [
    "def most_freq_kmers(sequence, k_size):\n",
    "    kmers = count_kmers(sequence, k_size)\n",
    "    max_kmers = max(kmers.values())\n",
    "    max_feg = ''\n",
    "    for k,v in kmers.items():\n",
    "        if v == max_kmers:\n",
    "            max_feg= max_feg + ' ' + str(k)\n",
    "    return max_feg"
   ]
  },
  {
   "cell_type": "code",
   "execution_count": 8,
   "id": "f0e9da18",
   "metadata": {},
   "outputs": [
    {
     "data": {
      "text/plain": [
       "' TTT'"
      ]
     },
     "execution_count": 8,
     "metadata": {},
     "output_type": "execute_result"
    }
   ],
   "source": [
    "most_freq_kmers(seq, 3)"
   ]
  },
  {
   "cell_type": "code",
   "execution_count": 17,
   "id": "476f9f6e",
   "metadata": {},
   "outputs": [],
   "source": [
    "seq='CTCAATGAGTCCACCGCTGTCCACCGCTCTCAATGAGCGGTCCAAATTTATGGTCATTTATGGTCATTTATGGTCAATGAGGAGTATGAGGAGTGCGGTCCAAAGCGGTCCAAAGTCCACCGCTCTCAATGAGTCCACCGCTATGAGGAGTCTCAATGAGTCCACCGCTGCGGTCCAAAATGAGGAGTGTCCACCGCTTTTATGGTCACTCAATGAGCGGTCCAAACTCAATGACTCAATGATTTATGGTCACTCAATGACTCAATGATTTATGGTCACTCAATGAGCGGTCCAAATTTATGGTCAGCGGTCCAAACTCAATGATTTATGGTCAATGAGGAGTGTCCACCGCTGCGGTCCAAACTCAATGAATGAGGAGTGCGGTCCAAACTCAATGATTTATGGTCAGCGGTCCAAAGCGGTCCAAATTTATGGTCAGTCCACCGCTTTTATGGTCAATGAGGAGTGCGGTCCAAATTTATGGTCAGTCCACCGCTCTCAATGAGCGGTCCAAATTTATGGTCAGTCCACCGCTGTCCACCGCTATGAGGAGTGTCCACCGCTCTCAATGACTCAATGACTCAATGAGCGGTCCAAACTCAATGAATGAGGAGTGTCCACCGCTATGAGGAGTTTTATGGTCATTTATGGTCAGCGGTCCAAATTTATGGTCAGTCCACCGCTGTCCACCGCTATGAGGAGTGCGGTCCAAACTCAATGAATGAGGAGTTTTATGGTCAATGAGGAGTTTTATGGTCAGCGGTCCAAAGCGGTCCAAAGCGGTCCAAACTCAATGACTCAATGAATGAGGAGTTTTATGGTCATTTATGGTCAGCGGTCCAAAGCGGTCCAAAATGAGGAGTATGAGGAGTGCGGTCCAAAATGAGGAGTATGAGGAGTGTCCACCGCTTTTATGGTCACTCAATGACTCAATGAGCGGTCCAAACTCAATGATTTATGGTCATTTATGGTCAGTCCACCGCT'"
   ]
  },
  {
   "cell_type": "code",
   "execution_count": 18,
   "id": "9559f335",
   "metadata": {},
   "outputs": [],
   "source": [
    "kmers_12 = count_kmers(seq, 12)"
   ]
  },
  {
   "cell_type": "code",
   "execution_count": 20,
   "id": "de375074",
   "metadata": {},
   "outputs": [
    {
     "data": {
      "text/plain": [
       "' ATTTATGGTCAG'"
      ]
     },
     "execution_count": 20,
     "metadata": {},
     "output_type": "execute_result"
    }
   ],
   "source": [
    "most_freq_kmers(seq, 12)"
   ]
  },
  {
   "cell_type": "code",
   "execution_count": 22,
   "id": "fffd3d8d",
   "metadata": {},
   "outputs": [
    {
     "data": {
      "text/plain": [
       "9"
      ]
     },
     "execution_count": 22,
     "metadata": {},
     "output_type": "execute_result"
    }
   ],
   "source": [
    "max(kmers_12.values())"
   ]
  },
  {
   "cell_type": "code",
   "execution_count": 24,
   "id": "1ab80f19",
   "metadata": {},
   "outputs": [
    {
     "data": {
      "text/plain": [
       "9"
      ]
     },
     "execution_count": 24,
     "metadata": {},
     "output_type": "execute_result"
    }
   ],
   "source": [
    "kmers_12['ATTTATGGTCAG']"
   ]
  },
  {
   "cell_type": "code",
   "execution_count": 59,
   "id": "69392642",
   "metadata": {},
   "outputs": [],
   "source": [
    "def rev_compl(seq):\n",
    "    nn = {'A': 'T', 'C': 'G', 'G': 'C', 'T': 'A'}\n",
    "    return \"\".join(nn[n] for n in reversed(seq))"
   ]
  },
  {
   "cell_type": "code",
   "execution_count": 67,
   "id": "25b598c7",
   "metadata": {},
   "outputs": [],
   "source": [
    "def rev_compl_fast(seq):\n",
    "    trans = str.maketrans('ATGC', 'TACG')\n",
    "    return seq.translate(trans)[::-1]"
   ]
  },
  {
   "cell_type": "code",
   "execution_count": 68,
   "id": "3875c65d",
   "metadata": {},
   "outputs": [
    {
     "data": {
      "text/plain": [
       "'CTGACCATAAAT'"
      ]
     },
     "execution_count": 68,
     "metadata": {},
     "output_type": "execute_result"
    }
   ],
   "source": [
    "rev_compl('ATTTATGGTCAG')"
   ]
  },
  {
   "cell_type": "code",
   "execution_count": 69,
   "id": "1c116e3a",
   "metadata": {},
   "outputs": [
    {
     "data": {
      "text/plain": [
       "'CTGACCATAAAT'"
      ]
     },
     "execution_count": 69,
     "metadata": {},
     "output_type": "execute_result"
    }
   ],
   "source": [
    "rev_compl_fast('ATTTATGGTCAG')"
   ]
  },
  {
   "cell_type": "code",
   "execution_count": 72,
   "id": "46684612",
   "metadata": {},
   "outputs": [
    {
     "data": {
      "text/plain": [
       "0.027045654998801183"
      ]
     },
     "execution_count": 72,
     "metadata": {},
     "output_type": "execute_result"
    }
   ],
   "source": [
    "timeit.timeit(lambda: rev_compl('ATATTATGGTCAG'), number=10000)"
   ]
  },
  {
   "cell_type": "code",
   "execution_count": 71,
   "id": "38dc1085",
   "metadata": {},
   "outputs": [
    {
     "data": {
      "text/plain": [
       "0.009741785004734993"
      ]
     },
     "execution_count": 71,
     "metadata": {},
     "output_type": "execute_result"
    }
   ],
   "source": [
    "timeit.timeit(lambda: rev_compl_fast('ATATTATGGTCAG'), number=10000)"
   ]
  },
  {
   "cell_type": "code",
   "execution_count": 28,
   "id": "48f65ba7",
   "metadata": {},
   "outputs": [
    {
     "data": {
      "text/plain": [
       "True"
      ]
     },
     "execution_count": 28,
     "metadata": {},
     "output_type": "execute_result"
    }
   ],
   "source": [
    "rev_compl('AAAACCCGGT')=='ACCGGGTTTT'"
   ]
  },
  {
   "cell_type": "code",
   "execution_count": 29,
   "id": "75420b46",
   "metadata": {},
   "outputs": [],
   "source": [
    "seq='AACCGGTCGAGCTCTTAACTACTGAACCCTAAACGATTAGTTACAGCTTTGATTCCTGGTGACTTCGATAGCCGAGCTCCGACCTTAGAAGTAAGATGTTCTAATTAGCTTACACACGCTGCTCGATCGTGCCTTTCTGAAATGCAGAAGGTGTGGTGTTGCACCTGCCCTCTCACGTCCAACAAGGTGGCCCCTAAGTATGACGTCTATCTGAACTTTATGAGCCATTGCATATAACCTGGCTCCTCGAGAGAAGTTGTCCACTCAGCGTAGAGTTTAGGTGTCTGTCTAGTGGGTCCCAACACCTTCAGTCTGATGGGTTTGTTTGTAACACTGATACCATAAGGTGGGGGCGACTATTAGGGAGTGGCGGTACCTAATAAGATCCATGACGACGTAAGTCGACAAGGGCCAATCGCGATGTCGTGTCGTAATATTAGCGGTAGGGTGTGGTTGAAGGGGGAAGACTGGGAGCCTAATGTGCATTTAGTCAAAACAGGACTATGCCGCACGATAATCAAGCAATGAGCATGATGGGTCCGATAGGGCGTACGCGCTACAACCAGCATGCGCTGACACTTCGCGAAGAGGCTGTGGTCCCCCGTTTGTCCGAACAGCCTGGCTCCATCTCGCCGTTTGGCTGATGCGCAACTTTGAGGGGGATTTTAGGAATGACGCATTTTGCAGGTAGCATCCTTCGGCACGTAGAAAACACACCTCCGGACTAGTGAACTCATCGATCAAGGTTGGGAGGTTGTGCCAACGGGCTTGGATGAAGCCCCCGTTCCCCTCTACACAGTCGATCGAATGGTCCGCACCTCAGGCCTTCGCGCAAAAATATCACAAGTCACATGTGGGGATTCGTGTATCAAAAACACCATGTGAAAACTGAGGAGAGGTAAAGTAGGACTAGGGCATTTAAGGCACACTTTACTAATTAAGCCTAGATTTCAGAAGCCCAAGCCACGTTTTAGTTTCCACAAGATGAACTTGTAACGGTTGATGCTTCTTTTTACTCCCGAATTGTCGTGACTCTTTAAACTGTGGCCACCCAGGATACATAGCACTCTGTTGGCTCACACATTTGATCTATATAGTTTGTCATGTATCTGCATAAGTTTAAACTAGACGCCTTCAGATTAAGATTATTGGTCGGGAATCCGTTGAGCAGAGGATGGAAGGATGCACACTAAGTTAGTTTCGTATTGAGTGCCCGGCATTATAGCAGGGAGCTACGAGTACTTTTGAGTTTTGGCTAGCTACCGCCGTGTAGTGAAGCCCCCTCTTACTGGCAAGATCTTCTGTTATTGGTTTCGGATGGATCCTACACTACAGGGATGTGGTCTCTCGCGAGGCTTATGGGGTAGATACTCAGAAATCTGGAGCCCCCAAGATCCTTGAACTATTCAGTGCTATGGCCGACCAAGCCTAAAAGCCTCTGCGTAAATCCCGAAGGCCAGTCGCCCATGCGATCTTAAGCTAAGAGACGATCGGCAGACATAACATTTGTCATCACCACTAATAAACCAATGATCACTAGGCGGGATATGGCCTGCGGTTACCCATACCGTCCACTATGCTATCTCAACCAGTTTAGAATGGCCACCGGCTGATCACCCGAAAGAGAAATTAAAGCCGGATTGGGCGAGCGTCACGCAGAAGGTTCAAAACTCTGAGCTTCTGATTCTATTGATCGGTGTGAATACCGAGCCAATGATAACACAGAGCTCCACTGTGAGCAGGGACGTGACTCCAAGGCTCGCGAAATACGTTCGCGACCTTTCCGGTCATCTTAGAGGCGAGATCTAAACTAACTTTTCCCTAGGGAGTACGGTCGTTCTGTGCATTGAGGGCTCTGTAGTAGTGCAGTCGATGGCCGGTGATCCCCACTGCCCGGCCGGAGGTAGGGTAGCCATCCGGTACCCGAGTGATTACAATACAGGTATCTCGACCAAAACCTGACGGTGGCCGCACTCAAAGTCCTTCGGTGCATGCCTGCGGCGAGCATGATAGCGCTTGACACTCCGGACCATGTTTAAACACTCAAATGGAAACGACGTACAGAACTCATTTGGCTCAGAGGGGTCGATGACACTGCTCGCGCCCAGGTCTAATCTCGATAAGGGCATTGGTAACACGGACGGAGGCAAGGTGGGATTGGTTTGAGGCAAAACGTCGTTTTCTTCTAATCTCTACAAAGAAACTCTTTGCTGATAATTATTTATTTAAAGGAGGTGACAAGGAAAGGCCCACAAACAAGTTAGGTAAGAAGGTTTCCACAGCGCGCACGACCCTTCGGCAATCGCCGGGAGATTTCACTGGTATTCGGTCCCGACGCTAGCCTACGTATTCAGGTTAGCTGGGCACGGTATTTCATCATACCGTTATCGGTACGTACAGAAGACAACCATTTTATGAAGTCACACGAAACACGCTACTAGCCCTCAACAAGGGCGTGGGAAGTGCCTGGTGCCGAGGCACGCTGTAATGTACGTGTACTGGGCTGACGGTTGACTGCCTCCATAAGAGTCCGTTAGGGTTCGGAGTGCAATATCAGTCCGGTCTCTAACAGTTAGGATGGCTCGTTAATGGGGTCCGATCGAGGACCAACATCGTAATAGGATAGAGATCGTATTGTGACCCGCATATTTAGATTTCATCGGATCTTCAAGCAGGGCTCAAGAAGTCATAAGACATTGGAGGTAAATAGATTCGTTATTCCGTCCTCCCCTCATTTTTAACTCAAGCTCACGCGACATCGATTGCCCTGGGGCCCAGGACCGTTCCCCTATCATTTACAATATCGCGCACCAGTCATTTTTATCCCCCTCCGTTCGTCGCAATGGGGGAAAAGTTCCATTTTAGCAACCTGGGATACAGCTGTATCACGACGTTTAAAATTCGAGATTGAACTACTGGACACGGGTGGAAGCTCTTCGCCTAGTCGCATGTTTTAATCACTGTGTCGTATATAACCAGATGGGCCTATGTCCGGTATGGAGTCGTCTGTGGCAGCAAGAGAGTTACCATATTCATGTAGTCAATACTATGGCTGGGCTGAAAGGCGTAGAAGCCAGCTCCGCTTCCGTATTGGCCACGTGCACTCTGGGACATAGCGGTAATTCGTGAGATACTACTCGGTCCAGGTCTATTTGGAGATTATGCGGAGCATCGTAATGACAGCGCGACAATCGCTTCAATATCCGCTGAGACCGAGCCTCTATCGTCCCCCGCATTGTGGATGCAGGGGCCAAATCTTAGCGCTCACAGGGCTGCGAATAACTTCAATTAGCCCGAAGGGGCTGATATGGGTGGCTCGGCCGGTATGTGGCAAAAAAAATCTGGTGACCCTGCATGCAGAGGCCCCATGCGGGCCGCGGTCCTATGGGCTTTGTGGCCTCCTCAACTATCCCGGACGAACAACCTAGGCGTCCTATCCAAAGATGTCCAAAACAACGAGAATAAGGTGACTGCCAGTTGCCACCGACTGCTCACATTATCGTCATCTCGCGCTCCGATTTGCACATCCGGTAGTAGCAGAATCAACTCTTCACTCTCACTTGGTAAAGGGAGACGGAGAGCTCCCCGCTACCACTAATCAAGAAGCACCTTCTTTCAAAGACCCCATCCGAGGCCCAGGAGGAAAGTTTAGGTACTATGAGTTGTTCTAAATTCTTAACTGATACCGCCGACCATCGGATTGACCACTTTAACCATGCAACAACAAAGGCGATCTTTAGCTTTCTCCTCGGGAGTACAGACTGGGGCGCGAGACAACGCAGCTCTGCCCAAGATTAGGCCTCTATTACCCTCAAGGGGGTATTCTCTCCCATGCGCTGACGGTACGAGTCGGGACGCTGTCTCCAAACGTCTTAGGGCCCTCTCAGATAACTACATTAGATCTGCATTTACTTTTTGTTCTACGTAAGAGTTTGGTTAGGATGGTGGCAGCCACCTGGGAGCGGTACACGCACTTGGAGACATGAGGTCAGAAGGCTTTGCTGCGATCGCAGTAGGGAGCACACCACCTCACCTATCATTAGCAATCAGCGTTATTTTAGCATAGTTCAGAGCAAAGCTTTCTTCTGGAAGAACAGCAGAAGCAGAGGTGTTGAACTGGACCCGTAACCATCGGTGTGGATATATCGACAGCCCCCCGTTTCTCTAGCACCGGGACGTTAATGTGAGTGCTCGTGGAGCTAGTGTGTATGTTATTCTTTGATGCTCCATGGCGTTGACCCATTGTGCTGCATCCTTGGCTGATGCACAGTTAAAATCGGTAGACCATCAGTCAATAAAACTCTGGAGGAAAGGTGAATACGAACATTCGAAGCGACCGCTCAAAGCGGGGTAAACTTAGATCCTGTCCTGGGACTTAACCTGCTACTGGCGGTGGCGCACGTATTTGGATTGTGCGGTGTGCGGCTACGTGTCAAGACTTCTTCCCGGGAGGGCAAGGGCCCCCGGCCGTACAAGATATGGCTGTATCGGTTAAAACCGTCGACGGCCACTTCAGTTGTGCGAGGTCAAGTGGTACGAAGATGAATGTCTGCGAAACCTGCTCGGGATCCTCCACTGGGCCTTGCAAGCTACGGGAATGCTGCTCCTGCTATTCAACCCTCTAGTCCGCTACTCTAGATCACCTGCGAGCTGCGTCGGGAGCACAAGGATCGCAACCGTTCACGCATCACGAAGGATTTATAACCCGCGACAAGCAAATGCTCCGCTTATGCGAAGCTTTGCTACCAGGGAGGGTAGTGCCTCTGTCAGTCGTTCACAGGTCCTTAAGATGACATTCACCTAATGAGAACCCAAAGTGCTGGGAACCCGCTTGCCACTCGTATTGTGAGTTGAACAACTTTTGCAACACAGCCCCGTTACGCCTACGCACTTACGGAGCCGTTAATACCTGCACAAGGACACGACCAGAGGTTTAAAATTCGCTCGATCTTTCTGCTGAAGATGCGGACGTAAGACGAGGTACCACATACAAAACGAAGGGGACGAGTATTCAACGCACCCTGACATGCTTTGACCGGCCACTAAGGGGAATTAGGGTCTTTAGACAGTGCGATTCTCGGCAGCATTGCAGCTCTCCCGTCTATCCTCTTTGTATCACGGAAAGGAAGGATCCCTCGCAAGCTGCTCAACAGATCCTGCGAGGGAGGCCACAATTGGTAGAGTTCGTACTAATCGATGCAGAACTTCCGAGTTTCGCTTGGTCTAACATTATCTTGGGTTCGAGCCTCATTGCAAGCCCCTGCCTCGCATGGAAAAGCGGCTGGCCATTGCTCTCACTATGAGATTGGAGATATCTTAGGGACCAGCCGTAATCCCAGTCCGTCTGAGGTCGGTATCGCCAGACGCTGGCGATTAAAGGTACGTCAAACGCTTGTTTGATGCACCGCTTTCATGAGATAACTAACCCTACGTTCTTGATTGTCACCGGAGCTATTGGTCCCCGACGTGGAATAATCGCATTTCAGGGTGTGGCACCAGATGGGACGTATTTTAGAATACAAAAAAGTAATGAATCTTCAATCTTTTACCGCGCTCGCGTTTTTAGTACACAGTTAAGAAGGATATGTTAGGACGAGCCCGAACTACGTCTACTTCATGCCTCGCATTGTACCATGCTTAGTGTAGAACTGCGCTAGACATTACGGGTGGGTGCGACATATTGATCCATACAAATGTGGAACGCATCGATAGTCTTACATTGCGATGCGACCGGGACACAATGAAATCCCTATTCGAACTCTGTAACTCAGGCCACTCATTGATCCCCCACCATAACCGAAATTTGTCTACGCTAAAGAAGCAAGAGTGACAGGAAATTTCTGTACGCCTGGCATTTAACGCCTAATCGCACACCTGAAGACTGCTTATGGAAGCGCCCTGAAAATGGGCGTCCACCCGTGCCGTATATCTTTAAGTCGGCCAACAAACACTCATTTAAAAGGATCCGCGGAAGGTGATTCTGACACGGGCCACTGGCCTCACTCCGATACGCTCAGCGGAACGTCGATGACACGTGTTTCAGGAAGACTATAGTCCGAATGCTTTTTGCTGAGTGGTAGATCCCCTCCCGGACATGCCAGCACAGGGCAAACAAACTATCCACGTCTATAACAATCCGGGGACTCATCGATCAGGTGCGTCTTCTTAACCATACCCATCCGTCGATACCCCGCGCCAGCAACGCTGCAGTCGCACGGTGATACATGGTGAGGCCATACGAGGCCCGCCTTTGCTAACTAGCAAAGTACTAAACGCTGGCCCTAGCTTGAAGGGAGGGTTGAAGTCGTACTGTGATTTCGAGCTTGGAAAAACCACTTAGCAGTACTCCACTCTACATATTCTTTGGGAGAGTAAGCAGCGGAGGTGATATCTGATAATATGTAATTTAACTAACGCCAGTGAACCAAAGTGACTAGCGAGAGTGACGGTCTAAACAGCGTAAGAGAGTTTCCAAGCCAGTATCTAGGCCCCTTAGCTGTCCAGGTTTCCTATAATATAATCCGATTGCACTTCGGCCTGATTGTCCTATGCCCACCCAACCGGACTTCGCCCATGGCCGTGTCAGCCGTTTAGCACGTACGGCACTCCAGAACTTAAATAGTGTCTATGGGCGCGCACTTAAAATCCAAGGGCCTATGCTATCATACTTGTACATGCATGCGGGTTACTTGTACGCGTAATTCCCAAGAGGTGGTCACTGGATGTCCTAGATTGGGGTAGTCCTGTATACAAGGGCCGATTCATCTGTGGAGTGTAGAATATACATGTGGGCCTGTAGCATAAAAGTCCCCTGTGTGCCGAATAGCACGCGTTAATGGACGAAGCGTTATAGCACATAACAATCGTTGACCACTCATGGGCTTACAGCTCATGTTTGGTGAGCCAAAGCCACAAGCTTCCAGCCCCCCGTGTCGTCCGCAACAGAGAGTTGTACAGGAACAAGTAACTGCACTTTGGACAGATAATCGGGCGATAGGCTGGACCCAGAAGTCTACTGTCGTAGCGGGGGATGGTTAGGGTCAGCAGCACGGTACAACGGCTCGAAGGCGCCCCCAATAGACCCCCTAGGTAACATATTTATCCGTCTGTTCGACAAGTATAGAAGCGAAGAAGGTGTCTAGCGGGTTGTCTGACAGTTAGACGATTAAATCACTGAACGGTACGTACGATCTTGTTCCCTTATGTTTTGCATCAGGCCACTGGCCGTAGCTAATTCAACCAAGCCTTACTAACATCCATCATCATCAGGTATTGAACCATTCAGCCCCGGATAACGGTAGCGCCAGCCTAAAAGTATACAAACTCCGTAGGGTGCAGTTTTACGAGCCTCATGTTTGGGTAGGTCTTAACCAGGCATGATCCAGGCAGACCAGCTAAATACTTTCCATAGAATTAGTCTTTTCTCAATGGACTAAGGCTAGTCAGAGTATAAAACTGCCTGGGGGCGCTGCACTATCGCATGTACGAGATGGGGTAGCCAAAGGAAAAGTTCTCGTGACCAATTTCGCAGTACTTTCGGATGCTTCTCGCGTAACCGGATACCATTGATCGTAAAAGCTGGCATTTTGTCTAGACTTGTCTTATTAGCACGCTAGAGATGGCCTTCATCCACCCGTGTTTACGATCAACGTGTACGGTATATGTCCTCGGTGATCGCCCGCCGGGACTGTACGGTGTGAAAGCTTGGCAATAATCGGGTTGATAGTCATCGCGGAGTTCGTGTACCGCGAAGTCTGCCATGGTTCGAAAAGATTACACGGATCGGATTCAAGCCGAGAGGTTACGACCACAAATTTCCGTCGGGGGGCACCCTTCTGCCCCGCACTCCTGCATGGGCTTCAGGACTGTTCGAAACCGCTGCCGCTCGTGACTGTAATAACATGTGACAAGCTTTCAGATGGGACCATGCAATCTCCGCCACGGCTATGTTTTCACGTAGCCTACTTGAGGAGTTTGTAGTACTTCCGTCTGTACTTGAGCGTGATATTTTACCTTGGTGCGCGTTAACCCAGCCGCGGGAGGCGCTATTGAGGATAGGGCACTGAAGTAGGGGAACCGCTTAGGGGTTCTGGTACTGAATAGTGGTTAGGGGACTACGGATAAAGAAGCGTGTCGCCCGAGCCGGCACTAAGAGCAGGACTGGCGGTGAGGTTTCTGGATGCTAACGTAAATAGCCACAAGGTTCCCAAAGGGCAAAGGTGTCTCCACGTTCTGCCGTAAATAAACTAATTCATGTAACCTCAAGATTAGGGCTTACTGGATAATTATGTGGAATGCTGGGCTGCCACGAACCACGTGCACTCAAATATTCAGAGGATGGCCATCTCGCATGCAATAGGGCATCAGATTATGTGGAGTTGGCATTAGACGATACCTGTATTACTGTCAACTACTTCTCCGATTGCAGGGCGTCTGCATCGTTCGAGGTTGTTAATACGGTAAAACTTAGAACGGACTCAACACTAATGCATTGGTGGGTCATCGCGCACGCAGGCAGCGAGCTAGAAGAATGAAACCGACCTGCTCCGCTTTTTGAACATATTAGCTCAAGTACGGTTAAGGCGGACACTTGCTAGCGTTCCTCCTAAGTGCTTCTCATCACTGAATAGACGGCTGTTTCGTTTCTCAGCGGATGAAGCATCCGATTTGGTCCCTAGGTGTTGCTACAAGCGGATGGTTGCCCATCTCAACCAGAGCTATCACCGTAATCGATTAGTCCGTAATTGCCAGCGATCTACCCGTGTTGCCATGCTAGGGGTAAAGTACTTTATGAAGATGTTCTTGGCAGAAACCGATCGTGGCCACGGATGCACATCACGTGAACCGTTATCAGTTTCCTATTCATATAATCGAGGTACGCAACGGGCCACCTTAAGATCCCCCGGCGTTAAATAATAACCGAGATGATGGCTCACCGCGCTGCTTCTCCTTGCGTGCGACTACGAAAGCACTGAGGATAAAGGGCCCGCTACAGCCTGTTCTCGCCCATCTTGGCAGTCCTTGTTAGTAGCACTCAGAAAAGTTCAGTTGTCGCACCGCAATTGGCCTGAATCAATCTTCCTATATCATGCCTACCTCTAGTTCGAATTGGCTGACACAACGCACGAATCCAGGGGCGCACAAGCCATATCACCATTTACCTATGAAGAGCTCTGGACGCGACCGTCCGAGCGTATCAAGAACGGTTTGCGATGGGACATTTAAGAGTCACTGCTCCCACCGGACTTCGACCCTTTGTCGCTGCATTTGATTGTTAAATAGGTTAGCCATTCCTACGTTGGATGTCACGTGACTGAAATCTAAGCTTCGCGAGCTGTCAAACTCAGCGTTCCGTTAGACAGACAGGTCTGAGTTAGTGTCGGCATCAGGAGCTTGTATAGTCCAGACAGAATGTATCAACAATCTAACTCTTGAAAACTCGTCCTTTTCTCTACGTTGCTCCTACAAGGACTTTTCGGATAGCGTAGTCTGCCGCCTCGTTACGCAGACGTAATGCTTTCTGGCTTCAATAGCAAAAGAAGCATGATAATTTCGTCCTTGCTCGGCACAGCTCTGCTCAATCTCGTGTATGAAATTTCGTACACGGATTTTGCCCATAAGGGTCGGCCAGATAGGTAAGTACGCTCGTCGGTTTAATGTCGGTGTCTAAATCTGTCTCGTGGACTACCAATGAGCCTCGCGAAAATACTTCTAACCGTCCATCTTTCGGACCTCATAGAGACTTGGGACAGCTCACTAACACAAAGAACTCAAAGCTGCACCCGGAGTAACGAAGTTGAGTATTAATCCCCACTCGGACTTTCGGTGGCGCCTACGCAGAAACGCACTTATTAATGTGTGATGCCTTCATCCGACGGGATAGCTGCGGTGGTGGGTTCCCCTACT'"
   ]
  },
  {
   "cell_type": "code",
   "execution_count": 32,
   "id": "e31b9bb3",
   "metadata": {},
   "outputs": [
    {
     "ename": "SyntaxError",
     "evalue": "invalid syntax (<ipython-input-32-0f9f58eaca32>, line 1)",
     "output_type": "error",
     "traceback": [
      "\u001b[0;36m  File \u001b[0;32m\"<ipython-input-32-0f9f58eaca32>\"\u001b[0;36m, line \u001b[0;32m1\u001b[0m\n\u001b[0;31m    ATGATCAAG, CTTGATCAT, TCTTGATCA, and CTCTTGATC.\u001b[0m\n\u001b[0m                                     ^\u001b[0m\n\u001b[0;31mSyntaxError\u001b[0m\u001b[0;31m:\u001b[0m invalid syntax\n"
     ]
    }
   ],
   "source": [
    "ATGATCAAG, CTTGATCAT, TCTTGATCA, and CTCTTGATC."
   ]
  },
  {
   "cell_type": "code",
   "execution_count": 33,
   "id": "a2743b6a",
   "metadata": {},
   "outputs": [
    {
     "data": {
      "text/plain": [
       "'CTTGATCAT'"
      ]
     },
     "execution_count": 33,
     "metadata": {},
     "output_type": "execute_result"
    }
   ],
   "source": [
    "rev_compl('ATGATCAAG')"
   ]
  },
  {
   "cell_type": "code",
   "execution_count": 34,
   "id": "499bb929",
   "metadata": {},
   "outputs": [],
   "source": [
    "seq ='GATATATGCATATACTT'\n",
    "pattern='ATAT'"
   ]
  },
  {
   "cell_type": "code",
   "execution_count": 40,
   "id": "ab70d8c9",
   "metadata": {},
   "outputs": [
    {
     "data": {
      "text/plain": [
       "'1 3 9'"
      ]
     },
     "execution_count": 40,
     "metadata": {},
     "output_type": "execute_result"
    }
   ],
   "source": [
    "\" \".join(map(str,pattern_match(seq, pattern)))"
   ]
  },
  {
   "cell_type": "code",
   "execution_count": 42,
   "id": "3c78c15f",
   "metadata": {},
   "outputs": [],
   "source": [
    "seq ='GGATTGCACATTGCACAAATTGCACATCAGTCTCTTGCACATTGCACAAGGAGTTGCACACACCCAGATTGCACAGGTTGCACATTGCACACTTGCACATTTGCACATTGCACAAGTTGCACACCATTGCACAACCTTGCACAGTTGCACACGGTCTTTGCACATTGCACAATTGCACACATTGCACATTGCACACTTGCACAGGATTGCACACGAGTTGCACAAGTTGCACATTTGCACACTTTGCACAAGTTGCACATTTGCACATTGCACAGTTGCACAAATTTGCACATTGCACAGAATATTGCACAATTTGCACAATTGCACAGTCCTTGCACATTGCACATAATATTGCACACTTGCACAAATCCCGTTGCACAGCCTTGCACATTTGCACACTTGCACATTTGCACAACTTGCACACTTGTTGCACATAGACTTGCACAGTCTTGCACATCTAGCGTTGCACATTTGCACAAATTGCACAAGACCACGTTTGCACAACATGCTTGCACATATTGCACATTGCACATCTTGCACATTGCACACTTGCACATCTCTTGCACAATTGCACATGGTTGCACAGTTGCACAGGCTTGCACAGCTCCTTTGCACACTGGTCTGATTGCACATTGCACAATTGCACATGCATGGCCTTGCACATCCTTTTGCACATAACTCATTGCACATTGCACAGTTTGCACATTGCACATTGCACATTGCACAATAGGTTTGCACAGTTGCACATATCTTGCACAGTGTTGCACAATTGCACAATTGCACACTCTTGCACATTGCACAACTTGCACAGAGCCCTTGTTGCACACAGTTGCACATTGCACATTGCACAGCTGTTGGTTGCACAAAATTGCACACATCGCTTGCTTGCACATTTGCACAACTGTTGCACAAGTTGCACATTTGATTGCACACCGTCAGCGATTGCACATTGCACAGTTGCACATGTTTGCACATGTTGCACATGATTGCACATCTATGCTAGATTGCACACGGAGTCGTTGCACAGTTCGTTGCACAGCTTGCACATTGCACATTTTGCACATGAATTGCACACTTTGCACAAAAATTGCACACTTGCACATTGCACAGAGTTGCACAGTATTGCACAATTGCACATTGCACACCGGTATTTGCACATTTGCACAAGGTTGCACATCTTCCTTGCACATTGCACACTTGCACAGTTGCACATTGCACAGTGTTGCACATTGCACACTTGCACAATTCTTGCACACTTGCACACATTTGCACAACACCGCCCTTAGATTGCACAGATTGCACAGCTTCCTTGCACAGGTTGCACACCTTGCACATTGCACAGCGGTTGCACAAAACAGTTGCACACCTTGCACATATTGCACACGTTTTGCACATTGCACAGGCTCTTGCACAAGTTTTTGCTTTGCACATTTGCACAATTGCACAGCTTGCACATTGCACATTGCACAACTTTTGCACACATTGCACATTAGGTGTTGCACATGTTGCACAAGGTATTCTTCTCGACTTGCACACAGTTGCACAGCTTTGCACACTTGCACACTGTTTGCACAGTTTGCACATTGCACATTGCACATTGCACAATGTGCCTTGCACACTTGCACACGATTGCACAAGGTTGCACAAGTCTTGCACAAGCCCTTGCACAAAAGGTGTTGCACAGTTTGCACACTTGCACATTGTTGCACATTGCACAGAATTGCACATTGCACAATTGCACAATAGCGTTGCACAATTATTGCACATTGCACATTTGCACATTGCACATATTGCACAATTGCACATTGCACACAACCTATTTGCACATTGCACATTGCACAGTTGCACAATTGCACATTGCACATTGCACATTGCACAATTGCACATTGCACAGCTTGCACAGGTTGCACAGCTTGCACAGAACGTTTGCACATTGCACATAAATATAATTTGCACAGTAAATTGCACAGAAATTGCACATTGCACAAAGGTTGCACAGGCGTTGCACAATAACCGCTTGCACATTGCACACGTTTGGTTGCACAACTTGCACATTGCACAACCTTGCACATTGCACAGTATTGCACATTTGCACATTGCACAAGTGTTGCACATTGCACACCATCTAGCCGTCTTGCACAACTTGCTTGCACATTGCACATTGCACATTGCACAACTTGCACACTCTAACTATTGCACAGATTCTTTCATTGCACAGATTGCACACTTGCACATGTTGCACAAGTTGCACATTTGCACATTGCACATATTGCACAATTTGCACAGCCCCTCACAGAAACTGGTTGCACACATTGCACATTGCACATTGCACATTCTTGCACAATTGCACATCTTGCACATATACGTGTTGGTTGCACACCCTCTTGCACAGTTGCACACTTTGCACAATATTGCACATTGCACAGACTCATTGCACACGGAGGCACTTGCACAGATTGCACATTGCACACTATTGCACAACACTCCGCAGTTTGCACATGACCCCATTGCACAGCACACTATTTGCACAGGTTGCACACCCGTTCTTTGCACATGATTGCACATTTGCACACGCAGCCTTTGCACAGTTGCACATTTGCACAGGATATTGCACAGACGTCATTATATTGCACAGTTCTATTTTGCACATGGGATACCTTTTGCACAGGCATCTTGCACATAATATTGCACATTGCACAATTTGCACATCCTTGCACAATTGCACACTGTTGCACAAGATTGCACATGCTTGCACATGTTGCACATCAATTGCACATTGGTTGCACATTGCACATTGCACAGTTGCACAAGGTTGCACATTGCACATCTGCACCATTGCACAAATTTGCACATTTTGCACATCATTGCACACGTTTTGCACACCTTTAATTGCACATCTCTTGCACATTGCACAAATTGCACATGTTGCACACGTCCGGCTTGCACACGTTTGCACATTGCACACAGTTGCACATTGCACATTGCACAGTTTTGCACATCTTGCACATTGTTGCACATTTGCACATTGCACACGAAGTTGCACATTGCACAATTGCACAATGTTTGCACAGTGTTGCACATGTAGGGAGGATTGCACAACCGGCTTGCACATCTGTTTGCACAGTTGCACACTTTGCACACGTCTTTGCACAGTTGCACACTTGCACATACTTGCACACTTGCACAGTTGCACAGTGCTTGCACATCTCTTGCACATTGCACATTGCACATTGCACATATTGCACAGTTGCACAGCTGATTGCACACTTTGCACACCCTTGCACACGCTTGCACACCACTCTTGCACATTACTTGCACAATTGCACACTTGTTGCACACAATTGCACATTGCACATTGCACATTGCACACAATAACACAGCATTGTTGCACACTTGCACATTGCACATTGCACATTGCACACTTGCACATGGATTGCACATTTGCACACCCTATTGCACAGTTGCACATTGCACATTGCACATTGCACAATTGCACATTGCACAAATTGCACATTGCACAGTTGCACATACGTGTACGTTGCACAATTGCACATTGCACACTTGCACACACCGGCAATTGCACACTATTGCACATTGCACAGTCTTTGCACAACGTTGCACAGTATTGCACAGATTTTGCACATTGCACATATTTGCACATTGCACACCTTTGCACAGTTGCACATTTGCACACTTGCACATCATTGCACAGTTGCACATTTGCACACATTTGCACAAGAAATTGCACACCCGTAAGATCCTTTGCACAGTTACTTGCACATACTTGCACAGAGCCTTGCACACAGAGGTTTGCACAATCCTCCGCTTGCACATTGCACATTGCACATTGCACAATTTGCACAGCATTGCACAATTGCACAGTTTGCACAGTTGCACATTGCACATTTGCACAGTCGGGCTTGCACAAGCTTTGCACACTTGCACACGTTTGCACAAGTTGCACAATTTGCACAATTTGCACACATTGCACACAAACGCACTTGCACACTTGCACAATTGCACATATCATAAGCTTGCACAAAGCCTTGCACATTGCACACATTGCACAAATTGCACATAATTTTTAATTTGCACACATTGCACATTTTGCACATGTTGCACAGTGTTGCACATTGCACAGTTGCACAATTTGCACAGGATTGATTGCACAAGATTGCACATTGCACATAATTGCACACATTGCACATTGCACATTTGCACATTGCACATTGCACATTGCACATCTCTTGCACATTGCACATTGCACAAACTTGCACATTGCACATTGCACAAATTGCACACCTTGCACAACTATTGCACAATTTGCACAAACTTGCACAGCTTGCACACTTGCACACTTGCACATTTTGCACATTGCACAATTGCACATTTGCACATTGCACAATTGCACAGACATCCACTTGCACATTTGCACAATTGCACAAATTTGCACAATTGGCTTGCACACAATTTGCACAAGCGACTGGCCTTATTGCACAGTTCTTGCACATTTGCACAGTTGCACATTGCACACTTGCACATTGCACAGTTGCACAATTGCACATTTGCACACTTGCACACCTTGCACACTTGCACAGGATTGCACATTGCACATCCTTGCACATTTATTGCACAGACATAGCCTCTTTGCACATTGCACAACATTGCACATCTTGCACATTTTGCACAGAACTATTGCACATGTTGCACATTGCACATTGCACAGAATTGCACATTGCACACTTGCACATTGCACAGATTGCACACACGCTTGCACACCGAGTAGTCTCGTTGCACAGTTGCACACCTTTGCACACGGGCTGTCATTTGCACATTGCACACCTTGCACAATTGCACATTGCACACTCAAACGATGTTGCACATTGCACATTGCACAGTTGCACACTCCCAGTTGCACAATCCTTGCACATAATTGCACATTCAATTGCACAGATTGCACAGTTGCACATGGGCATTGTGGTACTTGCACATTTTGCACACTTATTGCACACAACGAATTCTTGCACATGGCTCCCCACAACACATTGCACACTTGCACATTGCACAATTGCACAATCTTTTTTGCACATGTTGCACAATTGCACATTTGCACATTGCACACTTGCACATTGCACACTTGTTGGTCCCTTTTGCACAATTGCACATTGCACATTGCACAATTGCACACTTGCACACACATTGCACAAATTGCACAAAGGGATTGCACATTGCACAGTGCGAATTGCACATACTTTTGCACATTGCACACTTGCACATTGCACAATTGCACACGGCTGGTTGCACATTTGCACATTGCACAGATTGCACACGTTGCACACGAAGAACCGTTGCACATGCGCCTTGCACAAGCTCCGTTGCACATTGCACATTGCACAGACCGCAGAGCTTGCACAGATTGCACAGTTGCACATTTGCACATGATCCAGTTGCACAGCCACCAGACTTGCACAATTGCACATTGCACAACCTTTGCACACGTTGCACACATTGCACACTGCGCCCTTGCACACTTGCACATTGCACACTTTGCACAACGTTGCACAGGGATTTGCACAGTTTGCACATTGCACATTGCACAGCCCCACTCTTGCACAATTGCACAATTAGTTGCACAGTTGCACAGTTGCACAGTTGCACATTGGCTTTGCACAGTCGGTAGTTGCACAGGAGAGTGTTGCACATTGCACATTGCACAATGCCTTGCACAGATGACTTGCACACTTGCACATGTTGCACATTTGCACAACTGCTCTTTGCACAGCATCTTTATTGCACATTGCACATACGTTGCACACCTGACTTGCACAATTGTTCTTGCACATTGCACAGCGCCAGATTGCACAAATTTTGCACACTTTGCACACAGGTTGCACAATTGCACAATTTTGCACAATCATGTTGCACAATTGCACAATTGCACATCTTGCACAGTGTCCCTTGCACAGGTTGCACATTGCACAGCTGAGCTTGCACAGGCCACAATTGCACAGCAACGTTGCACATATACCCTTGCACACCCTTGCACATTCAGCCGAACTTTGTTGCACACTTGCACATCGTTGCACATTGCACATTGCACACATTGCACACATCTGATTGCACATTGCACACTTTGCACATTGCACATTGCACATTGCACACATTGCACATTGCACACCGCGTTGCACATTGCACATAGTTGCACATTGCACATTGCACACCATTGCACACTTTGCACACGTTGCACACTTTTGCACATTGCACAATTGCACATTGCACAGTCCTTGCACATTGCACACCTCTTGCACACAAATTGCACAATTGCACACTTGCACATTGCACATTGCACATTGCACACGTTGCACATTGCACATTGCACATAGCTTTCTAAGGGCTGTGCTAAGTTCTTGCACATTTGCACATTTGCACAGTTGCACAGAGATTGCACATACTTGCACATTGCACATTGCACAGTTGCACACTTTGCACATTTGCACATTGCACATTGCACAGATTGCACATCACTTCTTGCACAATTGCACAGACTCTTGCACATCTTGCACAGTTTGCACATTGCACAGCTTGCACACGGTTGCACATTGCACATCCCCTTGCACACTTGCACAAAACTTGCACAGCTGGTTTGCACACATTGCACACTTTGCACACTATCACTAGTTGCACATAATAGGCTTGCACAACTTGCACATCGAACCGTCCATCGTTTGCACATCGTATTTGCACAGCAGGCTTGCACAGGGCATTGCACAAGCTGTTGCACATTGCACATTGCACAATGCGTTGCACATTGCACAGTTGCACATCTTGCACAAGTTCCTTGCACATAACTTTTTGCACAAAGTTGCACATTTGCACATTAATTGCACATTGCACAATTGCACATTGCACATTGTTGCACAGACGGCCTTGCACAGATCTTGCACATCTTTGCACAAATTGCACAGCTCCTTTGCACATTGCACATTATTGCACAGTTGCACAGTTGCACAATTTGCACAGCGCCTTTTGCACAATTGCACATCGTTTGCACAGTTGCACAATTGCACATTGCACAATTTGCACATCTTGCATTTGCGCCGACTTGCACAAGCGTTGCACACTGCTTGCACACCTTGCACACGTTGCACATTGCACAGTTGCACAGCCACGTGGCCCACATTGCACATTGCACATTGCACAATATTGCACAGAGTTGCACAGTTGCACATTGCACAATGCAGATTTTGCACAAATTTATTTGCACATTTGCACAGACGTTGCACACGTTTGCACAACTTGCACAGAGGTTGCACATTGCACACTTTTGCACAACGTCTCTTGCACAATTGCACAATTGCACATTGCACATTGCACATTTGCACAGTTGCACATCTTGCACATTGTTGCACATTTGCACATTGCACAATGTATTTGCACATGTTTGCACAGCCATCTTTGCACATTGCACATGTTGCACATTGCACAAAGCATTTGCACACTTGCACAGTTGCACAGGATTGCACAATTGCACATTGCACACTTGCACATTTGCACAGATGGTTGCACATGTATTCTTGCACATTTGCACATTGCACACCTTGCACAGGACTACGTTGCACATTGCACACCAAGTCTATTGCACTTGCACACGCCTGAGATTTGCACAAAGGTCTTGCACAATTGCACACGTTGCACATCTAAGTGTTTGCACAATATATTGCACAACTCTTGCACAGGTTTTGCACATTGCACAAATGAACGTTGCACACTTGCACATTGCACAATAATTGCACACTTGAATTGCACATTGTTTGCACATTGCACACGGGCTGTTCCATGTTGCACACTTGCACATTTGCACATTGCACATTGCACATTGCACAGATTGCACACTTGCACATTGCACACATTTGCACATTTGCACAGGCTTGCACACTAACTTGCACAAGTCATCGATTTGCACATTTTGCACACACACTTGCACAGTTGCACATTGCACAGATTGCACATTGCACATTGCACATCTGGTTTCTTGCACATAATTGCACATTGCACACTGTTGCACATTGCACAGTTGCACACACGTTGCACAGTGTTGCACACAATTGCACATCTGCCTTGCACAGTTGCACAATGCACGATTGCACATTGCACATTGCACACCGAGGGGTTGCACACCCTCTTGCACATTGCACATTGCACAAATTGCACATTCTTTGCACACTTGCACAAATCCTTGCACAGTGCCCGCCGCCCTTGCACAGTTATTGCACATTGCACATTGCACATTGCACACATTTGCACATTGCACACTTGCACACCCACCACTTTGCACACATTTGTTGCACAACTGCCCGGTGTGAGGATTGCACATTTGCACATTTGCACATTTGCACAATTTGCACAATCTTTTGCACAACTTGCACATTGCACAATGTTGCACAGGTTGCACAGTGCATTTGCACACTTGCACAGTTGCACAGCAGAGGGTTGCACAACCGGGGCTTTGCACATTGCACATTGCACACATGGGGTTTTTACGCCTTGCACATTGCACAATGTTGCACATTGCACAAGGAGTTGGTTGCACAGATTGCACACTACTAGTTGCACAGTTGCACATTGCACAATGTTGCACATCTTGCACAACAATTTTGCACAAAAAGTTAGATTGCACAGTTGCACATGATCGTTGCACACTTGCACAGTTGCACACGTTGCACAAAACCTTGCACACCTTGCACACTTGCACATACAAATTGCACATTGCACAGGTTTGCACAACGAAATAGACCATTATGGATTGCACACGTGTTTGCACATGTTGTTTGCACATTTGCACAGTTGCACAGGATTGCACATTGCACATTGCACATTTGCACATTGCACACTTGCACATTTGCACATTGCACAATTGCACAGTTTGCACACGCCTTGCACAATGCGTTGCACATTGCACATTGCACAAACCCATTGCACATTGCACAGTTGCACATGTATTGCACAATAGCCATTGCACATTTGCACATCGTTTTATTGCACACCATATTCTTGCACAGGCCTTGCACATTGCACAAGTTGCACACCTTTTGCACATGTTTGCACAAATTGCACAGATTGCACAGACAATGTTTGCACATGTTGCACATTGCACAAGGTTGCACACAGCATTGCACATTGCACACGCGACATTTTTGCACAGGTATTTGCACAGGAGTCTAGTTGCACA'\n",
    "pattern='TTGCACATT'"
   ]
  },
  {
   "cell_type": "code",
   "execution_count": 43,
   "id": "d1d22f28",
   "metadata": {},
   "outputs": [
    {
     "data": {
      "text/plain": [
       "'3 34 77 92 100 157 181 226 252 260 285 332 383 399 463 518 534 625 682 698 705 712 787 829 836 885 913 942 1040 1047 1095 1130 1151 1182 1205 1222 1327 1387 1423 1448 1455 1482 1576 1583 1590 1693 1703 1720 1759 1766 1774 1798 1820 1827 1850 1857 1864 1879 1926 1973 2017 2047 2064 2081 2089 2107 2147 2154 2161 2245 2253 2312 2319 2326 2411 2456 2557 2588 2685 2769 2780 2787 2812 2845 2900 2950 2967 2974 3000 3010 3018 3037 3209 3216 3223 3301 3341 3348 3355 3393 3400 3407 3433 3461 3468 3475 3490 3506 3546 3587 3636 3653 3678 3712 3826 3833 3840 3891 3898 4046 4098 4126 4174 4200 4207 4215 4222 4229 4247 4254 4271 4278 4358 4367 4382 4390 4421 4503 4519 4534 4557 4600 4617 4647 4673 4704 4711 4728 4743 4827 4851 4876 4883 4933 4984 5053 5099 5107 5122 5158 5165 5221 5254 5269 5298 5306 5375 5382 5424 5472 5531 5578 5585 5652 5695 5702 5751 5790 5835 5967 6040 6080 6087 6117 6133 6140 6147 6163 6182 6199 6206 6251 6266 6284 6329 6336 6343 6359 6366 6407 6415 6452 6459 6483 6491 6498 6566 6592 6775 6782 6801 6862 6870 6881 6896 6903 6970 6977 7061 7142 7179 7186 7221 7258 7307 7354 7361 7368 7393 7403 7411 7455 7471 7525 7540 7574 7582 7613 7739 7769 7800 7811 7847 7855 7862 7869 7893 7910 7957 7986 8002 8009 8042 8059 8141 8148 8182 8189 8205 8267 8274 8281 8298 8366 8374 8382 8420 8506 8513 8544 8561 8615 8759 8828 8854 8861 8868 8876 8891 8899 8946 8953 8973 9013 9062 9141 9170'"
      ]
     },
     "execution_count": 43,
     "metadata": {},
     "output_type": "execute_result"
    }
   ],
   "source": [
    "\" \".join(map(str,pattern_match(seq, pattern)))"
   ]
  },
  {
   "cell_type": "code",
   "execution_count": null,
   "id": "1a5a25ae",
   "metadata": {},
   "outputs": [],
   "source": []
  },
  {
   "cell_type": "code",
   "execution_count": 48,
   "id": "0ae6b16d",
   "metadata": {},
   "outputs": [],
   "source": [
    "file_path = '/Users/leongugel/Downloads/Vibrio_cholerae.txt'\n",
    "assert os.path.exists(file_path)\n",
    "genome_txt = Path(file_path).read_text()"
   ]
  },
  {
   "cell_type": "code",
   "execution_count": 52,
   "id": "61e96868",
   "metadata": {},
   "outputs": [
    {
     "data": {
      "text/plain": [
       "'116556 149355 151913 152013 152394 186189 194276 200076 224527 307692 479770 610980 653338 679985 768828 878903 985368'"
      ]
     },
     "execution_count": 52,
     "metadata": {},
     "output_type": "execute_result"
    }
   ],
   "source": [
    "\" \".join(map(str,pattern_match(genome_txt, 'ATGATCAAG')))"
   ]
  },
  {
   "cell_type": "code",
   "execution_count": 54,
   "id": "7ae32c18",
   "metadata": {},
   "outputs": [
    {
     "data": {
      "text/plain": [
       "'60039 98409 129189 152283 152354 152411 163207 197028 200160 357976 376771 392723 532935 600085 622755 1065555'"
      ]
     },
     "execution_count": 54,
     "metadata": {},
     "output_type": "execute_result"
    }
   ],
   "source": [
    "  \" \".join(map(str,pattern_match(genome_txt, rev_compl('ATGATCAAG'))))  "
   ]
  },
  {
   "cell_type": "code",
   "execution_count": 268,
   "id": "f1508c14",
   "metadata": {},
   "outputs": [],
   "source": [
    "def get_local_patterns(l_window):\n",
    "        freq_map = count_kmers_fast(l_window, k)\n",
    "        local_patterns = set(dict(filter(lambda x: x[1]>=t, freq_map.items())).keys())\n",
    "        return local_patterns"
   ]
  },
  {
   "cell_type": "code",
   "execution_count": 261,
   "id": "3f3dfcee",
   "metadata": {},
   "outputs": [],
   "source": [
    "def fine_clumps(seq, k, l, t):\n",
    "    patterns = []\n",
    "    n =len(seq)\n",
    "    for ind in tqdm(range(n-l)):\n",
    "        l_window = seq[ind: ind+l]\n",
    "        freq_map = count_kmers_fast(l_window, k)\n",
    "        local_patterns = list(dict(filter(lambda x: x[1]>=t, freq_map.items())).keys())\n",
    "        patterns += local_patterns\n",
    "    patterns = set(patterns)\n",
    "    return patterns"
   ]
  },
  {
   "cell_type": "code",
   "execution_count": 269,
   "id": "b0340380",
   "metadata": {},
   "outputs": [],
   "source": [
    "def fine_clumps_fast(seq, k, l, t):\n",
    "    patterns = []\n",
    "    n =len(seq)\n",
    "    l_windows = [seq[ind: ind+l] for ind in tqdm(range(n-l))]\n",
    "    patterns_list = pool.map(get_local_patterns, l_windows)\n",
    "    return patterns_list\n"
   ]
  },
  {
   "cell_type": "code",
   "execution_count": 262,
   "id": "c17471fa",
   "metadata": {},
   "outputs": [
    {
     "data": {
      "text/plain": [
       "<function set.add>"
      ]
     },
     "execution_count": 262,
     "metadata": {},
     "output_type": "execute_result"
    }
   ],
   "source": [
    "set().add"
   ]
  },
  {
   "cell_type": "code",
   "execution_count": 202,
   "id": "3f3f06a7",
   "metadata": {},
   "outputs": [],
   "source": [
    "seq='CGGACTCGACAGATGTGAAGAACGACAATGTGAAGACTCGACACGACAGAGTGAAGAGAAGAGGAAACATTGTAA'"
   ]
  },
  {
   "cell_type": "code",
   "execution_count": 203,
   "id": "f01f0ccb",
   "metadata": {},
   "outputs": [
    {
     "data": {
      "text/plain": [
       "{'CGACA', 'GAAGA'}"
      ]
     },
     "execution_count": 203,
     "metadata": {},
     "output_type": "execute_result"
    }
   ],
   "source": [
    "fine_clumps(seq, 5, 50, 4)"
   ]
  },
  {
   "cell_type": "code",
   "execution_count": 93,
   "id": "9a4068fa",
   "metadata": {},
   "outputs": [
    {
     "data": {
      "text/plain": [
       "75"
      ]
     },
     "execution_count": 93,
     "metadata": {},
     "output_type": "execute_result"
    }
   ],
   "source": [
    "len(seq)"
   ]
  },
  {
   "cell_type": "code",
   "execution_count": 99,
   "id": "d655d8f6",
   "metadata": {},
   "outputs": [
    {
     "data": {
      "text/plain": [
       "True"
      ]
     },
     "execution_count": 99,
     "metadata": {},
     "output_type": "execute_result"
    }
   ],
   "source": [
    "'CGACA' in fine_clumps(seq, 5, 50, 4)"
   ]
  },
  {
   "cell_type": "code",
   "execution_count": 275,
   "id": "bde1b954",
   "metadata": {},
   "outputs": [],
   "source": [
    "seq = 'AGCTCCCCTCATTGATATATGAATGAGTAACTAAGGGGGGACCCTAGACTCGCGGGAAACTTCCTCATTGGGCGCGACCAATTTTTATTCCTAGGTACCGACAAAATAGCCTAGATTAGGATTAGGTAGATTAGGACGTTTGCGCGGAAGCAGCATGATCGTTAGGGTGAACTTCTGGTTGGCTCGAGTGGGACGGAGAAATGTTATAGTCTGATACGTCTGATACTTGTCTGATACCCCAGGCGCACATTATTAAGGCACTAACTTTCCTTTATCAGGCTCCTCAGGGTATCCTAGTGCTAGTTCCGCGGAAATTTAAGAGAAGGTGATACTACCGAGTTGAGAGTCATGCTGTTCTGTTACCCCGAAGGATGTCTCAAGTCACCCTGACCGGCACCTGTAGATGCAGAGCAACGGGCGTGCTATTTAGCTGCTATGCTATTTAAGGCAATGAGAATGAGCAATGAGGAGCTATCTAGAGATTGAGATACCAGCTAGCAGCCCTGGGGATGAGTAGCAGCGTCGGAAAACAAGGGGACATTTGATAACAATACAAGGATCGGCCTCTGCGACGTTCAGCTAGCTTTTCCTCGCCGCCGTACTCAGGTTGGGCTATAACGGACAATAGCAGTAGTCCAGCGGGCGCGTAATTCAGTATTGCTGCTAGATTCTATTTACGGGCTCACGCCTGCCTACTGCTTGCTCAGTGGCAATTCCGCTCCTCTTTTTTTTTCTCTTTTCACCCCACCGCACCGTCCTTTCCTCTGACCCACCCCATGGATGGGGATGACGAAGTGCGCTTCATCACCAGTGGCGCGAGCAGCAGCGTACTACGCAGCAGCGTACGCCCAATTGTCCTATATGAAAAGAGGTAAACGCGGTAAACGCAACGCAACTTTCAAAGGTGTCGCTAGGAACGGTAGGAACGGAGGAACGGTCTCTAACACAAGATCGCTCCATGTGTAATTACCCTACTAAACGCTCTAGGCCGGTTGAATCCTCCCCAAGCCAAGGTATCCCAAGGTATCAATTTAGGAGCACCCTATCCCATACGGAGGGTGGGAACTGTGCCTCATATTTCACACTCGTTTATCTCAAGACGGTTGGCGAATTTGGAATGACCTAGCGTAGAGCTGTCAAATTTGTCCCGAGCCGCCGAGCCGTGAGCCGTAGTCCATAGCCAACGGATGCTTTGGGACCGCAAGCCCTGCACGCTAAATCTCGACATCAGTTCGAAGACCAGACCATTCAGACCATTCCCTGTAGGATATCCCTCGCGGCAAACTTAACTTCAGAACTTCAGAACTGGGCACATTCTTTCGTCTTAACTAGTCGTGGCCGTGTATACCCAATAACTCGAAAAGGGCACGTCCCCCAGCACGTCCCAAAATACGTTGGTAAATACGTTGGCGTTGAGCATCACTTGCAACGGTGGGTTCTCACGGTCTTAACGACTCATGGAGAAGGTCACAAAACTTTTGATTGTTTCTTAGATTAGAGCAGGATAAACACTAGGATAAACGATAAACGCGTATTTAAGACGATACAATCTACGTTATCCTAATTTGCCGGCAGTCCACGTTTACGGCACTTGACAGCAATGGTGCAATTAAGGTGAGGCCTGAAATAGTACCCTCCGATATTCTTCCAGAGATATTTCGGCGAAATACTTCTGATAACTGGAAATATTCAGTGGTGTCTGATAGCCCACGGATACTTCGATTGGTTCCATTCCCGGTATTCCCGGTATTCCCGGTATTCCCGGTATTCCCGGTATTCCCGGTCTAGTCCGCCTAGTCCGCCTAGTCCGCCTAGTCCGCCTAGTCCGCCTAGTCCGC'"
   ]
  },
  {
   "cell_type": "code",
   "execution_count": 276,
   "id": "1c0f6454",
   "metadata": {},
   "outputs": [
    {
     "data": {
      "text/plain": [
       "'AGCTCCCCTCATTGATATATGAATGAGTAACTAAGGGGGGACCCTAGACTCGCGGGAAACTTCCTCATTGGGCGCGACCAATTTTTATTCCTAGGTACCGACAAAATAGCCTAGATTAGGATTAGGTAGATTAGGACGTTTGCGCGGAAGCAGCATGATCGTTAGGGTGAACTTCTGGTTGGCTCGAGTGGGACGGAGAAATGTTATAGTCTGATACGTCTGATACTTGTCTGATACCCCAGGCGCACATTATTAAGGCACTAACTTTCCTTTATCAGGCTCCTCAGGGTATCCTAGTGCTAGTTCCGCGGAAATTTAAGAGAAGGTGATACTACCGAGTTGAGAGTCATGCTGTTCTGTTACCCCGAAGGATGTCTCAAGTCACCCTGACCGGCACCTGTAGATGCAGAGCAACGGGCGTGCTATTTAGCTGCTATGCTATTTAAGGCAATGAGAATGAGCAATGAGGAGCTATCTAGAGATTGAGATACCAGCTAGCAGCCCTGGGGATGAGTAGCAGCGTCGGAAAACAAGGGGACATTTGATAACAATACAAGGATCGGCCTCTGCGACGTTCAGCTAGCTTTTCCTCGCCGCCGTACTCAGGTTGGGCTATAACGGACAATAGCAGTAGTCCAGCGGGCGCGTAATTCAGTATTGCTGCTAGATTCTATTTACGGGCTCACGCCTGCCTACTGCTTGCTCAGTGGCAATTCCGCTCCTCTTTTTTTTTCTCTTTTCACCCCACCGCACCGTCCTTTCCTCTGACCCACCCCATGGATGGGGATGACGAAGTGCGCTTCATCACCAGTGGCGCGAGCAGCAGCGTACTACGCAGCAGCGTACGCCCAATTGTCCTATATGAAAAGAGGTAAACGCGGTAAACGCAACGCAACTTTCAAAGGTGTCGCTAGGAACGGTAGGAACGGAGGAACGGTCTCTAACACAAGATCGCTCCATGTGTAATTACCCTACTAAACGCTCTAGGCCGGTTGAATCCTCCCCAAGCCAAGGTATCCCAAGGTATCAATTTAGGAGCACCCTATCCCATACGGAGGGTGGGAACTGTGCCTCATATTTCACACTCGTTTATCTCAAGACGGTTGGCGAATTTGGAATGACCTAGCGTAGAGCTGTCAAATTTGTCCCGAGCCGCCGAGCCGTGAGCCGTAGTCCATAGCCAACGGATGCTTTGGGACCGCAAGCCCTGCACGCTAAATCTCGACATCAGTTCGAAGACCAGACCATTCAGACCATTCCCTGTAGGATATCCCTCGCGGCAAACTTAACTTCAGAACTTCAGAACTGGGCACATTCTTTCGTCTTAACTAGTCGTGGCCGTGTATACCCAATAACTCGAAAAGGGCACGTCCCCCAGCACGTCCCAAAATACGTTGGTAAATACGTTGGCGTTGAGCATCACTTGCAACGGTGGGTTCTCACGGTCTTAACGACTCATGGAGAAGGTCACAAAACTTTTGATTGTTTCTTAGATTAGAGCAGGATAAACACTAGGATAAACGATAAACGCGTATTTAAGACGATACAATCTACGTTATCCTAATTTGCCGGCAGTCCACGTTTACGGCACTTGACAGCAATGGTGCAATTAAGGTGAGGCCTGAAATAGTACCCTCCGATATTCTTCCAGAGATATTTCGGCGAAATACTTCTGATAACTGGAAATATTCAGTGGTGTCTGATAGCCCACGGATACTTCGATTGGTTCCATTCCCGGTATTCCCGGTATTCCCGGTATTCCCGGTATTCCCGGTATTCCCGGTCTAGTCCGCCTAGTCCGCCTAGTCCGCCTAGTCCGCCTAGTCCGCCTAGTCCGC'"
      ]
     },
     "execution_count": 276,
     "metadata": {},
     "output_type": "execute_result"
    }
   ],
   "source": [
    "seq"
   ]
  },
  {
   "cell_type": "code",
   "execution_count": 277,
   "id": "723a664e",
   "metadata": {},
   "outputs": [
    {
     "name": "stderr",
     "output_type": "stream",
     "text": [
      "100%|██████████| 1818/1818 [00:00<00:00, 90299.43it/s]\n"
     ]
    },
    {
     "data": {
      "text/plain": [
       "{'AACGC',\n",
       " 'AACTT',\n",
       " 'AATGA',\n",
       " 'AGACC',\n",
       " 'AGCCG',\n",
       " 'ATGAG',\n",
       " 'ATTAG',\n",
       " 'CCAAG',\n",
       " 'GACCA',\n",
       " 'GAGCC',\n",
       " 'GATTA',\n",
       " 'GCAGC',\n",
       " 'TTAGG',\n",
       " 'TTTTT'}"
      ]
     },
     "execution_count": 277,
     "metadata": {},
     "output_type": "execute_result"
    }
   ],
   "source": [
    "fine_clumps(seq, 5, 20, 3)"
   ]
  },
  {
   "cell_type": "code",
   "execution_count": 278,
   "id": "ef944b14",
   "metadata": {},
   "outputs": [
    {
     "name": "stderr",
     "output_type": "stream",
     "text": [
      "100%|██████████| 1818/1818 [00:00<00:00, 1243516.74it/s]\n"
     ]
    },
    {
     "ename": "KeyboardInterrupt",
     "evalue": "",
     "output_type": "error",
     "traceback": [
      "\u001b[0;31m---------------------------------------------------------------------------\u001b[0m",
      "\u001b[0;31mKeyboardInterrupt\u001b[0m                         Traceback (most recent call last)",
      "\u001b[0;32m<ipython-input-278-7eb6d5ca4b0a>\u001b[0m in \u001b[0;36m<module>\u001b[0;34m\u001b[0m\n\u001b[0;32m----> 1\u001b[0;31m \u001b[0mfine_clumps_fast\u001b[0m\u001b[0;34m(\u001b[0m\u001b[0mseq\u001b[0m\u001b[0;34m,\u001b[0m \u001b[0;36m5\u001b[0m\u001b[0;34m,\u001b[0m \u001b[0;36m20\u001b[0m\u001b[0;34m,\u001b[0m \u001b[0;36m3\u001b[0m\u001b[0;34m)\u001b[0m\u001b[0;34m\u001b[0m\u001b[0;34m\u001b[0m\u001b[0m\n\u001b[0m",
      "\u001b[0;32m<ipython-input-269-6017494e3838>\u001b[0m in \u001b[0;36mfine_clumps_fast\u001b[0;34m(seq, k, l, t)\u001b[0m\n\u001b[1;32m      3\u001b[0m     \u001b[0mn\u001b[0m \u001b[0;34m=\u001b[0m\u001b[0mlen\u001b[0m\u001b[0;34m(\u001b[0m\u001b[0mseq\u001b[0m\u001b[0;34m)\u001b[0m\u001b[0;34m\u001b[0m\u001b[0;34m\u001b[0m\u001b[0m\n\u001b[1;32m      4\u001b[0m     \u001b[0ml_windows\u001b[0m \u001b[0;34m=\u001b[0m \u001b[0;34m[\u001b[0m\u001b[0mseq\u001b[0m\u001b[0;34m[\u001b[0m\u001b[0mind\u001b[0m\u001b[0;34m:\u001b[0m \u001b[0mind\u001b[0m\u001b[0;34m+\u001b[0m\u001b[0ml\u001b[0m\u001b[0;34m]\u001b[0m \u001b[0;32mfor\u001b[0m \u001b[0mind\u001b[0m \u001b[0;32min\u001b[0m \u001b[0mtqdm\u001b[0m\u001b[0;34m(\u001b[0m\u001b[0mrange\u001b[0m\u001b[0;34m(\u001b[0m\u001b[0mn\u001b[0m\u001b[0;34m-\u001b[0m\u001b[0ml\u001b[0m\u001b[0;34m)\u001b[0m\u001b[0;34m)\u001b[0m\u001b[0;34m]\u001b[0m\u001b[0;34m\u001b[0m\u001b[0;34m\u001b[0m\u001b[0m\n\u001b[0;32m----> 5\u001b[0;31m     \u001b[0mpatterns_list\u001b[0m \u001b[0;34m=\u001b[0m \u001b[0mpool\u001b[0m\u001b[0;34m.\u001b[0m\u001b[0mmap\u001b[0m\u001b[0;34m(\u001b[0m\u001b[0mget_local_patterns\u001b[0m\u001b[0;34m,\u001b[0m \u001b[0ml_windows\u001b[0m\u001b[0;34m)\u001b[0m\u001b[0;34m\u001b[0m\u001b[0;34m\u001b[0m\u001b[0m\n\u001b[0m\u001b[1;32m      6\u001b[0m     \u001b[0;32mreturn\u001b[0m \u001b[0mpatterns_list\u001b[0m\u001b[0;34m\u001b[0m\u001b[0;34m\u001b[0m\u001b[0m\n",
      "\u001b[0;32m/Applications/Xcode.app/Contents/Developer/Library/Frameworks/Python3.framework/Versions/3.8/lib/python3.8/multiprocessing/pool.py\u001b[0m in \u001b[0;36mmap\u001b[0;34m(self, func, iterable, chunksize)\u001b[0m\n\u001b[1;32m    362\u001b[0m         \u001b[0;32min\u001b[0m \u001b[0ma\u001b[0m \u001b[0mlist\u001b[0m \u001b[0mthat\u001b[0m \u001b[0;32mis\u001b[0m \u001b[0mreturned\u001b[0m\u001b[0;34m.\u001b[0m\u001b[0;34m\u001b[0m\u001b[0;34m\u001b[0m\u001b[0m\n\u001b[1;32m    363\u001b[0m         '''\n\u001b[0;32m--> 364\u001b[0;31m         \u001b[0;32mreturn\u001b[0m \u001b[0mself\u001b[0m\u001b[0;34m.\u001b[0m\u001b[0m_map_async\u001b[0m\u001b[0;34m(\u001b[0m\u001b[0mfunc\u001b[0m\u001b[0;34m,\u001b[0m \u001b[0miterable\u001b[0m\u001b[0;34m,\u001b[0m \u001b[0mmapstar\u001b[0m\u001b[0;34m,\u001b[0m \u001b[0mchunksize\u001b[0m\u001b[0;34m)\u001b[0m\u001b[0;34m.\u001b[0m\u001b[0mget\u001b[0m\u001b[0;34m(\u001b[0m\u001b[0;34m)\u001b[0m\u001b[0;34m\u001b[0m\u001b[0;34m\u001b[0m\u001b[0m\n\u001b[0m\u001b[1;32m    365\u001b[0m \u001b[0;34m\u001b[0m\u001b[0m\n\u001b[1;32m    366\u001b[0m     \u001b[0;32mdef\u001b[0m \u001b[0mstarmap\u001b[0m\u001b[0;34m(\u001b[0m\u001b[0mself\u001b[0m\u001b[0;34m,\u001b[0m \u001b[0mfunc\u001b[0m\u001b[0;34m,\u001b[0m \u001b[0miterable\u001b[0m\u001b[0;34m,\u001b[0m \u001b[0mchunksize\u001b[0m\u001b[0;34m=\u001b[0m\u001b[0;32mNone\u001b[0m\u001b[0;34m)\u001b[0m\u001b[0;34m:\u001b[0m\u001b[0;34m\u001b[0m\u001b[0;34m\u001b[0m\u001b[0m\n",
      "\u001b[0;32m/Applications/Xcode.app/Contents/Developer/Library/Frameworks/Python3.framework/Versions/3.8/lib/python3.8/multiprocessing/pool.py\u001b[0m in \u001b[0;36mget\u001b[0;34m(self, timeout)\u001b[0m\n\u001b[1;32m    763\u001b[0m \u001b[0;34m\u001b[0m\u001b[0m\n\u001b[1;32m    764\u001b[0m     \u001b[0;32mdef\u001b[0m \u001b[0mget\u001b[0m\u001b[0;34m(\u001b[0m\u001b[0mself\u001b[0m\u001b[0;34m,\u001b[0m \u001b[0mtimeout\u001b[0m\u001b[0;34m=\u001b[0m\u001b[0;32mNone\u001b[0m\u001b[0;34m)\u001b[0m\u001b[0;34m:\u001b[0m\u001b[0;34m\u001b[0m\u001b[0;34m\u001b[0m\u001b[0m\n\u001b[0;32m--> 765\u001b[0;31m         \u001b[0mself\u001b[0m\u001b[0;34m.\u001b[0m\u001b[0mwait\u001b[0m\u001b[0;34m(\u001b[0m\u001b[0mtimeout\u001b[0m\u001b[0;34m)\u001b[0m\u001b[0;34m\u001b[0m\u001b[0;34m\u001b[0m\u001b[0m\n\u001b[0m\u001b[1;32m    766\u001b[0m         \u001b[0;32mif\u001b[0m \u001b[0;32mnot\u001b[0m \u001b[0mself\u001b[0m\u001b[0;34m.\u001b[0m\u001b[0mready\u001b[0m\u001b[0;34m(\u001b[0m\u001b[0;34m)\u001b[0m\u001b[0;34m:\u001b[0m\u001b[0;34m\u001b[0m\u001b[0;34m\u001b[0m\u001b[0m\n\u001b[1;32m    767\u001b[0m             \u001b[0;32mraise\u001b[0m \u001b[0mTimeoutError\u001b[0m\u001b[0;34m\u001b[0m\u001b[0;34m\u001b[0m\u001b[0m\n",
      "\u001b[0;32m/Applications/Xcode.app/Contents/Developer/Library/Frameworks/Python3.framework/Versions/3.8/lib/python3.8/multiprocessing/pool.py\u001b[0m in \u001b[0;36mwait\u001b[0;34m(self, timeout)\u001b[0m\n\u001b[1;32m    760\u001b[0m \u001b[0;34m\u001b[0m\u001b[0m\n\u001b[1;32m    761\u001b[0m     \u001b[0;32mdef\u001b[0m \u001b[0mwait\u001b[0m\u001b[0;34m(\u001b[0m\u001b[0mself\u001b[0m\u001b[0;34m,\u001b[0m \u001b[0mtimeout\u001b[0m\u001b[0;34m=\u001b[0m\u001b[0;32mNone\u001b[0m\u001b[0;34m)\u001b[0m\u001b[0;34m:\u001b[0m\u001b[0;34m\u001b[0m\u001b[0;34m\u001b[0m\u001b[0m\n\u001b[0;32m--> 762\u001b[0;31m         \u001b[0mself\u001b[0m\u001b[0;34m.\u001b[0m\u001b[0m_event\u001b[0m\u001b[0;34m.\u001b[0m\u001b[0mwait\u001b[0m\u001b[0;34m(\u001b[0m\u001b[0mtimeout\u001b[0m\u001b[0;34m)\u001b[0m\u001b[0;34m\u001b[0m\u001b[0;34m\u001b[0m\u001b[0m\n\u001b[0m\u001b[1;32m    763\u001b[0m \u001b[0;34m\u001b[0m\u001b[0m\n\u001b[1;32m    764\u001b[0m     \u001b[0;32mdef\u001b[0m \u001b[0mget\u001b[0m\u001b[0;34m(\u001b[0m\u001b[0mself\u001b[0m\u001b[0;34m,\u001b[0m \u001b[0mtimeout\u001b[0m\u001b[0;34m=\u001b[0m\u001b[0;32mNone\u001b[0m\u001b[0;34m)\u001b[0m\u001b[0;34m:\u001b[0m\u001b[0;34m\u001b[0m\u001b[0;34m\u001b[0m\u001b[0m\n",
      "\u001b[0;32m/Applications/Xcode.app/Contents/Developer/Library/Frameworks/Python3.framework/Versions/3.8/lib/python3.8/threading.py\u001b[0m in \u001b[0;36mwait\u001b[0;34m(self, timeout)\u001b[0m\n\u001b[1;32m    556\u001b[0m             \u001b[0msignaled\u001b[0m \u001b[0;34m=\u001b[0m \u001b[0mself\u001b[0m\u001b[0;34m.\u001b[0m\u001b[0m_flag\u001b[0m\u001b[0;34m\u001b[0m\u001b[0;34m\u001b[0m\u001b[0m\n\u001b[1;32m    557\u001b[0m             \u001b[0;32mif\u001b[0m \u001b[0;32mnot\u001b[0m \u001b[0msignaled\u001b[0m\u001b[0;34m:\u001b[0m\u001b[0;34m\u001b[0m\u001b[0;34m\u001b[0m\u001b[0m\n\u001b[0;32m--> 558\u001b[0;31m                 \u001b[0msignaled\u001b[0m \u001b[0;34m=\u001b[0m \u001b[0mself\u001b[0m\u001b[0;34m.\u001b[0m\u001b[0m_cond\u001b[0m\u001b[0;34m.\u001b[0m\u001b[0mwait\u001b[0m\u001b[0;34m(\u001b[0m\u001b[0mtimeout\u001b[0m\u001b[0;34m)\u001b[0m\u001b[0;34m\u001b[0m\u001b[0;34m\u001b[0m\u001b[0m\n\u001b[0m\u001b[1;32m    559\u001b[0m             \u001b[0;32mreturn\u001b[0m \u001b[0msignaled\u001b[0m\u001b[0;34m\u001b[0m\u001b[0;34m\u001b[0m\u001b[0m\n\u001b[1;32m    560\u001b[0m \u001b[0;34m\u001b[0m\u001b[0m\n",
      "\u001b[0;32m/Applications/Xcode.app/Contents/Developer/Library/Frameworks/Python3.framework/Versions/3.8/lib/python3.8/threading.py\u001b[0m in \u001b[0;36mwait\u001b[0;34m(self, timeout)\u001b[0m\n\u001b[1;32m    300\u001b[0m         \u001b[0;32mtry\u001b[0m\u001b[0;34m:\u001b[0m    \u001b[0;31m# restore state no matter what (e.g., KeyboardInterrupt)\u001b[0m\u001b[0;34m\u001b[0m\u001b[0;34m\u001b[0m\u001b[0m\n\u001b[1;32m    301\u001b[0m             \u001b[0;32mif\u001b[0m \u001b[0mtimeout\u001b[0m \u001b[0;32mis\u001b[0m \u001b[0;32mNone\u001b[0m\u001b[0;34m:\u001b[0m\u001b[0;34m\u001b[0m\u001b[0;34m\u001b[0m\u001b[0m\n\u001b[0;32m--> 302\u001b[0;31m                 \u001b[0mwaiter\u001b[0m\u001b[0;34m.\u001b[0m\u001b[0macquire\u001b[0m\u001b[0;34m(\u001b[0m\u001b[0;34m)\u001b[0m\u001b[0;34m\u001b[0m\u001b[0;34m\u001b[0m\u001b[0m\n\u001b[0m\u001b[1;32m    303\u001b[0m                 \u001b[0mgotit\u001b[0m \u001b[0;34m=\u001b[0m \u001b[0;32mTrue\u001b[0m\u001b[0;34m\u001b[0m\u001b[0;34m\u001b[0m\u001b[0m\n\u001b[1;32m    304\u001b[0m             \u001b[0;32melse\u001b[0m\u001b[0;34m:\u001b[0m\u001b[0;34m\u001b[0m\u001b[0;34m\u001b[0m\u001b[0m\n",
      "\u001b[0;31mKeyboardInterrupt\u001b[0m: "
     ]
    }
   ],
   "source": [
    "fine_clumps_fast(seq, 5, 20, 3)"
   ]
  },
  {
   "cell_type": "code",
   "execution_count": 88,
   "id": "8224f0ab",
   "metadata": {},
   "outputs": [],
   "source": [
    "file_path = '/Users/leongugel/Downloads/E_coli.txt'\n",
    "assert os.path.exists(file_path)\n",
    "genome_e_coli = Path(file_path).read_text()"
   ]
  },
  {
   "cell_type": "code",
   "execution_count": 306,
   "id": "f700da72",
   "metadata": {},
   "outputs": [
    {
     "name": "stderr",
     "output_type": "stream",
     "text": [
      "100%|██████████| 4639175/4639175 [14:54<00:00, 5188.99it/s]\n"
     ]
    }
   ],
   "source": [
    "k_9_mers_e_coli = fine_clumps(genome_e_coli, 9, 500, 3)"
   ]
  },
  {
   "cell_type": "code",
   "execution_count": 307,
   "id": "3cb137e6",
   "metadata": {},
   "outputs": [
    {
     "data": {
      "text/plain": [
       "{'TTGGTGCGA',\n",
       " 'CACCTCCCT',\n",
       " 'TATCCGCCC',\n",
       " 'CTCCGACCG',\n",
       " 'GCAGAAGCA',\n",
       " 'GGTTCGTAG',\n",
       " 'CCGCTCACT',\n",
       " 'CTGCGGGCA',\n",
       " 'CCTGATTTA',\n",
       " 'CCGCAACAA',\n",
       " 'AGTTTGGCA',\n",
       " 'CGCTTTGTT',\n",
       " 'TAAACGCCT',\n",
       " 'CAGAATATT',\n",
       " 'AGCTGCAGC',\n",
       " 'CTACCGCTA',\n",
       " 'GTACTCTAT',\n",
       " 'ACGCGCAAG',\n",
       " 'GGCGGTGAG',\n",
       " 'GCAGGTTCG',\n",
       " 'CAGCAGCAA',\n",
       " 'TCACTGCGT',\n",
       " 'GACAGCGCA',\n",
       " 'TCGAACCTC',\n",
       " 'GGTAGCTCG',\n",
       " 'AAAAGCGGC',\n",
       " 'CAGGCCTAC',\n",
       " 'TGATAAGAC',\n",
       " 'TGCGGATTC',\n",
       " 'CGCGTTAGC',\n",
       " 'GAAGGATTA',\n",
       " 'TAAGGCGTT',\n",
       " 'GGTGATGTT',\n",
       " 'CTACGGATG',\n",
       " 'TAGGCCGGA',\n",
       " 'CGCACAGCG',\n",
       " 'TGCGCTTTG',\n",
       " 'GCTTTGCTT',\n",
       " 'AATCAATTG',\n",
       " 'CGACGCTTA',\n",
       " 'GAAAAAAAA',\n",
       " 'GGCAGTTGG',\n",
       " 'CGCATTACG',\n",
       " 'GCTTTCTTT',\n",
       " 'ATCAGCACC',\n",
       " 'CTTGGCGAT',\n",
       " 'CGATACCCC',\n",
       " 'AACCGATGC',\n",
       " 'CGCACCAAA',\n",
       " 'CCTTCGGGT',\n",
       " 'CCGCTGTGA',\n",
       " 'GGGGGGGGA',\n",
       " 'GGCTGGGGT',\n",
       " 'GAACTGTAG',\n",
       " 'GTTGACTTT',\n",
       " 'TCACGACGT',\n",
       " 'CGTGCTTCT',\n",
       " 'CATTATTGC',\n",
       " 'AGGCGTTTA',\n",
       " 'CTGGCGGCA',\n",
       " 'TACACCGCT',\n",
       " 'CACCGTTGC',\n",
       " 'CCCTTCGGG',\n",
       " 'GGTTCGAAT',\n",
       " 'GGTGCATCC',\n",
       " 'GAACAGCAA',\n",
       " 'GGCGTGAAC',\n",
       " 'GCCGACCTG',\n",
       " 'ACGCTCTCT',\n",
       " 'CTGTAGGTC',\n",
       " 'GCAGCCCGC',\n",
       " 'GCTAGCGCG',\n",
       " 'CCTACACCG',\n",
       " 'GTAGCCGAG',\n",
       " 'GCTCTCTCG',\n",
       " 'CTCGGTTCG',\n",
       " 'GCACCTCCC',\n",
       " 'CCCCGGTCG',\n",
       " 'CGGTTGCGC',\n",
       " 'AAAGCCGCC',\n",
       " 'CATCTAACG',\n",
       " 'TTCCCGCTC',\n",
       " 'CGACATTAT',\n",
       " 'CGCCGCAGC',\n",
       " 'CGCTGACGC',\n",
       " 'CGGATGCGC',\n",
       " 'GACATCCAA',\n",
       " 'GGCGGATGC',\n",
       " 'CGGGAATTT',\n",
       " 'TATAAAATA',\n",
       " 'CCAGTTGTC',\n",
       " 'ATAAAATAT',\n",
       " 'GTCGGTTCA',\n",
       " 'TCAGGCAAC',\n",
       " 'ACGAGCTCT',\n",
       " 'CACCAGCGC',\n",
       " 'GAAGCGGGT',\n",
       " 'CAGGTTCGA',\n",
       " 'ACAGGTCGA',\n",
       " 'CGTACTTTC',\n",
       " 'TATCCAGCG',\n",
       " 'GCCGGTTGC',\n",
       " 'GCGACCAGC',\n",
       " 'GATGCGCCG',\n",
       " 'GACCTACGG',\n",
       " 'CGCAAGCTG',\n",
       " 'AGCTCTTCT',\n",
       " 'TAACCCGAA',\n",
       " 'GGATAAGAC',\n",
       " 'GGATGCATC',\n",
       " 'AGTTAAATA',\n",
       " 'GCTGGAACA',\n",
       " 'GCGCTGGCG',\n",
       " 'ACCCACCAC',\n",
       " 'AGAACAGGT',\n",
       " 'CCCGTCATC',\n",
       " 'TAATCAATT',\n",
       " 'TGAAGTGCT',\n",
       " 'GCGGTTCGA',\n",
       " 'GTGCGAGGG',\n",
       " 'GCACTGGAG',\n",
       " 'GAAGAACAG',\n",
       " 'TCGCTTCGC',\n",
       " 'GAAGGTCGT',\n",
       " 'CATCATCAT',\n",
       " 'GCCGTCGAA',\n",
       " 'GGCTGGCGT',\n",
       " 'ATTACTCAG',\n",
       " 'GAGCAGTTG',\n",
       " 'AGTTGACTT',\n",
       " 'GTAGGCCTG',\n",
       " 'ACTCTATCC',\n",
       " 'GGGGTGGAG',\n",
       " 'GTAGGCCGG',\n",
       " 'GCTGATTGC',\n",
       " 'ACCGCTACT',\n",
       " 'GCTAATGCG',\n",
       " 'ACGGTGCTA',\n",
       " 'ATTATTGCG',\n",
       " 'GGCCTACGG',\n",
       " 'TTTACCGCT',\n",
       " 'GCTGCAGCT',\n",
       " 'CCCACCAAT',\n",
       " 'AAGGTCGGG',\n",
       " 'CAACCGATG',\n",
       " 'CAGGCAACG',\n",
       " 'ATAGCCTGA',\n",
       " 'TGAAACTGA',\n",
       " 'CCGCAACCA',\n",
       " 'ACGACCCAC',\n",
       " 'CTTATCAGG',\n",
       " 'ATGCATCGG',\n",
       " 'TAGCTCGTC',\n",
       " 'GCGCTGGAA',\n",
       " 'CCGGTTTAT',\n",
       " 'GATGCCTGA',\n",
       " 'TGCCAAGGT',\n",
       " 'CGCTTTCTT',\n",
       " 'CAACGGCTG',\n",
       " 'TGCACGACC',\n",
       " 'AAATGGCGC',\n",
       " 'ATCTGTAGG',\n",
       " 'CGCTATTGC',\n",
       " 'ATAAGGCGG',\n",
       " 'CAACCGGTT',\n",
       " 'GCCTGGTAG',\n",
       " 'ACGACCTTG',\n",
       " 'CATCCGGCA',\n",
       " 'GCGCAAGCG',\n",
       " 'GCGGGAATA',\n",
       " 'GGAGGATTC',\n",
       " 'GGCTGCCGG',\n",
       " 'TACGAGCTC',\n",
       " 'TATCAGGCC',\n",
       " 'CTACCAATT',\n",
       " 'ACCCACCAA',\n",
       " 'TAACGCGTC',\n",
       " 'GACGGTGCT',\n",
       " 'GAAGCTAGC',\n",
       " 'CCACGTCCG',\n",
       " 'ACTTTCGTA',\n",
       " 'GCAGTCGGC',\n",
       " 'GGGCAGCCC',\n",
       " 'ACTGCGTTC',\n",
       " 'CGGTTACGC',\n",
       " 'AAAATCGCA',\n",
       " 'TCGATCCCG',\n",
       " 'GCCGGTATC',\n",
       " 'AAAGCGGCA',\n",
       " 'GGCCGGATA',\n",
       " 'TCCGCCCTA',\n",
       " 'GCGTGAACG',\n",
       " 'CCTGCGGGC',\n",
       " 'CTGACCGAT',\n",
       " 'AAGCGGTTG',\n",
       " 'TGCATCCGG',\n",
       " 'AGGTCGGAT',\n",
       " 'CCTGCGGCA',\n",
       " 'CGTCGCATC',\n",
       " 'GCCGCTGAC',\n",
       " 'GTCGAAGCC',\n",
       " 'GCCCGCTCA',\n",
       " 'CTGCGGCAA',\n",
       " 'CGCGTCTGC',\n",
       " 'CGAGTTCGA',\n",
       " 'GTGCCGAAC',\n",
       " 'GGTGCTACC',\n",
       " 'GCACGACCT',\n",
       " 'CTGTCGCGT',\n",
       " 'CGGTTATGT',\n",
       " 'TTCACGACG',\n",
       " 'GAGCTACGG',\n",
       " 'ACTGCCGGA',\n",
       " 'GGTGATTAG',\n",
       " 'ACAACCGGT',\n",
       " 'CCGCTACTA',\n",
       " 'CCGCCGTCG',\n",
       " 'ACCTGTAGG',\n",
       " 'GAATCCTGC',\n",
       " 'GGGGATTGA',\n",
       " 'TCACGCCGC',\n",
       " 'AAAGCAGAA',\n",
       " 'GGGGACTTG',\n",
       " 'GTGTGCAAT',\n",
       " 'TTTGTAGGC',\n",
       " 'ACGCTTAAC',\n",
       " 'CTTGAACCC',\n",
       " 'TCCGACCTA',\n",
       " 'CCTCCAAAA',\n",
       " 'TACGGATGC',\n",
       " 'AGTTGTCGA',\n",
       " 'CGCTTGGCG',\n",
       " 'AGCGCGTCT',\n",
       " 'TACCGCTAC',\n",
       " 'CCGGTTGCG',\n",
       " 'CGGTCTGTC',\n",
       " 'TCAGCGCCT',\n",
       " 'GTGGGGGAA',\n",
       " 'AATCCTGCA',\n",
       " 'CGCCCTTCG',\n",
       " 'CCAGCAGCA',\n",
       " 'AACTGACCG',\n",
       " 'GTCTCGTTT',\n",
       " 'TTCGGGTCG',\n",
       " 'AGGCGGTTA',\n",
       " 'GAAAGAAGC',\n",
       " 'CACAGCGTC',\n",
       " 'GAGGGGGGG',\n",
       " 'TGGGTCAAA',\n",
       " 'CTGAGCTAC',\n",
       " 'GCCTACAAC',\n",
       " 'GCGGCGTAA',\n",
       " 'AGAAAAAGC',\n",
       " 'GGCAGCCCG',\n",
       " 'ACTTGAACC',\n",
       " 'AGCCGGTTG',\n",
       " 'CCGGTCGGG',\n",
       " 'GCAAGCGTC',\n",
       " 'TTGTGCCGC',\n",
       " 'CCCGGACGG',\n",
       " 'GCCTACGGA',\n",
       " 'CTGCACGAC',\n",
       " 'GCAGGAAGG',\n",
       " 'GGTCGATCC',\n",
       " 'AGGCCTACA',\n",
       " 'GCCGCCAGT',\n",
       " 'TAGCCTGAT',\n",
       " 'GTAGAGCAC',\n",
       " 'GTAGCGCAT',\n",
       " 'GTGCTTCTT',\n",
       " 'GCGCCGCTG',\n",
       " 'TATCCCCGC',\n",
       " 'AGGATTACT',\n",
       " 'ACGGATGGC',\n",
       " 'GCTGGCGAT',\n",
       " 'GGTGGGTCA',\n",
       " 'ATGCGACGC',\n",
       " 'CCTGATGCG',\n",
       " 'ATCCTTCCC',\n",
       " 'ATCAGGCAT',\n",
       " 'CATTACGCG',\n",
       " 'GCATCCGAC',\n",
       " 'TCTCGTTTC',\n",
       " 'ATCCGGCAA',\n",
       " 'ATGCCGCAT',\n",
       " 'CCGGGAGGA',\n",
       " 'CAAATCAAC',\n",
       " 'ATCCGCCCT',\n",
       " 'ACCGATAAG',\n",
       " 'GAAAGCCAG',\n",
       " 'GGGGGAAGG',\n",
       " 'CATCCGACA',\n",
       " 'TTGCCGCCG',\n",
       " 'AACTGGCTG',\n",
       " 'GATGCGCTT',\n",
       " 'CAGCGCACC',\n",
       " 'CTTGTGCCG',\n",
       " 'ACGGTTATG',\n",
       " 'TCGCATCCG',\n",
       " 'CGCCGAAGC',\n",
       " 'AGCCGAGTA',\n",
       " 'TAGAGCACG',\n",
       " 'TTATGCCGC',\n",
       " 'AGCCCGTAC',\n",
       " 'ACAATGCCT',\n",
       " 'GCGCTTTGC',\n",
       " 'GATCGGTTC',\n",
       " 'ACGCCTTAT',\n",
       " 'CCCGGTCGG',\n",
       " 'ACGACGCGG',\n",
       " 'CCTGCACGA',\n",
       " 'TCGGATAAG',\n",
       " 'CGGCAACGC',\n",
       " 'GGAATAGCT',\n",
       " 'GCCTGCGGC',\n",
       " 'TGTTCATAT',\n",
       " 'GTTAGCTCA',\n",
       " 'TAAGAGATG',\n",
       " 'GCGCTGCGC',\n",
       " 'TTGAAGTTG',\n",
       " 'TCAATTGGT',\n",
       " 'TTTTGGGTA',\n",
       " 'ACAGTCATT',\n",
       " 'GTCGGATGC',\n",
       " 'CTGGCGCGG',\n",
       " 'AAGACGCAC',\n",
       " 'AGCAACAGG',\n",
       " 'TGCGCCGCT',\n",
       " 'ATCAGGCGT',\n",
       " 'CCGCATCCG',\n",
       " 'GGTGAAACT',\n",
       " 'CCGTAGGCC',\n",
       " 'TTCGTACGA',\n",
       " 'TACGCCGCA',\n",
       " 'CATGCCGAC',\n",
       " 'AAGGTCGTC',\n",
       " 'CAGCTGAGC',\n",
       " 'TCGTAGCCG',\n",
       " 'AGGCCTGAT',\n",
       " 'GCGGCACTG',\n",
       " 'TTGCCTGAT',\n",
       " 'TTAGCTCAG',\n",
       " 'ACGCGTTAG',\n",
       " 'CCGGCAGTT',\n",
       " 'CCTGATAAG',\n",
       " 'GGGGGGGAC',\n",
       " 'GTCGGGCTC',\n",
       " 'CAAATCCGG',\n",
       " 'ATCGGCATC',\n",
       " 'GATTGCCGA',\n",
       " 'TCATCCTTC',\n",
       " 'CCTACAACT',\n",
       " 'AAGAGATGG',\n",
       " 'CCGGCCTAC',\n",
       " 'GGCGGTTCG',\n",
       " 'TGCGCACGA',\n",
       " 'CTCCAAAAG',\n",
       " 'CGCTGTGAA',\n",
       " 'GATGCGACG',\n",
       " 'CTGCAGCTG',\n",
       " 'GACAGTCAT',\n",
       " 'GATAAGGCG',\n",
       " 'GCGCAAAGC',\n",
       " 'ATCCCCGCT',\n",
       " 'GCAATAGCC',\n",
       " 'CCTACGGAG',\n",
       " 'CGGTGCCTT',\n",
       " 'ATGCGGCGC',\n",
       " 'TCAACGCCT',\n",
       " 'CGGGAATAG',\n",
       " 'GTACGAGCT',\n",
       " 'AAGAAAGCG',\n",
       " 'CGCCAGCAG',\n",
       " 'CGGCGGCGG',\n",
       " 'GCCGAGGAT',\n",
       " 'TCGGTTTAT',\n",
       " 'CTGTCGCCA',\n",
       " 'CCGACCGCT',\n",
       " 'CCGTTGCCG',\n",
       " 'TGCGTATCG',\n",
       " 'CCGCTATTG',\n",
       " 'CCAGCTCTT',\n",
       " 'GAAAGTGAT',\n",
       " 'CTCATCCCC',\n",
       " 'CGCTTCGCT',\n",
       " 'TATGTTCCG',\n",
       " 'CGACGCTTG',\n",
       " 'GTTCACGGT',\n",
       " 'AGCTGAGCT',\n",
       " 'GAGAGCACC',\n",
       " 'TGGTGCGAG',\n",
       " 'GGTTACGCC',\n",
       " 'CAATATTGG',\n",
       " 'TTTTTACGT',\n",
       " 'GCTATTGCC',\n",
       " 'TTCGAATCC',\n",
       " 'AAAGTTGCC',\n",
       " 'CGTCTTATC',\n",
       " 'GCCCGTACT',\n",
       " 'CGCTCACTG',\n",
       " 'GGCCTACAA',\n",
       " 'GCATTACGC',\n",
       " 'GTAGGTCGG',\n",
       " 'CTGAAAGAA',\n",
       " 'GCGCGGGGA',\n",
       " 'TGAGGGGGG',\n",
       " 'CGCGGGGAA',\n",
       " 'AGGCAACGG',\n",
       " 'GTTTGGCAA',\n",
       " 'GTGCCGCAT',\n",
       " 'GGTTCAAAT',\n",
       " 'ACGTCCGTA',\n",
       " 'GGGTCAAAA',\n",
       " 'TGATTTAGC',\n",
       " 'GGCGCACAA',\n",
       " 'TGATTTTGT',\n",
       " 'GCGAAAGTG',\n",
       " 'CTTACCGCT',\n",
       " 'CTTCTTTAA',\n",
       " 'CGCATAGCG',\n",
       " 'GTGAGGGGG',\n",
       " 'GTGAAGTGC',\n",
       " 'CGGATGCAT',\n",
       " 'AATTGGTCG',\n",
       " 'CAAGGTCGG',\n",
       " 'CTTACAAGG',\n",
       " 'CCGAAGCGG',\n",
       " 'GCGGCGCGA',\n",
       " 'GCGATACCC',\n",
       " 'TGGAGCAGC',\n",
       " 'CGTTGCCTG',\n",
       " 'AATTTGTAG',\n",
       " 'CAAGCGTCG',\n",
       " 'TGGCGCACA',\n",
       " 'TCGTTAGCT',\n",
       " 'GCTATAGCC',\n",
       " 'AGCGTCGCA',\n",
       " 'TTTGTGCTG',\n",
       " 'CGGGTTTTT',\n",
       " 'GCCTACAAA',\n",
       " 'AAGCCGCTT',\n",
       " 'GGCAGGAAG',\n",
       " 'CCCCCGCAA',\n",
       " 'GCCTGCGCC',\n",
       " 'TATCATGCC',\n",
       " 'CCGCCACCT',\n",
       " 'TGCACCTTT',\n",
       " 'TGCCCCTCC',\n",
       " 'TAGCGCGTC',\n",
       " 'TGCGACGCT',\n",
       " 'GCAGCCACA',\n",
       " 'ACAGCGCAA',\n",
       " 'AGCCTGATT',\n",
       " 'ACGCCGCAT',\n",
       " 'CTTATCATG',\n",
       " 'AAAAATGAT',\n",
       " 'ATGAAATGA',\n",
       " 'ACTGAACTG',\n",
       " 'AATGCCTGA',\n",
       " 'CCCTACATG',\n",
       " 'CACTGAACT',\n",
       " 'GCCCTGCGG',\n",
       " 'TGAATCAGC',\n",
       " 'TTGCGGCAC',\n",
       " 'GTTCGAATC',\n",
       " 'AGACGCGCA',\n",
       " 'AAGCGGCAG',\n",
       " 'AGCTTCTCA',\n",
       " 'CCTGTAGGC',\n",
       " 'CGTTGCCGG',\n",
       " 'CGTCGAAGC',\n",
       " 'TCCGGCAGT',\n",
       " 'GATAAGCCG',\n",
       " 'GGCGTTTAT',\n",
       " 'CCTTACAAG',\n",
       " 'ACGCATAGC',\n",
       " 'ACCGCTGTG',\n",
       " 'CGGCCTACA',\n",
       " 'TTGCCAAGG',\n",
       " 'GCCGCCGTC',\n",
       " 'CTGATAAGC',\n",
       " 'AAGCCCGTA',\n",
       " 'CCGTACTTT',\n",
       " 'TTTGGGTAT',\n",
       " 'CCAAGGTCG',\n",
       " 'TGTCGTGGA',\n",
       " 'GCGCATCAG',\n",
       " 'TTGCCGACC',\n",
       " 'GGGAGAGCA',\n",
       " 'AAGGCACTT',\n",
       " 'ATCCCGTCA',\n",
       " 'GCTTTGTTG',\n",
       " 'CGGGGAACT',\n",
       " 'CGTCGGTTC',\n",
       " 'GGAGTTAAA',\n",
       " 'ATAAGCCGC',\n",
       " 'GGTTGCGCC',\n",
       " 'TTTTACGTA',\n",
       " 'GTTCGAGTC',\n",
       " 'CGGATAAGA',\n",
       " 'CATCACCCA',\n",
       " 'CGCGCTTCG',\n",
       " 'GCTGACGCG',\n",
       " 'CCGAACCGT',\n",
       " 'GGTCAAAAG',\n",
       " 'AAGGCGGTT',\n",
       " 'CTGACGCGA',\n",
       " 'CGAACCTCC',\n",
       " 'TCCGACATT',\n",
       " 'GAGTCATCC',\n",
       " 'TGTCGGATG',\n",
       " 'ACCCGCCGA',\n",
       " 'GAATCTGTA',\n",
       " 'TACTAAAGC',\n",
       " 'ATAGCTCAG',\n",
       " 'CGCAAGCGT',\n",
       " 'GCCGCTATT',\n",
       " 'GATCCGCGC',\n",
       " 'GACGCATTA',\n",
       " 'TGGGCAGAA',\n",
       " 'CTTCGCTCG',\n",
       " 'CCAGACAGC',\n",
       " 'GTGGGTCAA',\n",
       " 'CCTACATGT',\n",
       " 'GCATCTGCG',\n",
       " 'GGTGCCTTA',\n",
       " 'ACTGTAGGC',\n",
       " 'GTCGTCGGT',\n",
       " 'GCAGAAAAA',\n",
       " 'GTGCATCCG',\n",
       " 'CGTCGGGCT',\n",
       " 'AAAACCCGC',\n",
       " 'TTTCTGCCC',\n",
       " 'GTGATCGTG',\n",
       " 'TGCGGCACT',\n",
       " 'AGCGGGTTT',\n",
       " 'ACCCCGTAG',\n",
       " 'TTCATCTTT',\n",
       " 'TCAATGCCT',\n",
       " 'CCCGAAGGT',\n",
       " 'TGGAGTTTG',\n",
       " 'TATTGCGGC',\n",
       " 'GGGACTTGA',\n",
       " 'CGCGACTTA',\n",
       " 'CCCACGTCC',\n",
       " 'AAGCGGCTG',\n",
       " 'TGCAGCTGA',\n",
       " 'GTCGAAGCT',\n",
       " 'GCGTCTACC',\n",
       " 'TCTTTCTGC',\n",
       " 'TGATGAAGC',\n",
       " 'TGGACAGTC',\n",
       " 'GGCGATACC',\n",
       " 'CGAGTCATC',\n",
       " 'TGTGCCGCA',\n",
       " 'GCGCGTCTG',\n",
       " 'GGGGGGACT',\n",
       " 'CTCCACCCC',\n",
       " 'CGGTTCGAT',\n",
       " 'TGGCAACAG',\n",
       " 'GCAACCAAT',\n",
       " 'TTTACGTAA',\n",
       " 'TCTCACTCC',\n",
       " 'ACCCGAAGG',\n",
       " 'GTTATGTTC',\n",
       " 'CACTAACAC',\n",
       " 'GCGGTTACG',\n",
       " 'CGTGATTTT',\n",
       " 'TTACAAGGA',\n",
       " 'TCGAGTCTC',\n",
       " 'CTGGCGCAG',\n",
       " 'AGCGTAGCG',\n",
       " 'TGGGGGAAG',\n",
       " 'TTGGCGATA',\n",
       " 'TACCGCTTG',\n",
       " 'ACGGCTGCC',\n",
       " 'CCAAAGCGC',\n",
       " 'CGGGGTGGA',\n",
       " 'ACTGGAGTT',\n",
       " 'GACGCGCAA',\n",
       " 'AGCAGCCTG',\n",
       " 'TCAGTTGGT',\n",
       " 'CTGAACTGT',\n",
       " 'ATTTAGCGT',\n",
       " 'TCGTGGACA',\n",
       " 'AGCCGCAAC',\n",
       " 'GTGTGTGCA',\n",
       " 'CAGCAGGCC',\n",
       " 'CGGCAGTTG',\n",
       " 'TCGGGCTCA',\n",
       " 'CCGCTGTTC',\n",
       " 'TTGACTTTT',\n",
       " 'GGGGAACAC',\n",
       " 'ACTAAAGCC',\n",
       " 'CTATGGCAC',\n",
       " 'GCCAGCAGC',\n",
       " 'CGTAGGCCG',\n",
       " 'GTTGCCGGA',\n",
       " 'CAACGCCTG',\n",
       " 'GGAAGGATT',\n",
       " 'TCGCCAGTT',\n",
       " 'AATTCCGCC',\n",
       " 'CTGTTCATA',\n",
       " 'GGTCGGGGC',\n",
       " 'TTGGTCGCA',\n",
       " 'CCGAGCCGG',\n",
       " 'GCTCAGTTG',\n",
       " 'GCCGCCGCC',\n",
       " 'GGGTGCGGG',\n",
       " 'CTACACCGC',\n",
       " 'AAATGGCGA',\n",
       " 'TAGCCGAGT',\n",
       " 'AGACGCGTT',\n",
       " 'TAGCGTGAT',\n",
       " 'CTGCGCGCT',\n",
       " 'AACAACCGG',\n",
       " 'TGATGCGCC',\n",
       " 'ACCTTGCCA',\n",
       " 'CGCTGTAAT',\n",
       " 'CATCCGGGA',\n",
       " 'GACTTATCA',\n",
       " 'ATTTTGTAG',\n",
       " 'CGCTGCGCG',\n",
       " 'TGGCAATGG',\n",
       " 'CGTTCACGG',\n",
       " 'GCGGCGTGA',\n",
       " 'CGGCGTAAA',\n",
       " 'TGGCGCGGG',\n",
       " 'CAACTGGCT',\n",
       " 'GAGGATTCG',\n",
       " 'TTGTAGGCC',\n",
       " 'CGCAAAGCC',\n",
       " 'TCCGACAAC',\n",
       " 'CCAGTTCCA',\n",
       " 'TTATCAGGC',\n",
       " 'CCGCTGACG',\n",
       " 'GTTTATGCC',\n",
       " 'GATACCGCT',\n",
       " 'CTCTATCCA',\n",
       " 'ACAAACGCA',\n",
       " 'TATCAGCAG',\n",
       " 'TATGGCGGT',\n",
       " 'AATGCCAGC',\n",
       " 'AATCTGTAG',\n",
       " 'AATATGGCG',\n",
       " 'GGCGCAGGC',\n",
       " 'GAGTTCGAG',\n",
       " 'GCAGAATAT',\n",
       " 'AAATATGGC',\n",
       " 'TCTAACGCC',\n",
       " 'ATTGACTCG',\n",
       " 'AAACCCGCC',\n",
       " 'GGCCCCCGC',\n",
       " 'CCAACTGGC',\n",
       " 'AACGCGTCT',\n",
       " 'ATCCGGCCT',\n",
       " 'TCGAAGCCG',\n",
       " 'CATAGCGTC',\n",
       " 'CGCCCTGCG',\n",
       " 'CTTCTCATC',\n",
       " 'AAGAACAGG',\n",
       " 'ATTTGTAGG',\n",
       " 'CTCGTCGGG',\n",
       " 'GGTTGCCTG',\n",
       " 'GTCGCAGGT',\n",
       " 'CACGTCCGT',\n",
       " 'CAGCCCGCT',\n",
       " 'GTCGTGGAC',\n",
       " 'GAGCACCTC',\n",
       " 'GGGGTCGGC',\n",
       " 'AACAGGCTA',\n",
       " 'CGGCGCTGG',\n",
       " 'GTCCGTAAG',\n",
       " 'TGCCGGATG',\n",
       " 'ATATCAGCA',\n",
       " 'GATTAGCTC',\n",
       " 'GGCACTGGA',\n",
       " 'AGCGCTGCG',\n",
       " 'TTCACGCCG',\n",
       " 'AAAAGCCCG',\n",
       " 'CCGTCGAAG',\n",
       " 'AGAGCACGA',\n",
       " 'CGCCGTCGA',\n",
       " 'CACGCCGCA',\n",
       " 'CCGAGTACT',\n",
       " 'TCGGGTCGT',\n",
       " 'TGTGAAGTG',\n",
       " 'CGAAGCTTC',\n",
       " 'GTACTTTCG',\n",
       " 'ACATCCAAC',\n",
       " 'GCGTCGCAT',\n",
       " 'GCCGGATGC',\n",
       " 'CCCCTCCAA',\n",
       " 'TATGGCACT',\n",
       " 'TTGGTAGAG',\n",
       " 'CCTACGCCA',\n",
       " 'CAATAGCCT',\n",
       " 'GTTGGTAGA',\n",
       " 'TCCCGTCAT',\n",
       " 'CTTTTGGGT',\n",
       " 'GCGCTACGG',\n",
       " 'CTGGCAGTC',\n",
       " 'GCACTATGG',\n",
       " 'AACAGCACG',\n",
       " 'GCACCGTTG',\n",
       " 'TTTATCGCC',\n",
       " 'CAGGCATTT',\n",
       " 'GACGCATAG',\n",
       " 'ATCAGGCAA',\n",
       " 'ATGAAATTT',\n",
       " 'GCTGCGCGC',\n",
       " 'GGTAGAGCA',\n",
       " 'CGGGCAGCC',\n",
       " 'CAGCGCAAT',\n",
       " 'TCCGACATC',\n",
       " 'ATCCTGCAC',\n",
       " 'CGACCTTGC',\n",
       " 'GCCGCATCC',\n",
       " 'GGTGGTGGG',\n",
       " 'TGACTCGCT',\n",
       " 'ATCGCATCC',\n",
       " 'TAAATAATC',\n",
       " 'ATGGTGCAT',\n",
       " 'CCGGTGCCT',\n",
       " 'CCGCTTGGC',\n",
       " 'GGGGGGATT',\n",
       " 'GCGGGAATT',\n",
       " 'GGAGTTTGG',\n",
       " 'GCTGGCGCG',\n",
       " 'ATATTGGTG',\n",
       " 'GATCCCGTC',\n",
       " 'CCTCCGACC',\n",
       " 'AGTTGGCGC',\n",
       " 'GAGGGGGTC',\n",
       " 'GCGTAAACG',\n",
       " 'CGACCCACC',\n",
       " 'AGCCTGGTA',\n",
       " 'TTATGTTCC',\n",
       " 'GGAATTTGT',\n",
       " 'CCGGCAATC',\n",
       " 'CGGATGGCG',\n",
       " 'TTTAGCGTG',\n",
       " 'TCATTCATC',\n",
       " 'AACGCCTGA',\n",
       " 'GTAAACGCC',\n",
       " 'AAATAATCT',\n",
       " 'CGACCGCTC',\n",
       " 'TCGTTTCCC',\n",
       " 'CACCGCTGT',\n",
       " 'CTGTCCAAC',\n",
       " 'AGGTTTTCC',\n",
       " 'CCTTGCCAA',\n",
       " 'CGTCATCAC',\n",
       " 'CAAAAGTTG',\n",
       " 'GGATAAGAT',\n",
       " 'AATCGCAGC',\n",
       " 'GCGCACGAC',\n",
       " 'TCCAGCTGA',\n",
       " 'TCTCATCCT',\n",
       " 'GCCGCTTTC',\n",
       " 'ACGCGTCGC',\n",
       " 'CAGAAGAAC',\n",
       " 'ATCGGGAAA',\n",
       " 'CAATGCCTG',\n",
       " 'AGCTCAGCT',\n",
       " 'GCTCCACCC',\n",
       " 'GTGGACAGT',\n",
       " 'CAGCACGCC',\n",
       " 'TCGTCGGTT',\n",
       " 'GGGTCGTTG',\n",
       " 'AAATGGCGG',\n",
       " 'GTCGTTGCC',\n",
       " 'AAACTGACC',\n",
       " 'AAGATGCGC',\n",
       " 'AGATGGGAG',\n",
       " 'TAGGGCAGA',\n",
       " 'GTTACGCCG',\n",
       " 'CCGCTGGCG',\n",
       " 'TGTAGGTCG',\n",
       " 'GGTGCACTG',\n",
       " 'GACGCTGTC',\n",
       " 'CTCGCTTCG',\n",
       " 'GCTTAACGC',\n",
       " 'GCTGGCAGT',\n",
       " 'CGAAAAAAA',\n",
       " 'TAAGGCACT',\n",
       " 'GCGCAATAG',\n",
       " 'TGGCTGGGG',\n",
       " 'GAACTGGAA',\n",
       " 'CGACATCCA',\n",
       " 'CGCATCCGG',\n",
       " 'TACGGAGGG',\n",
       " 'GCCGACCAG',\n",
       " 'CTACGGAGG',\n",
       " 'GAGCCGGTT',\n",
       " 'CTGATGCGA',\n",
       " 'TTAAATATG',\n",
       " 'AATATCAGC',\n",
       " 'CTTTTAATC',\n",
       " 'CGTCTACCA',\n",
       " 'GCGCTGCTC',\n",
       " 'AGCGTGATT',\n",
       " 'GCATCGGGA',\n",
       " 'CGAAGGTCG',\n",
       " 'ATGCGCTTT',\n",
       " 'GAATAGCTC',\n",
       " 'CAGACAGCG',\n",
       " 'TACGGATGG',\n",
       " 'AAGCGTCGC',\n",
       " 'TGAAAGTGA',\n",
       " 'CACAATGCC',\n",
       " 'CCGCTTTCT',\n",
       " 'TGCCTGATG',\n",
       " 'GCGGATGCG',\n",
       " 'GCCACCTTC',\n",
       " 'AACGCTCTC',\n",
       " 'TCTTTAAAT',\n",
       " 'GAACCCCCA',\n",
       " 'TCGAATCCT',\n",
       " 'CGGCGTGAA',\n",
       " 'CTCACTGCG',\n",
       " 'CGCGTCTAC',\n",
       " 'TCACGGTCT',\n",
       " 'ATTAGCTCA',\n",
       " 'GGCACTTGT',\n",
       " 'GCAGCCGCA',\n",
       " 'CCTGAAGCT',\n",
       " 'GCCGAACCG',\n",
       " 'GCGGGGTGG',\n",
       " 'GATTGACTC',\n",
       " 'TGCGTTCAC',\n",
       " 'AGCACGACC',\n",
       " 'TGGTGGTGG',\n",
       " 'TGAACTGGC',\n",
       " 'GCTCAGCTG',\n",
       " 'ATCCGCGCA',\n",
       " 'CTGGCGGCG',\n",
       " 'CGACGCTGG',\n",
       " 'GGCGCTGGA',\n",
       " 'TGCTCCACC',\n",
       " 'TCCGGCCCC',\n",
       " 'GGGAATTTG',\n",
       " 'TGCATCGGG',\n",
       " 'AAAAGTTGC',\n",
       " 'AGCTACGGA',\n",
       " 'TAGCTCAGT',\n",
       " 'TGGCGCGTC',\n",
       " 'AATAATCTA',\n",
       " 'GAGATGGTG',\n",
       " 'AGGAGGGGG',\n",
       " 'TTATCCCCG',\n",
       " 'GGCGTTCAC',\n",
       " 'GCTCACTGC',\n",
       " 'CGCTCTCTC',\n",
       " 'GCAGAGAAG',\n",
       " 'AAAAAAAGC',\n",
       " 'CACCCCGTA',\n",
       " 'CCGCCGAAG',\n",
       " 'CGATGCCTG',\n",
       " 'GCCCTACAT',\n",
       " 'ATAATCTAC',\n",
       " 'TGATGAAAT',\n",
       " 'GATTCGAAC',\n",
       " 'GAAGCCGCT',\n",
       " 'GGGGTCGCG',\n",
       " 'AAAGTGATG',\n",
       " 'CACCCACCA',\n",
       " 'GAGTACTCT',\n",
       " 'GATCAGCAC',\n",
       " 'GTTAGCGTC',\n",
       " 'CCCCGCTGG',\n",
       " 'ACCTCCGAC',\n",
       " 'TGTAGGCCT',\n",
       " 'CGCTACGGC',\n",
       " 'AAATGATGA',\n",
       " 'GCTGGGGTA',\n",
       " 'GACGCTTAA',\n",
       " 'CAAAGCGCG',\n",
       " 'TCATAACCC',\n",
       " 'GCAGTTGGC',\n",
       " 'GCGCGCTTC',\n",
       " 'ATTCATCTT',\n",
       " 'ATCTTTCTG',\n",
       " 'GACTTGAAC',\n",
       " 'CTCAGCGCT',\n",
       " 'CGCGAGCGC',\n",
       " 'AATGGCGCT',\n",
       " 'ATCTAACGC',\n",
       " 'TGATTAGCT',\n",
       " 'ACCGATGCC',\n",
       " 'GCCAGCAGG',\n",
       " 'GGTTCGATC',\n",
       " 'CTACATGTG',\n",
       " 'AGTCTCGTT',\n",
       " 'TTCCGCCAC',\n",
       " 'CGGTCGGGG',\n",
       " 'CATAACCCG',\n",
       " 'GCAACAGGC',\n",
       " 'GACGCGTTA',\n",
       " 'GCGGACTGA',\n",
       " 'TGCGGCGTA',\n",
       " 'TTGCCTGCG',\n",
       " 'GCCGAAGCG',\n",
       " 'CTGGGAGAG',\n",
       " 'CTGGGGTAC',\n",
       " 'ACTATGGCA',\n",
       " 'CCCGCTCAC',\n",
       " 'CTGGCAGTT',\n",
       " 'TAGGTCGGA',\n",
       " 'CCGATAAGC',\n",
       " 'AAGTTGAAG',\n",
       " 'CATCCAACG',\n",
       " 'ACCGTAGGC',\n",
       " 'GCTCGTCGG',\n",
       " 'TATGGATTA',\n",
       " 'AGAAAGCGG',\n",
       " 'GGCTAATGC',\n",
       " 'TGTCGCGTC',\n",
       " 'AGTACTCTA',\n",
       " 'GTGCCTTAC',\n",
       " 'CGTTCACGC',\n",
       " 'TGGCGATAC',\n",
       " 'CATCCCCCC',\n",
       " 'CCCCGGTGT',\n",
       " 'TCAGGCATT',\n",
       " 'TCAAATCCG',\n",
       " 'GGCCTACGC',\n",
       " 'GCGGCAACG',\n",
       " 'GATGCGGCG',\n",
       " 'CTGTAGGCC',\n",
       " 'CGCGAGTTC',\n",
       " 'ATCGCAGCG',\n",
       " 'TTGCCGTTA',\n",
       " 'CCCCGTAGG',\n",
       " 'CGAGGGGGG',\n",
       " 'AGCGCCTTA',\n",
       " 'ATATGGATT',\n",
       " 'ATAAGGCAC',\n",
       " 'TAGCGCATC',\n",
       " 'CCCGTAGGT',\n",
       " 'TCGAACCTT',\n",
       " 'TTATCCGGC',\n",
       " 'TGATAAGCG',\n",
       " 'ATCCAGCGT',\n",
       " 'AACAGCAAC',\n",
       " 'ACTTTTAAT',\n",
       " 'TGCTCCCTT',\n",
       " 'ATGAAGCAA',\n",
       " 'TTTCAATAT',\n",
       " 'GCAAAGCCG',\n",
       " 'TCTCCGTTC',\n",
       " 'ATTACGCGT',\n",
       " 'GCATAGCGT',\n",
       " 'AGAGCAGTT',\n",
       " 'TCTTCTTTA',\n",
       " 'ATCACCCAC',\n",
       " 'AGCAGCCGC',\n",
       " 'AGACGCACA',\n",
       " 'ATCCAGCTG',\n",
       " 'AGCCGCTAT',\n",
       " 'CCCTTACAA',\n",
       " 'GGGAACTCG',\n",
       " 'TCATCCTGC',\n",
       " 'AATAGCCTG',\n",
       " 'CGCATCCGA',\n",
       " 'CGGGGAACA',\n",
       " 'TGATGGTGG',\n",
       " 'GTTGCCTGC',\n",
       " 'GACCGCTCG',\n",
       " 'TCTATCCAG',\n",
       " 'GTGATTTTG',\n",
       " 'CGTTAGCTC',\n",
       " 'TCCACCCCG',\n",
       " 'CGACATCAA',\n",
       " 'GCTTCGCCC',\n",
       " 'ATTCCGCCA',\n",
       " 'TCGGATGCG',\n",
       " 'CCCTCCAAA',\n",
       " 'GCTGCCGGA',\n",
       " 'CGGCAATCA',\n",
       " 'GGGGGACTT',\n",
       " 'CCCCCCGGT',\n",
       " 'CCCCGCAAC',\n",
       " 'ACAGCGTCG',\n",
       " 'TTTATCCCC',\n",
       " 'CCGACCTAC',\n",
       " 'CACTTGTGC',\n",
       " 'TCAGCGCTG',\n",
       " 'ATGCGCCGC',\n",
       " 'GAAGTGCTC',\n",
       " 'GGTTTATCC',\n",
       " 'GTCGCCAGT',\n",
       " 'ACATTATTG',\n",
       " 'GTTTGTAGG',\n",
       " 'TCATCACCC',\n",
       " 'TGCGGCGCG',\n",
       " 'GAGGGTGCG',\n",
       " 'TTCACGGTC',\n",
       " 'GGCATCTGC',\n",
       " 'GGTCGGATA',\n",
       " ...}"
      ]
     },
     "execution_count": 307,
     "metadata": {},
     "output_type": "execute_result"
    }
   ],
   "source": [
    "k_9_mers_e_coli"
   ]
  },
  {
   "cell_type": "code",
   "execution_count": 309,
   "id": "60501beb",
   "metadata": {},
   "outputs": [
    {
     "data": {
      "text/plain": [
       "1904"
      ]
     },
     "execution_count": 309,
     "metadata": {},
     "output_type": "execute_result"
    }
   ],
   "source": [
    "len(k_9_mers_e_coli)"
   ]
  },
  {
   "cell_type": "code",
   "execution_count": 86,
   "id": "cc9ddd5c",
   "metadata": {},
   "outputs": [],
   "source": [
    "def skew_diagram(seq):\n",
    "    len_seq = len(seq)\n",
    "    skew_arr = np.zeros(len_seq+1, dtype=np.int32)\n",
    "    skew_arr[0] = 0 \n",
    "    curr_val = 0\n",
    "    for i in range(1, len_seq+1):\n",
    "        c=seq[i-1]\n",
    "        if c == 'G':\n",
    "            curr_val += 1\n",
    "        elif c == 'C':\n",
    "            curr_val -= 1\n",
    "        skew_arr[i] = curr_val\n",
    "    return skew_arr"
   ]
  },
  {
   "cell_type": "code",
   "execution_count": 396,
   "id": "541125ff",
   "metadata": {},
   "outputs": [
    {
     "data": {
      "text/plain": [
       "'0 1 0 0 0 -1'"
      ]
     },
     "execution_count": 396,
     "metadata": {},
     "output_type": "execute_result"
    }
   ],
   "source": [
    "' '.join(map(str, list(skew_diagram('GCTAC'))))"
   ]
  },
  {
   "cell_type": "code",
   "execution_count": 89,
   "id": "d1fe2473",
   "metadata": {},
   "outputs": [],
   "source": [
    "skew_diag_e_coli = skew_diagram(genome_e_coli)"
   ]
  },
  {
   "cell_type": "code",
   "execution_count": 90,
   "id": "3eac7f55",
   "metadata": {},
   "outputs": [
    {
     "data": {
      "image/png": "[encoded data removed]",
      "text/plain": [
       "<Figure size 432x288 with 1 Axes>"
      ]
     },
     "metadata": {
      "needs_background": "light"
     },
     "output_type": "display_data"
    }
   ],
   "source": [
    "plt.plot(skew_diag_e_coli)\n",
    "plt.title('skew_diag_e_coli')\n",
    "plt.show()\n"
   ]
  },
  {
   "cell_type": "code",
   "execution_count": 99,
   "id": "1df16794",
   "metadata": {},
   "outputs": [
    {
     "data": {
      "text/plain": [
       "(-13919, -13919)"
      ]
     },
     "execution_count": 99,
     "metadata": {},
     "output_type": "execute_result"
    }
   ],
   "source": [
    "min(skew_diag_e_coli),  np.amin(skew_diag_e_coli)"
   ]
  },
  {
   "cell_type": "code",
   "execution_count": 92,
   "id": "ee6e40fe",
   "metadata": {},
   "outputs": [
    {
     "data": {
      "text/plain": [
       "3923620"
      ]
     },
     "execution_count": 92,
     "metadata": {},
     "output_type": "execute_result"
    }
   ],
   "source": [
    "np.argmin(skew_diag_e_coli)"
   ]
  },
  {
   "cell_type": "code",
   "execution_count": 109,
   "id": "79746a42",
   "metadata": {},
   "outputs": [
    {
     "data": {
      "text/plain": [
       "array([3923620, 3923621, 3923622, 3923623])"
      ]
     },
     "execution_count": 109,
     "metadata": {},
     "output_type": "execute_result"
    }
   ],
   "source": [
    "min_skew_e_coli = np.where(skew_diag_e_coli == np.amin(skew_diag_e_coli))[0]\n",
    "min_skew_e_coli"
   ]
  },
  {
   "cell_type": "code",
   "execution_count": 105,
   "id": "ef28e130",
   "metadata": {},
   "outputs": [
    {
     "data": {
      "image/png": "[encoded data removed]",
      "text/plain": [
       "<Figure size 432x288 with 1 Axes>"
      ]
     },
     "metadata": {
      "needs_background": "light"
     },
     "output_type": "display_data"
    }
   ],
   "source": [
    "plt.plot(skew_diag_e_coli, '-b')\n",
    "plt.plot(min_skew_e_coli, skew_diag_e_coli[min_skew_e_coli] , '.r')\n",
    "plt.title('skew_diag_e_coli')\n",
    "plt.show()"
   ]
  },
  {
   "cell_type": "code",
   "execution_count": 93,
   "id": "1254d3b3",
   "metadata": {},
   "outputs": [],
   "source": [
    "def min_skew(seq):\n",
    "    skew_arr = skew_diagram(seq)\n",
    "    return np.where(skew_arr == np.amin(skew_arr))[0]"
   ]
  },
  {
   "cell_type": "code",
   "execution_count": 94,
   "id": "a2719f34",
   "metadata": {},
   "outputs": [
    {
     "data": {
      "text/plain": [
       "array([11, 24])"
      ]
     },
     "execution_count": 94,
     "metadata": {},
     "output_type": "execute_result"
    }
   ],
   "source": [
    "min_skew('TAAAGACTGCCGAGAGGCCAACACGAGTGCTAGAACGAGGGGCGTAAACGCGGGTCCGAT')"
   ]
  },
  {
   "cell_type": "code",
   "execution_count": 95,
   "id": "4aa06720",
   "metadata": {},
   "outputs": [
    {
     "data": {
      "text/plain": [
       "array([      0,       1,       2, ..., 4639674, 4639675, 4639676])"
      ]
     },
     "execution_count": 95,
     "metadata": {},
     "output_type": "execute_result"
    }
   ],
   "source": [
    "min_skew(skew_diag_e_coli)"
   ]
  },
  {
   "cell_type": "code",
   "execution_count": 415,
   "id": "97586faa",
   "metadata": {},
   "outputs": [],
   "source": [
    "\n",
    "file_path = '/Users/leongugel/Downloads/dataset_7_10.txt'\n",
    "assert os.path.exists(file_path)\n",
    "genome_txt = Path(file_path).read_text()"
   ]
  },
  {
   "cell_type": "code",
   "execution_count": 416,
   "id": "46830e0e",
   "metadata": {},
   "outputs": [],
   "source": [
    "min_skew_arr = min_skew(genome_txt)"
   ]
  },
  {
   "cell_type": "code",
   "execution_count": 417,
   "id": "97ab4686",
   "metadata": {},
   "outputs": [
    {
     "data": {
      "text/plain": [
       "array([89487])"
      ]
     },
     "execution_count": 417,
     "metadata": {},
     "output_type": "execute_result"
    }
   ],
   "source": [
    "min_skew_arr"
   ]
  },
  {
   "cell_type": "code",
   "execution_count": 7,
   "id": "b8d731e6",
   "metadata": {},
   "outputs": [],
   "source": [
    "def hamming_dist(seq1, seq2):\n",
    "    return (np.array(list(seq1))!=np.array(list(seq2))).sum()"
   ]
  },
  {
   "cell_type": "code",
   "execution_count": 8,
   "id": "e53b20f3",
   "metadata": {},
   "outputs": [
    {
     "data": {
      "text/plain": [
       "1"
      ]
     },
     "execution_count": 8,
     "metadata": {},
     "output_type": "execute_result"
    }
   ],
   "source": [
    "hamming_dist('G', 'A')"
   ]
  },
  {
   "cell_type": "code",
   "execution_count": 428,
   "id": "3bbef692",
   "metadata": {},
   "outputs": [],
   "source": [
    "seq1='GGGCCGTTGGT'\n",
    "seq2='GGACCGTTGAC'"
   ]
  },
  {
   "cell_type": "code",
   "execution_count": 429,
   "id": "afacfcf6",
   "metadata": {},
   "outputs": [
    {
     "data": {
      "text/plain": [
       "3"
      ]
     },
     "execution_count": 429,
     "metadata": {},
     "output_type": "execute_result"
    }
   ],
   "source": [
    "(np.array(list(seq1))!=np.array(list(seq2))).sum()"
   ]
  },
  {
   "cell_type": "code",
   "execution_count": 430,
   "id": "773ff32f",
   "metadata": {},
   "outputs": [
    {
     "data": {
      "text/plain": [
       "3"
      ]
     },
     "execution_count": 430,
     "metadata": {},
     "output_type": "execute_result"
    }
   ],
   "source": [
    "hamming_dist(seq1, seq2) "
   ]
  },
  {
   "cell_type": "code",
   "execution_count": 431,
   "id": "c21cb781",
   "metadata": {},
   "outputs": [],
   "source": [
    "seq1='GAGGGATGATACTCGAGCGCAGTGATCGTATCCGAAAAATCCGCTACCGCCATTAGTGAGCAAATTACTCTCCGTGGTTGCGCAGAGCCTGGAATACAGAGCGGCATGTTAGCGATTAATAGACTGAGAGTCCTCTGCAGAGTGAGTTTAGCCGACTTAGCAGTCAGAGCGAAAATTTAACCAAATTGAAGGTCAAAACGCGTCCACGGGGTTTGTGCTGCCTTCTCCGGTTAGAAAATAAGGGCCAAGAGATGGGCGATACAAGATTCGGCTAGTATTCGTTAGTCCCTCGGAGCCGTGAAAATCCCTGAGCCTTTCGTACAAGTCGTTCCCCGACCGATGATACGGCTTATGCATGGGTTACGGCGTAACTCCGATGGCGTAGCCAGGACCGGTTGGGTGCGTAAGGTCGCCATAGAGCGATTATACGCGCGATATCCGAGCAGGCGAAAGCCGAGCAGTCATCCTGACGACTCACTAGCCGGGTGACCGTTTTCGCTTTCGTGGTCGCATTAGAAACTGGATGATAACCTTATACGATACCTTGAGTGATTCAACTAAGAAAATCCCGATATCTACCGGCGTAGCAACTGCTGATTACCTAAGGCCGGGCCCACGTGAAGATTCTATGTTCCCGACATGCCCAAAACCCAATCTCAAGCGTGTGGGGCTATGCCTTATCGCTTGGCCCGACCTACTTATACCTCTCAGTGCGTCTCGCCTTGCTCGTCAACTCAGTTATGGGTGACGGAAATGGGTGCCTGTTTTGCTGATTTGCCGGTGACCTCTACTTATACCCCGCTTGGCAAAGGGACATTACTTGACCAACACGTGGCTACTAATCGCTAGCGAATTCATTCAGTGTGCGCTAGGGGGCATTCCTAACCGCGGCTAATAGAACGGGCGCAATCTATCAGGGCGCTTATAGGTGTCGTGTGTGAGTCAATCCCGATATAGAAATTTCCTAGAGGCCGGGGGAGCAATCAGTTCTTGAGTTTCTTTCTCAAGCCAAATTAATAAATGACCCAAACGCAGGCACCCACGTAACATATAGTTCGCAACGGAGCTTCGAGGGAGTTGTAAGTACAGAAAAC'"
   ]
  },
  {
   "cell_type": "code",
   "execution_count": 432,
   "id": "2e0d24b9",
   "metadata": {},
   "outputs": [],
   "source": [
    "seq2='CTCCTCAAAATTCAGCTCCCACACAATACGGGTGGGTCCACCATGTGACCCGACAGTTGTAAAAGACAATTCTCCCGGATAAGCAACTCTTCAGGACAGAAGAGTCGCAGGATCACTGCCTATGGAAAAAACAGGCAATACACAGTGAGAGTGCGTTAGGAACTACCTGCTCGGCGCTCTATGGCACAGCACCACTTAGACACTTCTAACACGCTAGCGTCAAAGTCCGATTACTAGGAATCGGTAGTATTTCCGGACATGTTCCCCCATACGGCAAAGTTCACAGCTACACCTTTCATATACATGAGCCGCACCGTGGTTACGATGGGATAGACAGGCTACCCGGGTACTACTTCCGCGCCAAGAGCAATTTCTAGGTTTCGGACGTCCGCAATCCCATATAAAGGGAAGACGTTGCCTACTGCGAACTAAGGCCACACGTGAGTCATTCCTACACGTTTGCATAGTCGCAGCAGCAAACAGGAAGGAACTTATCTCGCCCGCTCTAGCTCTGTGGCCAATCAAATTTGATTTCGAGAAATTTTGACGTTGTCATTAGTTCAAATCTACGGGGATGATAGTAGCTTAAACGCGGAGATGATTGTTAGAAGGTGGTTAATGGGACCACCGCCCGGCGATGCGCGCCCAGCGCACAATGTATATTTTCTCAAGCCCAAATTACGACAAGTACTAAAGCTTCGGCTAAAGCGCCATGAAAAGAGTATTTACCACTATATGTGTGCTCGTGGCCAACGCTTGCACCGTAGTTCCACACCCGGTCCGCCCAAATGTACCTAAGCCCTTAGGGCGCGGGCGACATATAAAATGACTGCACAACTGGGGATCACGTTAGGAACCACTTCATGGATCTAACCACCTTATGGTTCCCATTTCGGCTTCTTATCCGTCGTGATCCTAACCGTTCTATGAGTGGTCTAGGGAGCATGATAGCCCTCTCCAACCATATACAAGGCCGGTAAGGGAGGCACCCGTTCGCACTCCCTGCTGGCAGTGTCACGTTTTGCTCCATCACCAGAGATAGTCGCTATGTGAGGATAAATAGGAGCTGGCCCCAGTCTCGGAGGTCCGAGTCG'"
   ]
  },
  {
   "cell_type": "code",
   "execution_count": 433,
   "id": "a251a45f",
   "metadata": {},
   "outputs": [
    {
     "data": {
      "text/plain": [
       "828"
      ]
     },
     "execution_count": 433,
     "metadata": {},
     "output_type": "execute_result"
    }
   ],
   "source": [
    "hamming_dist(seq1, seq2) "
   ]
  },
  {
   "cell_type": "code",
   "execution_count": 193,
   "id": "faf53646",
   "metadata": {},
   "outputs": [],
   "source": [
    "def aprox_pattern_match(seq, pattern, d):\n",
    "    pos = []\n",
    "    size = len(seq)\n",
    "    pattern_size = len(pattern)\n",
    "    for i in range(size - pattern_size + 1):\n",
    "        sub_seq = seq[i: i + pattern_size]\n",
    "        if hamming_dist(sub_seq,pattern) <= d:\n",
    "            pos.append(i)\n",
    "    return pos"
   ]
  },
  {
   "cell_type": "code",
   "execution_count": 194,
   "id": "c3999df0",
   "metadata": {},
   "outputs": [],
   "source": [
    "pattern='ATTCTGGA'\n",
    "seq = 'CGCCCGAATCCAGAACGCATTCCCATATTTCGGGACCACTGGCCTCCACGGTACGGACGTCAATCAAAT'"
   ]
  },
  {
   "cell_type": "code",
   "execution_count": 195,
   "id": "bbc0249e",
   "metadata": {},
   "outputs": [
    {
     "data": {
      "text/plain": [
       "'6 7 26 27'"
      ]
     },
     "execution_count": 195,
     "metadata": {},
     "output_type": "execute_result"
    }
   ],
   "source": [
    "' '.join(map(str, list(aprox_pattern_match(seq, pattern, 3))))"
   ]
  },
  {
   "cell_type": "code",
   "execution_count": 447,
   "id": "9eba84b9",
   "metadata": {},
   "outputs": [],
   "source": [
    "pattern='GGATCGCGCTAG'"
   ]
  },
  {
   "cell_type": "code",
   "execution_count": 448,
   "id": "032a5106",
   "metadata": {},
   "outputs": [],
   "source": [
    "seq = 'CCGTCTAGACTCACAATTATGGCAAACCGCACGCGCTGGACATCGCGGCCCACGGTAAGTATCTTCAGACTGAGCGCCCCGCGCTAAATCGGTGACTGGAGTACCACGTCGTAATAAGTTCCACCAAAACGGTAAAGCTCCTTTCTAAAGCCTAGCATGAGAGGGGAGCGCAGGAGATTCCGGCACGCATTTAATAGACAATCGCCATATATTTCCAACTAGATCGAATTGCTCTACAGATGACACAAGCGGAAGAAGGCTTCATAGGACACCCGAGTTCCGGTCTTAGTCTAGGATGACTCCTCGTGCAGTGGTTCAATTAATATCCAAGAAGCCGTTGTCACACAAATATCCGAGATCGTAGCGTTGGCTCGAAGATAATACTAGGCATCCGCTCGATCATCGCTACTTGGACTGTAGAATCGTGAGTGCTTCATGACCTCCCAACCATCATTTGTCTTTCCGATCTCTCTATGCGTTGGATTTCGGACGTGAGTCCTGTTCATTCCGCTCCAATTAATTTTAGTTAACTGGCGAATTCATGTTTAGCGAATGTTAGGAACGCTTCCACTAACTCCGCTCGAATACCAGTATTCCATATTACCGCACAAAATAGGGGAAATGAGTGCGGCGTGCTACGACCTGGGACCTTCTGGAACCCCTATTATAGTCTGCGGCTAAGGCAGCCCGCGGCTTGGGCAGTCACTTACGCCCGGGACCAAAGATGAGGAAGGTAAGCCTTTGGATCGATTATGCCGTGTACCTCATCGAATCTTCTATTCCACGTGCTGGGCCGGTAAGTGGTATCGTGCGAGTCACAGCCAATCCTAGTCGTTATAGGCCCAGCAAAAGACGTTGGTTATGGGAGCACCAAGCTTTACAATACTCAATAGGATTAAGTATATGCAACAGTCCCCGTTCGCCGTGCTTTAACTGGACCTGCGAGTTTGTAGGCGCAATTGCAAATCCCGCCGTCAGCTTGTGAGACGAGAACCCTCGACCTCCTGATCCTTACCGGAAATGATAGAGACGAACGGGGGGCAGTATGTGGCGAGAACACGTTTATTGGAGTAAAATCGGCATTCTATCGGTGCGCGCCAGAGGCGATATCGCCCTATACATGGATCAACGATGCCGCTTGGACGACTTACCCTATTTAAGCAACTGGAGCCCCACTGCGACAAATCTAGCTATATCCGTCATGGTGGTCATGAGCGGAAAAGTAAGGCCTGACGGCCTGACGTGCCACTACGAGGATTGGGTGGTCTTTGCATTGTCATGTCAGCTCGTCCGACCCTACTACTGTTTGGACAAACCCGTATGTTGCGTGTGTGAATGCTCTTTACTTCCATGAGACCATCGATTAAAACAAGGCCTTCGTTGGGCGCATCTCATAGGGTTTGCGATCAGTTCATTAGCTCAACTAATGCTTAGTACTAAATGAGTCAAGACCCGTATTGCCCCCGCAGGCCAGGAATATATGTTGTCCGACACCCGGCTTCGAGGGAGAAGAAGAAACAGCTACTGCGCACTCTCTGGCCGGACCCAGAATCATTGGGAGTTGGCAACCTTTCCGTCCGTTATCCCTTTAAATTCGGTATCTGCGACTAGGAATAATCGCAAGGACATCTCACGCATCACACCTGCTTGATTTCGCGTCGACTGAGCTCCCTTGGCGAGGCCCAGCAGGCCAAGCTGAGGAAGCTCTGGCTGACATGAGAATTGACGCATAGGATTGCTGGACACTCAGTAACTGGGCGCAACGCGTTTGTCTTACCATCTGTTGGGCCATTATGGCTAGATTCAGAGAACCATGATTAATAAGGTGCAGCCCCCTGGGTCCTGTTTAACGCGAGTGGACGTGACCACAAATGATACCTGTCTAGCTGCATTTTGCCCAAAATTGATACCCAATGCTGTTTAGGTACAATGTGGGGCTGGCAAGAACTTTTTGCGGTGAGCGTATTTCCACTAATAGACCCACCAGTTCCCATCGGCTTTAAATGTAGGAGCCGGAATGGATTTCTGCTCGATACTTGTACGCTAACTTATCGCGCTAGTAATTAGCCCAAAACTGCTATAATGTGATGACATCTTTGCCAAGGTAAGAGCAATAGTATCATTACGCGTCGGGTTGTTCACCACCCGGGGCCCCCTGTTGGCCGCCTTTCGATTCGGGCGCATTTGGAAAACGGGGCTAACTGGATTGGGTGATCCAACATGGTGGTACCATCCAGGAAACCCCCCCGCGGTAGGTGTTCCTACGCCACAGAAGTTCAGTGCTCTCTTCGAACGCCCTGATTATAACAGAGCTACGACGCGGTAACGCCTCAGCACGATCCACTGAGTTCTGTGTCCGGACGGCGTAGTATGTCCTTGCGAACTCTATCCGATCATGAAGGTCACTAGTCCCAGCACCGCTTGAAGCTCTATTATCACCCACCGTTATGACGGTATTTATTCGCACGAGGCAGGGTGCCAGTCGCTTCGTGCCTCAGCTTAGCGGGTTCCTATTTACATCCTTGCATCGTGTATCTTTATAACGACAGTCGACCTTTCAGGCATGACTTGGGGCTCCTGCGAAAACCTTGAACAATACTAACGTTCTACCAAACCAGATGAGTGAGAATAGCTGAGTGTAACGGAGGCTTTGCTTAGACACTTTAATTGTAAGGTGCACCTATTATACGTCCGCCATATCCTGAACCCGTTCATTAACCTGAGAACTATCTCCATACGCGGCGTGTGCATACGCGTACGCTTAGTATGTCCCCGCCGCGCTACGTTAGCACGGGATCGTTTGAGAAAGGTACGTCACATGCCGCGTAACGGAGTATCTGGATCATCCCTTGATAGAGTACGGATCAAATTACGATTGCATCTCAGAGTAAAGCGCCTTATGCATCGGAGGCTGCATCTCGTCTAGTAGGTAGACCGCGTTCCGGTCCTTATTTGGGTCCGTGCCATCCACACTGGTGTTATAAAGATATGGCTGTACCGTCATTGACCGACTTGATCACGTTTCCCAGTGAAGCAAGTAGAGTAACTTTATCGGAGACATCATTTCTCTATACGTCGAGCGAGTGCTTCGAATTCTGTCAGTGCCCAGACCTCGTCGAATCGGTCCTTTGTATGTGGACATTCAGCTTTTCTACTTGTGAAAGGTGTGTTTTCGGAATCGGTAGGTTTGAGACCATACTATGCCAATATGTTACGGCGGTGCTTCGGAAAGGATGATTTCCTGGATACCACCCAAACTGATGAACTGATGGACGAATCCTCGCTTCGATGGTATTCGGCCCTCTATAAATCCCCAGATAAACTGAGCCCAGTGCGGTTGTCCTATCGTCGATGCCCCGTCTTTGCAGGCAAGATAACATTTTGAAACCACCCTCAACACCCATATACTTCAGCTTACTCACGTTAAGTCTAGTTTCAGGGCGTCAAATCAGTCATTTGCAAAGCCGTTTTAAACGTTGGCGAGGGCCAGTCGAAGGCCAGACGATCCTCGCATCTGGCCGGGAATCTAAGCGTGGTGCAGGGCTACAGGAGCTTAACATCGTTGGCATAAACTTCTGACTGCCCCGGAATTTATCACCTGTACGCTGCCGCTGTGGTGGTGATACCGGATAATTGCGGTCCCCATCTAGTGCCCTTGGGATTGTCACAGGGGGCGTCGTTGGCCGCTCCGTAACCCTTTGAATCGTGAGTCATATGCGGCCTGGAGAAACCGTGCAGAACCCACATCTTCCGCGGGACTGTCGGGAGTTGTCAAGGTGCCCGGTGACTATGGTCTTCTAATGCGTCTCTGAGCGTGTAACCACGGGCCCCGCGTACCAAGCAAGCAATCTGAGTGTCTTACGGTTGACGCCACGCGCCACGACGCTGCCGACACGAAAGCTCCCGTGCTAGGATATCTCCCGGCACCACCGAGCCGGTGGCTATAGAGGCAGAGTTCATGAAGTACAGACATGACGGTACAGAAACTAACGTTACCATTTAGACGCTGTATTAGGCGGCCTAGATTTCTAGTTCGCGAAACACAGATACCGTTGTCCACCCACATTAGCTCAGGCGAGCACAAGTCGTCGGCAAACTGCTCTCAGCGTTCAGGATACTCAGCCTTTAATACGTTTGGCATACTCGGCTACCCGGGGCAAAAGGGAGAAGGAATTCCGGTCGGTAGTAAGGTTTTCGCTTACCAAAAGTTTCTGTACTTTAATGCGCAACCTTAACTTGGGGGTTGCAGAATTGACTCTAGTCTGAGCTAGATACTTCGATAGGCGTAATAATGTTTCCTTAAAGAGCCCCTGACTACAGTGAGGACAGATTCGCTCATTAACAAATTCTTCTCTAGTGTTAGGTATCCTACCAACGCCAAATGGTAATAGATTCTTTGGGGATGGCTTAGCCTATGTAGATTTCCCCCACAAACTCCAAGCTGGCCGACCAACTTTAAATGTACTACTGAATTACCTGTAGTCCGCGATTTGCTGTCTTTTATTAAGCCTATGGCCATAACTGCGGCAGGTGGAGTCGGCACAAATTAGTTAACTTCCCTTGATCCCGCCATCATATCAGAAGAAATACTTGGCAAACAGACTAACACAGGGATAATCTCGGTCATCTCATCGACCCGCGTCCCTTCTGTGGTTTTCCTTGACTCCGTGAGTACTGCCACTAGAGGTCAGGCGACATCTTACGGGGGCTCGCTAGATCCTATCGAACTACTTGTCCTATTTTAGTTTCGGGATCTCACGTACCACCCGCGTCGGTACCGGACAATTTGCCAAAGTTTAAGAGCAAGTCCCATCATGATCAGCGTGTAGATCCTGGATGTGCTGTAGGGCCGCGTTTCTATAATTGGCTCTCCCCGCTATGTGCATGAGTGCCAGACTGTTCGGTCACTTGATTCGGAAGGATCGACGATTGTGCCGAAAATGTAGGGCATCCACCTTTTATTCTCGGTATATACTTCACGTAAGAAGACAAAAAAACGAACACAAGGATAGCATTGGCAGAAAAACGCTTTACCGCACCTCTCATACGACCTAAGTCACAGAACCTTGTAGGGGCTGGGGTCTCACACATACCCTTGGAATGAAGAGCGCGCATCAGCTACTGTCTATGATACCCGTCGCCCTTACCGGTCCCTGATCTCACGGCTAGCATTAGGACAGACTGTGCCAGCATACCACCCCGGAAATAGCTAGGCGCACTTGAAATCTCGTGGCGGGCTCCCTCCTAAGGGGACTGGCTATCATTCCGCTTTCTAGTGCTGATACAATAGAACAATCTACTCGGGCGACCACACCTCGTGAAGCCCGCCCACTTGTTTGGACACACAATGGAAATAGGACTCATATGTGGATAAAGGTATTAGCCGTACGGTATGTAACGCATATAGAGGGGGCCTGATCAGGGGGAGGGCTATCCGGGGTCCGTCGTGACCCCCAGCACCCACTCACCTCCTGATCTGGGGTCTAAATGAATGCTATTTCCACTAACAAAGACTGTCTATGCTGAACAAAATCACGACTCTTACCTCGCAGTACCATCGCCTGTTCTAAGGGATTCGATGGTCAGTGTTCGAGAAAAGCTTTTGGTAGAGATTACACGAGCGGGGTACGATTGACCACTGGCCTTCGAGTTTATGGGTCACAAGTATGAGTGTTTGGTACACCAGCATGGCATATAGATCATCGATTGGGCTATAGGGTTCCACAGGTTGTGAAAAAACCGCGAGAAAAGCTGAGTCACACAGTTCGACCGGTCCAACCCATTAGACGATATTACGTCATTGTGTGGCCGGGTTTGAACTGCCCTTCGGGGTGCCTGTTTCTGCACTATAACGAAACATTGCCAGGGTCTTGCTTAGAGTCGCGTACGAGACCATATACAGAGGGACTGCTGGGTGCAGAAACGGCTGTGCCCTTGCATTGCCCTTGAAGAGTCGTTAATTTTTGTGGTATAGATTACGTCTCTTGATCCAGAACGGCACTGCGAATCCAAATTAATATTAGTACAGCTGCCTCCGTAAAAATTCTAACCTGCCGCGTGCCCGGCCGTGTGCTTCTAGGAGGACCATTAGAGTTGAGAACAGTGCTAAGTACGCGGCTAGACCTTTACCGGAGGCCCACCCGACATAACGAGGTGGCCTATTGGCCCATAAGAATGCAGTCTAGTAGGAGGGTCTGGTCGTCTTCAAGCCTTCAAGGCGTCTACGCTAGAAGTAGACTACATAGTCCAAAATGGCTAATGTCTACCTGTTCCTGAGGAGCGAGGGCGAGCTGCTTGTCTCTGACCGTCACCGCCCTCGCGAGCCGAACTTGGTGCACCTTGTAGTTAGACCGGGCACTCTTGACTTACCTTAAAGCAGTTGACGTTAATGTAGAACGGTGATCTAGTTGGGTTGGTGATTGTACACTTTGAGTGTCGGCGACACTGTGGGCTTTGCTGGTATGTATTCACCCCTCGGCCCAGTGCAGAGCACTTGTCAGCGAACGCGTTAAGAACGGTATACTGCATAAAGAAGCGGGACAAGCGACCGCTCAGGCTTGTAGAATATTCCAGCTTCAGCATATAACAATTGCTTCCTTCGCTACAAACAGGGACTTTATCCATCCGGAGCCCAAGGTTCCAGCACAATATCGATCCACCCCGACTCGTACATGGCCGCGCCACGGGTCATGATTTGTATAAGGACGGAGACAATGATAAGGTAGTTAGTACAGCTCCAATTTGTTTGTCAAAGTGATGACTCTCCTTGTTACTTTACAGCCGCCTCAAAGCGCGCCGGCGGAAAGCGCCCGCAAACTCGCGCGACCCCCTCCAGATACTCGGGTCTCCGGTATAGATCCTCACATAAGATTGGTCCGATCAGTTGTACACTGTTCACGGCTGCCGAGACATACGAGAATTACATCCCAAGCTCGTTAGCGTCTACTGTAAAACCAACCGAACTAGGCGGGACTCCATTCTTGTGTGACCTTCCCCGGCTACCAGTGCGGATTCAAGCAAGCCTACGTCAAATGCTGGGGTACACCGCAGGAGTATGGGGGTTCTCACGCAACGTAACTGATTAATTGCTCTAACGGGCGCGTCGGGAGCCGGCATCTCTAGCTGGTCCACGTTCTAGTGTATCGCAAGCCGATGTGTTGCCTTTCTTTCCAACGTTTACTCAGCCCATGCAAGGAGACGTCGAAGAGAAATCGTGCGCGCGAGGGTTTTGTAACGGCTTTCATTCTTATTCACTCAACTGCACTACAAGCTGCCCCGACTCACAGTCAGGTAGATATCGCCCGGGCGTCCATAGCTGATTGCTCGGGCACAGTCACCCCTCGCCACATACTGAACTCTTTTTTCGGATAATGACGAAGAACTACACTGCATTGCTGGTCGTTAAAAGTTCAAGCTGCAACCAGTGGTTATGCACCGGACGGCTTAAGTTTTTGGGTATATCGATTGTTCCCTCGCGGTCCGACGAATGGGTGATTACTCAAGGCTGTGTATTGTGCTATTTTGTACTCACTTGCAATTTCGCAACACACTTGGGGTGTTGCTGGCCCAAATTTTTAGTGGTACCTGAGCGCGCGACCAGATTGTCTGTCGCTTAACCGTACGGCACCGATAATGAAAGTTCGTGACCGTGAAACGTAGCCGCGCGGTCCATTGAGCGAAATTAGCTAAGACACCTTGGAGATCGACGTAGCATCTCTGAGGCTGAACCGGTTAGTCCTTCCTGTGTATGTTTGTCAACTACTGGAGGATGTGTTTTAATCAATGTTGATAGGCCAAAATAGACGTAGTATTTCCTGTATGGGCGCCCAAGACCCGCAATGCCCAGTGGAGAGTTAGGCACGAGTGGGCTTTACAGATGGTTTTGTGGTTCTGCTTGTTCCGTCGACCGCCATGGACTAGATTATCAGTAACACCACCTTTTGCGACGGCCATTATATTACAGAGACAAATCCGCGGACCTAGGTCCTAGGGGGGTCAGTCTAGTATTGGCTGTAGTCAGGAGCACCAGGCAACGAGGTTCTCGGGGCATAGTACGGTTTATGTAATGACCCTTTGTCACCGGATGTATCTTCTCTGCACCACGAGTTGATTCATTTTGACAACCCTATCGAGTGTAACAATTTAAGAAGAATTGTGAAGTGCAGCCCTCACGTTTCTAATCCTTTCATCGATGACTCACTACATCTGGGTATCCACGAGCGGGGGTCTCACCCTTGCTGCCTGACATCCAGTGTCGAATGCTACCCGGTCAAACCACCCGAGAACAAGAAAAGAATCGTTGGCTTCAGGGAACGATAACGAATGCGACCGCTAGGGCGAGTAAGTTTGCAGCTGTAGTGCACCTCTCGATCGTCTGACACCCTCTGCCGGAGTCATACCGACCACCAGATTTGCACTCTAGTGAATAGTGACCGAGGACAAGTGCGTCGCGCCTGTTAATTTTGTGTTTGTGGAATATGTAGCATTACCATAAAGGATCGTCCATCACGCAAGCTCCGGTAATAATATGAATGCGGATGGCATCATTCCCTGGGCGTGTATTATGAAGCAACAAGCAAGTTCCCAACTTGCTTTGATGCTCCCGGCGGCGCAATTTCTATCTCGAGCTCTTGGTGCAATTGCTTTTGTCAACGAGAGGTGTTAAGCGGAGTATGTTGATTCTGTCAAGTCTACCGACGAGAATGCGTTCAATTCAACGCGATTCTGCGGCGTTGGCACAGCGTATAACCTAGCGGTCCTAGTGAGCCCCATTGACAGTTGGTGACGTCCAAATCGTCCCAGGTCAAATTCGGGCTCGATGCGTGTGGTCAGGGCGCGCGATTTGCGTCGACCATTGCAGGTTGCAGCATCAAGTGATCAGCACTGCCGCAGCTTCTATAGAGGTCATCTATTGTTAGCAATCGATAAGCAGTCGAATAGAGGCAGAAACTCTGACCCGGAATGTAACCACGCTTTATACAAATTCCGGCGGACTTACCTTCTCTACGCGTACTCGGCAGTTTTCCCTAGATAGGCCCTGATACAGCGCAAACGCACCGCCTCGGCGAGGGTGCGCGATTCTTAAGAATTAATATTCTAGTTGCGCCGGACTGATGCTTAAAGGGCTGGCAGACGTGGCGATTTGCTTAAGGAAACATTTTTTGAGCTGGCTAAGATAACGTCGCGGCATCGGCCGTGCAATATATACGCGGCAACCGGAAAGAGGTGCCCACATTACGCATCTGCATCGTAGTACTGCTACGTGTGTGAGAGTCCCAGACTTCAGAATTTGGGTTACATTCGCAACACCGGAAGTTAGAACTAACCCGTTTGGTAAGTCGTTTATGTATTATCTCGCGGAGATTGGGCATAGTACAAGAGGTTGGATGAACACAGTCTTCCAACATTCGAGAGACATATGAGTGCACACCGGTTCCATCAGGCGCGCACATGATCCGTTTATGACCCCCAGCACTACTGAGGAGCTAGATGTGGCCGACAATTAGGTTCAGTTGCGGCATGACGAACCTTAGCAGGGAATGAGGCTACCTCATCCAGCTTTCGTAGCCCTGCATTCCTACCGCTATTATGCGGCTTTATTCCAGGTCTCACACGTTCGAGAGCTGGCCATCAGTCAGCCACGTTCGGCATTCATGGCCCAGCACCCGCAACTGAAGATTCTCACTGGGGATAAACCCTCGGTAAATTAAGTGCAAGGATTCCCGTATTGAAACTGTAACGGCTGCGGACGAACGGTAATTCCACTGTCCGATATCATCAGGCGCTTACTGGGCGGGGCCAAATAAACGTTGCATCACTTGTGTTTAGGCCGCTTCACCAGTATTTGTGTAAGCGTACACATGGCCATAATTTTTAGGAGTAGGGGGGGGGAGAAAATTCTTAGGCCACAAAAGCCAAGGAGCGTGCACACTTGCCGTGCATATTACGATCGCCGAGTTGGGAAATATCCTTTACCCTGGGACGTACAATTTCCTCTAACGTGTTCGATACAACAAACCAGATGAGAATTTCTGTTCCGCGGTGGTTACGCCTCTCGTCCCGCTTATCACGGCATGGTCGGGCACGAGTGTACTCGTGCATATCCCAAGGAATAAGATTCGCCCCTCACATTACCAGCGCTTAGCCGCAGAATTCTCAATGCGAGTCTGTCCAGGTGTTGAATGAATGGACTTGGTCGTGTGCTAGGGACGCGAATGGTACCCCTTTGATGATGGGAGGCTCGCAACCCCATAAATCCTGGGGCGCATAAGGGCGATAAAGGGGTGCTGCTCTAATTCCTCGATAAAGTAGGATGGCAGGAGGGACGTATACTACAGACCACCTCTGGCCATAAGATGGTTAGTCAAGGTTTATGGCTTAATACAGAGGATCTTCCGGTGTAAGCTCTGGCGTATGGATTTAAAATTCACACAGGTACTACGCGAGGCGTCAGAATAACCGGCACTGAAATTTACAAGCAATACCCCATCAGGACGAATGCGCCCAGGTTCGAGGTCGACGAAATACATTGTCGAGTATTCCCCCAGTCTTGCATTTGCTTAGCTTAGTCAGACGGGCCAATAGTGCTAAATGATCTAGACTCTAGGGAGCTACCTTCACGAACCCACAAAACCGCGGGTTAGGCACGCAGGGGGCTTAATCACTGCCGCACGCTCGGTGGCAGACAGCAGCAAATCACCTTTGCGTACGCGTCTATTTGAAAGGACCTAAACTTGCTATGTAGGCACCCCCCGGAGGCGAGCGAAGAGAGGTATAACGGCGACCCATGACATGGATGTATTGATAAATATAATAATCGCGTACTAAGAATGTGGTGCAGGTAGTTGATGGTAAGGGTTCACATCCGTACCAAGAGAGTTTGCACCGTTGGCAGACAGAGTATCACGATCCCCTTATACTGCATGTAACGGACAAAACGTCCCACTGACTTCGGGTAAAGCGACCTTAGTACGCTTACCCGACGACCTTTAATAATCGGTGGGCTAGGGTACTGGCACCAACCCTGACTGTATTTTGGGTAGTGTGTGGTGGATCTGATACACGCAGATAAATAAATCCGTTACAGAATCGCGTATTTACGTCTACACTTGTGCACGGGATCAGAACGCAATATCTTATCATGCAGGCTTTTTTGGCTGTTATTACCGTTTTCGGGAAACGCGAGTGGGTAACTCTGCATTGTGTTAGTCACACAAGGCTTGCTACTAAAACCCTAGATCGGTCTTTCGGGCTCATACAGCCGCGAATACTGGGAGCTCCGCCTGTGGCAGTAGCCTCGACTGGAGTTAGTGGAGAGCTGCATCGGCTGGTGGATTCACTCTATTTTCGTTAGCTGTCATCCTGAAAGTGTTGGGACGTCCTTCTTAGCGTGTCACGTTACCATATCACCCCGTCCTAGTGAACTCGGCGGGCGGCCGGAGTCTCACTGTCTGAAACACTAAGCTTTCAAGATATGGAGTTCACCGTTGGATGGTCCGAAGATGGGCGGACTAAAACTGAATGTCCCTGGCCCGTCCGAAGTTTACCTCGCGTCGTAAGGTTTGGTGGGAGTAGAATGTTATCCCGTTTCCATAGTTCCAAAACAGGTTATAGGAGGTGTATAGCGGTCCCCTTTCATACCCGAACGCCGAGTCTGCCTGAGTTCTAGACCTACTTGACTAGGTCCGGGCATTGTCTGGTAGGCCACTGACGTAGAAAAGCATGGATGCAGTGCTTTCCCCAAGGGCATTCACTCGTCGTGAGGGGTGTTCGTCGTACACTAGCGGAAGGCAAGTGGCCCTTCAATCTTGACGCGCTTATCCTGAGCATACCTCTTCGCAGTCACTGGCTTAGACTCACAGAAGTTTGCGTAGTGAGCTTTTGAATAGACTTACGGGTCATCCCGACCGGCGTGAAGCGGTCTCTAACAGTGTACAGGCTCATCGAAGAGAAGCACCCATCTGGGGTTTTGGATTTGGCAGCAGAACCGAAAGACTGTACTGGTACATGGGAAACTGCCGCCTGGTCATTTAATACGTACGATGCGAGGGATCCCCTATATAACCGTTCGTTTCTGTTTTGAGACTTGTCAGCCCCCACGACCTGTCTAAATCGTTCCAGAGCTCAGATGGAGAGCAAATACCGAGCGGGGAAATCCTAAATGTACCGTGACTGACGGGTGACGTTGTCAGCTGCACATAAGCGACTCGACCGATTATTCCAAAATCTGAGAGTTAACAGGGTACGTTTTTCCCGTCCAAGCTTGCGATACTAAGGGGTTGTAGAACATCTAAGCGTTCGTCACAATCCTCAGTTATAGGCTTTTTTTAAGGCAAACAAATTGTTAAGAGTATGCGCGCAGTCTTGCATAAATAGGTGACCGTTCCGATGAGAGCTGTCCGCCCTCCAACTCATCGCGTCTAGGTATTTGCGCTATCTGCACCCAACGACCTGAGGACGCGTTCTGTTGATCTTATGTTGTAAAGTGTTGAAGATGGAACTTTACAGTCCGAAGGAGCCAGACGTTGCGGGTTCGAGAGAATACTTATCCCTAACGAAACAAAAAGGACCCTAGGTGTGGTAGTAAGGGCGGATACGTTCGCTTACAACGCGCCTCTTCAGCAGACCCCGGACGAAACCTACGCACTCATCACAATTTGGACCCAAGATCACGATCGCAGGCGAGTGGCGGGCTAATATGCGTTGTCAGATCTATTCTGGGGAGGATAGGATTTCCGGGGTAAGACCCGGCCTGCGGCGCCTTGAATTACGAAATACGATGTTGCACAACCGCTGGGTCGGGGCCGGGTATGTCCAAAGCCGATATAATCGATATCCCCTTACTAATCCTGGCACCGAACCATTCAGTTGGTAGGTCATTTGATATGTTCCCACTTGAGTCGCGCAAAAGTCCGAGCCAGCAACTTCAGGCTTTGGAGGGAGGGCATCCCAGATCCCAAATTGTTAGCTTCTTCTTAACACCAAACGCTATGAATAAGCCACGAGTTTTCAGCCCACACTGAGCGGTCCACCTGACCCACTGTTGCGCGCGAGGTAATCGCGATATTACGACACACGAGACTATAGGCTTGCAGCAGGGCGTTAATCTAGGTAACCTCCGCAGCAGTCTAGAAGCCAGAACTACTAGGATCCAAGCTTATAAACCCAGTTGTTCACATGGCAACTAGGACGCTACGTTTTGACGCACATTGCTAGTTGTCAAGCACTCCGGGATGTCCCTGGGCTCGAATTTGGTCCGGCTCTCACTGAGGTTATACATAATGACGCATTCTCTGTGTGCGTCATCGGAACTTTCCTGTTCTGTAATTTGAAGGTCCCATAGAAAGACTAGCGGATCCTGTCGAGTCCTACGTATCGTACGCATCCTGGCCATCCGCGCAGGACCTGAGCTACGCGAGGCCAGTTGGAAGGTGGGTCCGGTAGGTTACAACTAGGTGGCTGTTGTTGTGTTCTAGTACCTGACGCATCTTGAACGTCACTCTATAACAACAATGGCGACGCCCCCATGAGGGTAGGGGCAATCCAAACCCAAGGGCGTCTCGTATCGCTTAGCATTGGCGGGCCGTAGGAAGTGACGTGCGGATCTAGCGAAGCCAGGCCACTAACTGACGCATGATATAACTAGGCACGCGCCTCCGGACCAAACCGTGGTTTCTGCCCCCTGGTGGTAAAATGATTGTTTGCGTTCGTCGTGCCTAGCATATTGTATGCGAAGGGAGTCGACTCAACGGACTTGAATGCACCGTACCAACTTAAGGCTCCCGTTGAGGGGGGGGTATACGCCGCTATGCTAGCTTCGCGTACGTGGGTAGTTAGGGATTATGGGGTTCTCCGCAGACCAGACACTAACTGAGACGTTGGCACACAGATTAGCGATACACCTTTAAGAGGGGGACTAACCGGTATGTTGTGCCATCGCGTCTCATACGTCCTCTATCTGTTGCGAGCCAAGATGGAGCGCCTATGTCGAAGCTTCACGCTGCGATACGTCCAATTTGGAATTTATTGTTCACCCTCTCTGGATATAACAGGATGTTGTGGCCGGCCTGCCACTTCCTGGTTTGGCCAGGAGTTCACTGAATGGGCCGGCATTACTGGGCGGGCTAAATCCTTGCCTTCTGTTGATTGATATAAAGCCCGTTCCCTGCGCAGTGACTGATCAACGAGCGTGACTCGTCTTAACCCAAGGACTTTGAGTTGGACTTCGTCAGAGCTTGCCCTAGCCTCGGGTGTATTATAGGGGCAGAAGCACTTGCCAGGACCGTCAAAGCGGCATAGCAATCGATGTCGAGGCGTCCCTGGGTTTCTACCGCCTCGGGTTATGAGTTCCTCCATGAGTGGCTGTGCCACTGAGGTAACCAGCCACTGGGCCCGCGGGAACATCCAGGCGGGGACGATTATTCCGGTCTGCCCGTACTCCCGAAGCCCGGAGTTACCGACGTCAAGAGTCTGCGAGCAAATATTGGTCTCATTAACATCTAGCATTGTACTACCGCGAGGTTCTTGCCGACGCGCTTGTTATTATTTCTCGCGTACGAGATATTCTACACTGCGGACGCCGCAGTCCGGTTCCCGCGAACTAGGCGGCGAAAGGCAAAGCATACTCAAATTAGCGTAGTCAACAGGGTTATGTAAATAAAGGGGTGCCCGGTCGTGACAACGCTGAATGCGTTCTCTAAGATCTCTTCTCTTGAATTCGTGCATACCACCGTGCCCACATCTCGGCAACGACTGTGCTATAATTCGCTAATAACTAGTGCTAGTCCGATCCCTCCCATCGGTCTTTGAACTAATAATCGGGGATAACGGTCAAGCCTAATCTGTATTGGTGAACGTTAGCGGTCGGGTGACCCGGGCGCGGATTGATTCTAGCGCCGCCGGACATCCTTTCGTTTAAGGGTCTGGGATCATCGATGAACGTACGAAGGTAGAGGAACGAAAAGCCAGTCAGTCTAGCCATGGGGCAGTTATTAGCGTTCCTTTTGAATCTAGGATGAGTCGAGACTTGTTAACCCAATATCGGATGTCCACCGGCCGTCATCGCAGAACTCCATTATTAATACCTTTGACAATCGTCAAGCCAAGATCGGCTCTGAGTGGTTAGAGGACTGTCGGGTAGGATAAGGAATGAACGTGCGTGTCGGGCGGTCGCGCCTGATAACCATTTGTATATCAAATAAGTCAATACACTTGCGTGATGTTTAGCGCTCATGAAACGGATCTTAGTTCAATCCCGGTCGCGATTAAAAAATTGCAGTCAGGCTCTATACAGTGGCAGTGTGGGGCATTTTTTATTTGGGTCCCACGGCACGATCGCGACCGGCGACCCAGCTTCTCGCTGTTTAGAACTACCAAGGACCGTTAACGCCAGCATGAGATGACTGGTGTATACACTTCATTCCTAATACAGCCTTCAATCGCCGAGAATAAAGAGAATATAGCTTGAGCGCCAGGACCACGCATAAAGCGATTATAAACTAGGAAAGTAAAAGTGCTAACCCCGCGCATTCATTATGCACAGACTGTGAAGAGTCTGATGTGTAGCAACCCCACGCCGTCACGCTTTACATCTCGCATTCCTTTCCAGCGACAGTGAGCGATCAATCCACTAGAAACTCGCTCCCAAACTCGACAATGCCTCCCGTTATTAAGCATACAGTGACCTCGACGTACATCTGGTACATTGATGCGATTTGGCGGCTGTCCTGCTCGTGGATCCGTAGCACCATAGTCCCTGCGAAATTTCTGTCTCTGCGATGTGGGGAGTATTGGACAGTCTGCCTCGTCACGACCAGGCTATCCCATTGGTTCCGGACCGCGGAGAAGATGTTTGATCCTGTCTAGCAAGGCAGTGGAAAAGTCCGAACATGGGCTCTGATTCAGCATCCCTTTCAAGCCTATCATTTCATGACACTGTACGTTATAGTACAAATACGGCTTTTGACCCCGATAACGTCGAGAATTTCACCTAACCTCGCACCGTAAGTCTGTGATAGCTTCGGAGACGCAAAAATAAGCTAAGGTGACGATAACTATATAAATCAGCAGGCCCGCCCCGGGGGTTCCCATGTACTTGATAGGTAACGTTTTAGCCATATGTTCATATAATGTGCGAGAACACATAGTCCTCACGCTAGAATTGGCCCAACAGAGCCTACACGCCCGTCAGTGGTTTAATTGTTGTTTCATTATTATCGTCCCAACATCTCTGCGTTCAGGCACACGCTTTGCCGCTTCTTGGGATGCGGTGGTAAATAATTTAGGAATACCAATTTGATCACTCGTTTCTGGAGGTTCAGGGCGTACCGAAGTTATTCACGTCGGATACCGACCGCCTTGCTATCAGATCTGCTCTGCCAGGTAATTCCGCCCGGGTCGGTTTGAAACTCGTGTCGGCAATACTATAGACGGTCTGGATATCCTATGGCTGTATAGAGCTCTCAGCGGGCCCTGTCAGGGTCCCTCGCAAGGTTTTGGGCAAATCGAACTGGACTGGCCCCGGGATGAGCAATTCGTTGCACTAAGCGGTATCTCAACTCGGACACGTCGTCAGTTAGGAAGTGGATTACTTCCCCTGCAACCATTTAACGTTCGTCCAGGACCGGTTCTCGCTGGCACCTGAATCCGTGGGGCTATTTCAATTCGGTCGGGGGAACAGTTTCAAGTTCGACTCGTATAGCTTCGCCATGAAATGATACTCTGGAATCGACCGGGGTTCGCGATGCTGTCTCAGCATCTTGGGCGTGGTTACTACTCCATCTCTACATACCTGGCGTGGGTTACGCATGCTTAGTTGTGCCACCATCTGGCCATCTCGTTTTTCACAGGTGCATGTATGAAATGAATAGATAGGTCAGCACGGGACATAGCAGGTAACATCTCAGGAATTATTGAGGACTTGTAGTTTAGTGTAGATGTACATATTGCGCATTTTATTTGGTTCGACTATGTTTTGTTCCAGGCTGTTCTAGACTTCTTTATAGCTTTCACCGATCGAAGGATATTGGACTTCCTCTTTATCACTTGCACAGCTCCGAGGCCGTCTGATGGGATGTCAATTAGCTTATTTTGACATAGCTCAAATACTACGAGTAGGTAAATATGCTACGGCTCGCCCAGTACCCCAGTCTGGCGGTTAGAAAAGCTTGAAGCCCACCCCTGGTCGCAGGATCGCGCTAG'"
   ]
  },
  {
   "cell_type": "code",
   "execution_count": 449,
   "id": "f092c090",
   "metadata": {},
   "outputs": [
    {
     "data": {
      "text/plain": [
       "'27 75 164 225 463 803 1089 1106 1129 1759 2048 2793 4561 4704 5006 5163 5201 5703 5936 6500 6800 7212 7508 7585 7699 7992 8444 8502 10310 10506 11196 12665 12896 13041 13054 13230 13600 14231 14587 15165 15330 16145 16623 16733 17187'"
      ]
     },
     "execution_count": 449,
     "metadata": {},
     "output_type": "execute_result"
    }
   ],
   "source": [
    "' '.join(map(str, list(aprox_pattern_match(seq, pattern, 4))))"
   ]
  },
  {
   "cell_type": "code",
   "execution_count": 462,
   "id": "2a5600bc",
   "metadata": {},
   "outputs": [],
   "source": [
    "file_path = '/Users/leongugel/Downloads/dataset_9_4_1.txt'\n",
    "assert os.path.exists(file_path)\n",
    "file1 = open(file_path, 'r')\n",
    "Lines = file1.readlines()\n",
    "pattern = Lines[0].strip()\n",
    "seq  = Lines[1].strip()\n",
    "d= int(Lines[2].strip())"
   ]
  },
  {
   "cell_type": "code",
   "execution_count": 464,
   "id": "3ac41e5b",
   "metadata": {},
   "outputs": [
    {
     "data": {
      "text/plain": [
       "'AGAGGGTGTAA'"
      ]
     },
     "execution_count": 464,
     "metadata": {},
     "output_type": "execute_result"
    }
   ],
   "source": [
    "pattern"
   ]
  },
  {
   "cell_type": "code",
   "execution_count": 471,
   "id": "b414e0c4",
   "metadata": {},
   "outputs": [
    {
     "data": {
      "text/plain": [
       "5"
      ]
     },
     "execution_count": 471,
     "metadata": {},
     "output_type": "execute_result"
    }
   ],
   "source": [
    "d"
   ]
  },
  {
   "cell_type": "code",
   "execution_count": 467,
   "id": "fa1acadb",
   "metadata": {},
   "outputs": [
    {
     "data": {
      "text/plain": [
       "'16 19 39 94 95 97 116 138 192 226 243 269 382 385 421 460 621 628 641 672 688 720 722 795 838 850 852 879 907 909 1006 1028 1061 1063 1071 1073 1076 1093 1105 1107 1115 1129 1131 1196 1211 1224 1225 1264 1268 1271 1331 1386 1388 1412 1427 1453 1460 1462 1517 1580 1589 1617 1628 1722 1767 1795 1827 1887 1889 1931 1965 2064 2066 2070 2084 2119 2123 2143 2152 2237 2271 2336 2361 2369 2401 2444 2464 2476 2511 2552 2564 2566 2617 2651 2679 2736 2738 2822 2844 2846 2858 2868 2908 2953 2992 3067 3069 3100 3102 3131 3139 3141 3171 3187 3239 3259 3303 3357 3463 3470 3585 3617 3620 3622 3634 3636 3643 3660 3758 3760 3790 3887 3909 3919 3959 3961 3987 4000 4018 4170 4172 4182 4186 4195 4197 4206 4233 4239 4286 4315 4374 4384 4444 4446 4447 4463 4484 4543 4607 4609 4627 4646 4656 4679 4753 4849 4886 4964 4972 4981 4983 5009 5011 5038 5107 5110 5114 5121 5208 5231 5252 5277 5297 5299 5315 5411 5429 5440 5474 5490 5533 5556 5564 5570 5576 5578 5596 5652 5704 5727 5750 5762 5984 6011 6013 6023 6026 6036 6171 6224 6239 6240 6250 6428 6447 6476 6504 6537 6539 6541 6577 6599 6633 6639 6704 6706 6731 6762 6764 6772 6825 6832 6861 6863 6872 6900 6921 6923 6925 6930 6951 6969 7007 7013 7060 7078 7095 7110 7121 7175 7183 7221 7260 7352 7364 7490 7510 7542 7564 7568 7589 7614 7708 7711 7720 7739 7761 7763 7772 7781 7783 7787 7796 7798 7806 7840 7851 8009 8011 8027 8035 8141 8229 8237 8263 8265 8383 8497 8588 8622 8700 8714 8716 8792 8794 8798 8800 8810 8829 8928 8996 9024 9068 9072 9131 9146 9150 9200 9202 9204 9237 9242 9257 9276 9286 9296 9304 9367 9372 9385 9432 9434 9446 9463 9482 9516 9527 9587 9625 9658 9677 9679 9688 9696 9760 9798 9816 9864 9892 9960 9963 10096 10105 10107 10108 10110 10130 10132 10134 10163 10213 10224 10226 10228 10248 10250 10252 10267 10269 10291 10332 10351 10366 10382 10398 10441 10468 10482 10484 10592 10594 10629 10642 10661 10689 10748 10786 10793 10800 10810 10833 10843 10850 10900 10930 11003 11030 11060 11151 11175 11194 11206 11257 11273 11284 11339 11346 11353 11430 11473 11475 11541 11583 11611 11700 11752 11769 11783 11784 11860 11870 11872 11882 11883 11927 11947 11959 12026 12036 12091 12105 12107 12160 12205 12213 12260 12270 12279 12323 12341 12426 12476 12486 12596 12609 12632 12634 12644 12646 12661 12723 12793 12875 12931 12951 13026 13028 13041 13066 13077 13087 13136 13161 13174 13214 13222 13255 13265 13321 13357 13369 13397 13422 13434 13436 13494 13514 13578 13589 13599 13618 13626 13635 13678 13686 13695 13697 13707 13756 13786 13793 13819 13847 13930 13962 13971 13972 13989 14059 14117 14140 14175 14266 14272 14287 14310 14325 14332 14334 14360 14363 14403 14428 14447 14456 14478 14480 14537 14547 14549 14556 14577 14630 14632 14640 14692 14717 14736 14803 14805 14815 14865 14867 14901 14914 14923 14943 14961 15057 15089 15189 15261 15287 15293 15303 15361 15363 15392 15500 15502 15509 15530 15537 15583 15585 15666 15668 15688 15713 15725 15727 15740 15751 15757 15767 15788 15858 15898 15909 15932 15934 15953 15972 15974 16020 16101 16131 16153 16240 16272 16359 16448 16452 16465 16487 16508 16591 16593 16618 16643 16645 16658 16696 16848 16863 16873 16890 16923 16948 16956 16989 17024 17068 17123 17153 17155 17169 17178 17188 17190 17296 17310 17393 17493 17568 17600 17647 17649 17656 17666 17676 17754 17791 17921 17956 17981 18036 18065 18098 18100 18128 18154 18191 18203 18205'"
      ]
     },
     "execution_count": 467,
     "metadata": {},
     "output_type": "execute_result"
    }
   ],
   "source": [
    "' '.join(map(str, list(aprox_pattern_match(seq, pattern, d))))"
   ]
  },
  {
   "cell_type": "code",
   "execution_count": 470,
   "id": "b2facb5b",
   "metadata": {},
   "outputs": [
    {
     "data": {
      "text/plain": [
       "11"
      ]
     },
     "execution_count": 470,
     "metadata": {},
     "output_type": "execute_result"
    }
   ],
   "source": [
    "len(aprox_pattern_match('AACAAGCTGATAAACATTTAAAGAG', 'AAAAA', 2))"
   ]
  },
  {
   "cell_type": "code",
   "execution_count": 472,
   "id": "8570cc3e",
   "metadata": {},
   "outputs": [],
   "source": [
    "file_path = '/Users/leongugel/Downloads/dataset_9_6.txt'\n",
    "assert os.path.exists(file_path)\n",
    "file1 = open(file_path, 'r')\n",
    "Lines = file1.readlines()\n",
    "pattern = Lines[0].strip()\n",
    "seq  = Lines[1].strip()\n",
    "d= int(Lines[2].strip())"
   ]
  },
  {
   "cell_type": "code",
   "execution_count": 473,
   "id": "b76567bf",
   "metadata": {},
   "outputs": [
    {
     "data": {
      "text/plain": [
       "(2,\n",
       " 'TCAGTTAATTCATAAATTGCAGGACGTATACGGGTGAGGCAGGTGAGACAATCTTCTCATCAAGCGTGCCACTTTTACAGAAGATGTAGAACTAACTAGGGAGGGCTTTAAGTCCCTCGTAATCGGAAGCGACTCTATGACAAGGAGACTATAAAACGACATAAGTACGATCCCGTTAGCGTCAATATGCAAATTGAAAGGAGTCATGGAAAGAGATAGTCTCACAAGTCGGGAGACCTTACAAACATAGTCCGCACTAGCTCGTTAAGAAGACACATAGTAAAGCTCGATGGTATTCTTCAACCCCCGTGTAATACATCCATTTTCT')"
      ]
     },
     "execution_count": 473,
     "metadata": {},
     "output_type": "execute_result"
    }
   ],
   "source": [
    "d, seq"
   ]
  },
  {
   "cell_type": "code",
   "execution_count": 474,
   "id": "8cee8a92",
   "metadata": {},
   "outputs": [
    {
     "data": {
      "text/plain": [
       "44"
      ]
     },
     "execution_count": 474,
     "metadata": {},
     "output_type": "execute_result"
    }
   ],
   "source": [
    "len(aprox_pattern_match(seq, pattern, d))"
   ]
  },
  {
   "cell_type": "code",
   "execution_count": 478,
   "id": "991147ff",
   "metadata": {},
   "outputs": [
    {
     "data": {
      "text/plain": [
       "'CAGTA'"
      ]
     },
     "execution_count": 478,
     "metadata": {},
     "output_type": "execute_result"
    }
   ],
   "source": [
    "'TCAGT'[1:] + 'A'"
   ]
  },
  {
   "cell_type": "code",
   "execution_count": 27,
   "id": "dd4bc067",
   "metadata": {},
   "outputs": [],
   "source": [
    "nuclotiods = ['A', 'C', 'G', 'T']\n",
    "suffix = lambda pattern: pattern[1:]\n",
    "def get_neighbors(pattern, d):\n",
    "#     print(f'pattern: {pattern}, d: {d}')\n",
    "    if d == 0:\n",
    "        return pattern\n",
    "    if len(pattern) == 1:\n",
    "        return nuclotiods\n",
    "    neighbors = []\n",
    "    suffix_nghbt = get_neighbors(suffix(pattern), d)\n",
    "    for text in suffix_nghbt:\n",
    "        dit_suff = hamming_dist(suffix(pattern), text)\n",
    "        if dit_suff < d:\n",
    "            for x in nuclotiods:\n",
    "                nghbt_item = x+text\n",
    "                neighbors.append(nghbt_item)\n",
    "        else:\n",
    "            nghbt_item = pattern[0] + text\n",
    "            neighbors.append(nghbt_item)\n",
    "    return neighbors "
   ]
  },
  {
   "cell_type": "code",
   "execution_count": 30,
   "id": "28c7efb7",
   "metadata": {},
   "outputs": [],
   "source": [
    "neighbors= get_neighbors('ACG', 1)"
   ]
  },
  {
   "cell_type": "code",
   "execution_count": 34,
   "id": "518a89c9",
   "metadata": {},
   "outputs": [
    {
     "data": {
      "text/plain": [
       "['ACA', 'ACC', 'AAG', 'ACG', 'CCG', 'GCG', 'TCG', 'AGG', 'ATG', 'ACT']"
      ]
     },
     "execution_count": 34,
     "metadata": {},
     "output_type": "execute_result"
    }
   ],
   "source": [
    "neighbors"
   ]
  },
  {
   "cell_type": "code",
   "execution_count": 31,
   "id": "6852ffee",
   "metadata": {},
   "outputs": [],
   "source": [
    "neighbors1 = ['CCG', 'TCG', 'GCG', 'AAG', 'ATG', 'AGG', 'ACA', 'ACC', 'ACT', 'ACG']"
   ]
  },
  {
   "cell_type": "code",
   "execution_count": 33,
   "id": "4e76a891",
   "metadata": {},
   "outputs": [
    {
     "data": {
      "text/plain": [
       "True"
      ]
     },
     "execution_count": 33,
     "metadata": {},
     "output_type": "execute_result"
    }
   ],
   "source": [
    "set(neighbors1) == set(neighbors)"
   ]
  },
  {
   "cell_type": "code",
   "execution_count": 41,
   "id": "1ab1b9f8",
   "metadata": {},
   "outputs": [],
   "source": [
    "neighbors1_lines = get_neighbors('TATGGTGAG', 2)"
   ]
  },
  {
   "cell_type": "code",
   "execution_count": 42,
   "id": "25447263",
   "metadata": {},
   "outputs": [],
   "source": [
    "with open('/Users/leongugel/Downloads/neighbors1_line.txt', 'w') as f:\n",
    "#     f.writelines(neighbors1_lines)\n",
    "    f.write('\\n'.join(neighbors1_lines))"
   ]
  },
  {
   "cell_type": "code",
   "execution_count": 78,
   "id": "27e6da2a",
   "metadata": {},
   "outputs": [],
   "source": [
    "def count_kmers_with_mismatches(seq, k_size, d, with_reverse = False):\n",
    "    freq_map = {}\n",
    "    size = len(seq)\n",
    "    for i in range(size - k_size + 1):\n",
    "        pattern = seq[i: i + k_size]\n",
    "        neighborhood = get_neighbors(pattern, d)\n",
    "        if with_reverse:\n",
    "            neighborhood_rev = get_neighbors(rev_compl_fast(pattern), d)\n",
    "            neighborhood += neighborhood_rev\n",
    "        for neighbor in neighborhood:\n",
    "            if neighbor in freq_map:\n",
    "                freq_map[neighbor] += 1\n",
    "            else:\n",
    "                freq_map[neighbor] = 1\n",
    "    return freq_map"
   ]
  },
  {
   "cell_type": "code",
   "execution_count": 76,
   "id": "4f365e86",
   "metadata": {},
   "outputs": [],
   "source": [
    "def freq_words_with_mismatches(seq, k_size, d, with_reverse = False):\n",
    "    freq_map = count_kmers_with_mismatches(seq, k_size, d, with_reverse=with_reverse)\n",
    "    max_count = max(freq_map.values())\n",
    "    patterns = {k: v for k, v in freq_map.items() if v == max_count}\n",
    "    return patterns"
   ]
  },
  {
   "cell_type": "code",
   "execution_count": null,
   "id": "4b1f19e8",
   "metadata": {},
   "outputs": [],
   "source": []
  },
  {
   "cell_type": "code",
   "execution_count": 52,
   "id": "5baad62d",
   "metadata": {},
   "outputs": [
    {
     "data": {
      "text/plain": [
       "{'TAA': 4,\n",
       " 'TCA': 4,\n",
       " 'TGA': 4,\n",
       " 'ATA': 3,\n",
       " 'CTA': 3,\n",
       " 'GTA': 3,\n",
       " 'TTA': 4,\n",
       " 'TAC': 3,\n",
       " 'TCC': 3,\n",
       " 'TGC': 4,\n",
       " 'ATC': 3,\n",
       " 'CTC': 2,\n",
       " 'GTC': 2,\n",
       " 'TTC': 3,\n",
       " 'TAG': 3,\n",
       " 'TCG': 3,\n",
       " 'TGG': 4,\n",
       " 'ATG': 4,\n",
       " 'CTG': 3,\n",
       " 'GTG': 3,\n",
       " 'TTG': 3,\n",
       " 'AAT': 3,\n",
       " 'CAT': 2,\n",
       " 'GAT': 2,\n",
       " 'TAT': 3,\n",
       " 'ACT': 2,\n",
       " 'CCT': 1,\n",
       " 'GCT': 1,\n",
       " 'TCT': 3,\n",
       " 'AGT': 2,\n",
       " 'CGT': 2,\n",
       " 'GGT': 2,\n",
       " 'TGT': 4,\n",
       " 'ATT': 3,\n",
       " 'CTT': 2,\n",
       " 'GTT': 2,\n",
       " 'TTT': 3,\n",
       " 'AAA': 3,\n",
       " 'CAA': 3,\n",
       " 'GAA': 3,\n",
       " 'ACA': 2,\n",
       " 'CCA': 2,\n",
       " 'GCA': 2,\n",
       " 'AGA': 2,\n",
       " 'CGA': 2,\n",
       " 'GGA': 2,\n",
       " 'AAC': 2,\n",
       " 'CAC': 1,\n",
       " 'GAC': 1,\n",
       " 'AAG': 2,\n",
       " 'CAG': 1,\n",
       " 'GAG': 1,\n",
       " 'ACG': 2,\n",
       " 'CCG': 1,\n",
       " 'GCG': 1,\n",
       " 'AGG': 2,\n",
       " 'CGG': 2,\n",
       " 'GGG': 2,\n",
       " 'ACC': 1,\n",
       " 'AGC': 1,\n",
       " 'CGC': 1,\n",
       " 'GGC': 1}"
      ]
     },
     "execution_count": 52,
     "metadata": {},
     "output_type": "execute_result"
    }
   ],
   "source": [
    "count_kmers_with_mismatches('TTTAGA', 3, 2)"
   ]
  },
  {
   "cell_type": "code",
   "execution_count": 55,
   "id": "22fc7145",
   "metadata": {},
   "outputs": [
    {
     "data": {
      "text/plain": [
       "{'TAA': 4,\n",
       " 'TCA': 4,\n",
       " 'TGA': 4,\n",
       " 'TTA': 4,\n",
       " 'TGC': 4,\n",
       " 'TGG': 4,\n",
       " 'ATG': 4,\n",
       " 'TGT': 4}"
      ]
     },
     "execution_count": 55,
     "metadata": {},
     "output_type": "execute_result"
    }
   ],
   "source": [
    "freq_words_with_mismatches('TTTAGA', 3, 2)"
   ]
  },
  {
   "cell_type": "code",
   "execution_count": 56,
   "id": "1c0de481",
   "metadata": {},
   "outputs": [],
   "source": [
    "seq='GTACCTGCCGAGATGTACGTACATTGGATGATGTACCTGGTACCCGACTGCTGCTGATTGCCGAATTGCTGCTGCCGACCGACCGACTGCCGAGATATTGCTGGTACGTACCCGAGATATTGCTGCCGAGATATTGCCGACCGAGTACGATGATCTGATTGATTGCTGCTGGATCCGAGATCTGATTGGATGTACCTGGTACCCGAATTGCTGGTACGTACGATCCGAGATATTGATTGATTGGTACCCGAGATCTGGTACCTGCCGACTGGTACATTGGTACATTGCCGACTGATTGCCGACCGACTGATTGATTGCCGACTGCTGGATCCGAATTGGATATTGCCGAGATATTGGTACCTGCCGACCGA'"
   ]
  },
  {
   "cell_type": "code",
   "execution_count": 57,
   "id": "69cb843c",
   "metadata": {},
   "outputs": [
    {
     "data": {
      "text/plain": [
       "{'TACTG': 80}"
      ]
     },
     "execution_count": 57,
     "metadata": {},
     "output_type": "execute_result"
    }
   ],
   "source": [
    "freq_words_with_mismatches(seq,5, 2)"
   ]
  },
  {
   "cell_type": "code",
   "execution_count": 80,
   "id": "4f70ef65",
   "metadata": {},
   "outputs": [
    {
     "data": {
      "text/plain": [
       "{'ACAT': 9, 'ATGT': 9}"
      ]
     },
     "execution_count": 80,
     "metadata": {},
     "output_type": "execute_result"
    }
   ],
   "source": [
    "freq_words_with_mismatches('ACGTTGCATGTCGCATGATGCATGAGAGCT', 4, 1, True)"
   ]
  },
  {
   "cell_type": "code",
   "execution_count": 82,
   "id": "5e31fc83",
   "metadata": {},
   "outputs": [],
   "source": [
    "seq = 'CAGTGCACGGTCGTGGTCCGGTCCAGTGTGTGCACACAGTGCACGGTGGTCTGCACACATGCGGTGTGTGGTCGTGTGTGCGGTCCGCGGTGGTCGTCCGGTGTGCGTGGTGGTCCGCACGCGCACACATGGTGGTCCGGTGCGCATGCACATGCACGCGTGGTCCATGCACATGCGTGGTGTGCAGTCGTGCGCGCGCACAGTGTGGTCGTGGTCTGCGCGGTC'"
   ]
  },
  {
   "cell_type": "code",
   "execution_count": 84,
   "id": "f7bf6bcd",
   "metadata": {},
   "outputs": [
    {
     "data": {
      "text/plain": [
       "dict_keys(['CGTGCGC', 'GCGCACG'])"
      ]
     },
     "execution_count": 84,
     "metadata": {},
     "output_type": "execute_result"
    }
   ],
   "source": [
    "freq_words_with_mismatches(seq, 7, 2, True).keys()"
   ]
  },
  {
   "cell_type": "code",
   "execution_count": 172,
   "id": "a2206e02",
   "metadata": {},
   "outputs": [
    {
     "data": {
      "text/plain": [
       "True"
      ]
     },
     "execution_count": 172,
     "metadata": {},
     "output_type": "execute_result"
    }
   ],
   "source": [
    "min_skew_e_coli[0]==3923620"
   ]
  },
  {
   "cell_type": "code",
   "execution_count": 162,
   "id": "04c1790c",
   "metadata": {},
   "outputs": [],
   "source": [
    "freq_words_e_coli = freq_words_with_mismatches(genome_e_coli[min_skew_e_coli[0]: min_skew_e_coli[0] +500], 9, 1, True)\n"
   ]
  },
  {
   "cell_type": "code",
   "execution_count": 169,
   "id": "f5fecf97",
   "metadata": {},
   "outputs": [
    {
     "data": {
      "text/plain": [
       "4"
      ]
     },
     "execution_count": 169,
     "metadata": {},
     "output_type": "execute_result"
    }
   ],
   "source": [
    "freq_words_with_mismatches(genome_e_coli[min_skew_e_coli[0]: min_skew_e_coli[0] +500], 9, 1, True)['TGTGGATAA']"
   ]
  },
  {
   "cell_type": "code",
   "execution_count": 163,
   "id": "8dab2983",
   "metadata": {},
   "outputs": [
    {
     "data": {
      "text/plain": [
       "{'AATGATCCG': 4,\n",
       " 'AAGGATCCT': 4,\n",
       " 'CGGATCATT': 4,\n",
       " 'AGGATCCTT': 4,\n",
       " 'TCTGGATAA': 4,\n",
       " 'TTATCCAGA': 4,\n",
       " 'AGCTGGGAT': 4,\n",
       " 'ATCCCAGCT': 4,\n",
       " 'GCTGGGATC': 4,\n",
       " 'GATCCCAGC': 4,\n",
       " 'CTGGGATCA': 4,\n",
       " 'TGATCCCAG': 4,\n",
       " 'GGATCCTGG': 4,\n",
       " 'CCAGGATCC': 4,\n",
       " 'CAGAAGATC': 4,\n",
       " 'GATCTTCTG': 4,\n",
       " 'AGATCTCTT': 4,\n",
       " 'AAGAGATCT': 4,\n",
       " 'TGTGAATAA': 4,\n",
       " 'TGTGGATAA': 4,\n",
       " 'TTATCCACA': 4,\n",
       " 'TTATTCACA': 4,\n",
       " 'GTGGATAAC': 4,\n",
       " 'GTTATCCAC': 4,\n",
       " 'TGGATAACC': 4,\n",
       " 'GGTTATCCA': 4,\n",
       " 'AGGATCAAC': 4,\n",
       " 'GTTGATCCT': 4,\n",
       " 'AGAACAACA': 4,\n",
       " 'TGATCAACA': 4,\n",
       " 'TGTTGATCA': 4,\n",
       " 'TGTTGTTCT': 4,\n",
       " 'GATCAACAG': 4,\n",
       " 'CTGTTGATC': 4}"
      ]
     },
     "execution_count": 163,
     "metadata": {},
     "output_type": "execute_result"
    }
   ],
   "source": [
    "freq_words_e_coli"
   ]
  },
  {
   "cell_type": "code",
   "execution_count": 165,
   "id": "058a0685",
   "metadata": {},
   "outputs": [],
   "source": [
    "patterns_pos_e_coli = []\n",
    "for pattern in freq_words_e_coli.keys():\n",
    "    patterns_pos_e_coli += pattern_match(genome_e_coli[min_skew_e_coli[0]: min_skew_e_coli[0] +500], pattern) "
   ]
  },
  {
   "cell_type": "code",
   "execution_count": 166,
   "id": "e6d5d1f4",
   "metadata": {},
   "outputs": [
    {
     "data": {
      "text/plain": [
       "[288, 289, 436, 290, 124, 203, 383, 204, 382]"
      ]
     },
     "execution_count": 166,
     "metadata": {},
     "output_type": "execute_result"
    }
   ],
   "source": [
    "patterns_pos_e_coli"
   ]
  },
  {
   "cell_type": "code",
   "execution_count": 168,
   "id": "4fbcb3d6",
   "metadata": {},
   "outputs": [
    {
     "data": {
      "text/plain": [
       "'TAAATACTT'"
      ]
     },
     "execution_count": 168,
     "metadata": {},
     "output_type": "execute_result"
    }
   ],
   "source": [
    "genome_e_coli[min(patterns_pos_e_coli): min(patterns_pos_e_coli) +9]"
   ]
  },
  {
   "cell_type": "code",
   "execution_count": 124,
   "id": "bb87132a",
   "metadata": {},
   "outputs": [],
   "source": [
    "file_path = '/Users/leongugel/Downloads/Salmonella_enterica.txt'\n",
    "assert os.path.exists(file_path)\n",
    "file1 = open(file_path, 'r')\n",
    "Lines = file1.readlines()\n",
    "salmonella_enterica_genome  = ''.join([line.strip() for line in Lines[1:]])"
   ]
  },
  {
   "cell_type": "code",
   "execution_count": 126,
   "id": "d908786c",
   "metadata": {},
   "outputs": [
    {
     "data": {
      "text/plain": [
       "4809037"
      ]
     },
     "execution_count": 126,
     "metadata": {},
     "output_type": "execute_result"
    }
   ],
   "source": [
    "len(salmonella_enterica_genome)"
   ]
  },
  {
   "cell_type": "code",
   "execution_count": 127,
   "id": "fbd5797d",
   "metadata": {},
   "outputs": [],
   "source": [
    "skew_diagram_salmonela =  skew_diagram(salmonella_enterica_genome)\n",
    "   "
   ]
  },
  {
   "cell_type": "code",
   "execution_count": 128,
   "id": "3e390c5e",
   "metadata": {},
   "outputs": [
    {
     "data": {
      "image/png": "[encoded data removed]",
      "text/plain": [
       "<Figure size 432x288 with 1 Axes>"
      ]
     },
     "metadata": {
      "needs_background": "light"
     },
     "output_type": "display_data"
    }
   ],
   "source": [
    "plt.plot(skew_diagram_salmonela, '-b')\n",
    "# plt.plot(min_skew_e_coli, skew_diag_e_coli[min_skew_e_coli] , '.r')\n",
    "plt.title('skew_diagram_salmonela')\n",
    "plt.show()"
   ]
  },
  {
   "cell_type": "code",
   "execution_count": 132,
   "id": "9af65f38",
   "metadata": {},
   "outputs": [],
   "source": [
    "skew_diagram_salmonela_min = np.where(skew_diagram_salmonela == min(skew_diagram_salmonela))[0]"
   ]
  },
  {
   "cell_type": "code",
   "execution_count": 178,
   "id": "974f9aeb",
   "metadata": {},
   "outputs": [
    {
     "data": {
      "text/plain": [
       "3764856"
      ]
     },
     "execution_count": 178,
     "metadata": {},
     "output_type": "execute_result"
    }
   ],
   "source": [
    "skew_diagram_salmonela_min[0]"
   ]
  },
  {
   "cell_type": "code",
   "execution_count": 173,
   "id": "ec6e5a9c",
   "metadata": {},
   "outputs": [],
   "source": [
    "skew_diagram_salmonela_min_L500 = skew_diagram_salmonela[skew_diagram_salmonela_min[0]-500: skew_diagram_salmonela_min[0] +500]"
   ]
  },
  {
   "cell_type": "code",
   "execution_count": 179,
   "id": "837d0715",
   "metadata": {},
   "outputs": [],
   "source": [
    "salmonella_enterica_genome_skewmin_L500 = salmonella_enterica_genome[skew_diagram_salmonela_min[0]-500: skew_diagram_salmonela_min[0] +500]"
   ]
  },
  {
   "cell_type": "code",
   "execution_count": 175,
   "id": "dd790b19",
   "metadata": {},
   "outputs": [
    {
     "data": {
      "image/png": "[encoded data removed]",
      "text/plain": [
       "<Figure size 432x288 with 1 Axes>"
      ]
     },
     "metadata": {
      "needs_background": "light"
     },
     "output_type": "display_data"
    }
   ],
   "source": [
    "plt.plot(skew_diagram_salmonela_min_L500, '-b')\n",
    "# plt.plot(min_skew_e_coli, skew_diag_e_coli[min_skew_e_coli] , '.r')\n",
    "plt.title('skew_diagram_salmonela_min_L500')\n",
    "plt.show()"
   ]
  },
  {
   "cell_type": "code",
   "execution_count": 180,
   "id": "c69c4de2",
   "metadata": {},
   "outputs": [],
   "source": [
    "kmears_salmonela = freq_words_with_mismatches(salmonella_enterica_genome_skewmin_L500, 9, 1, True)"
   ]
  },
  {
   "cell_type": "code",
   "execution_count": 181,
   "id": "b6867f57",
   "metadata": {},
   "outputs": [
    {
     "data": {
      "text/plain": [
       "{'TTATCCACA': 6, 'TGTGGATAA': 6}"
      ]
     },
     "execution_count": 181,
     "metadata": {},
     "output_type": "execute_result"
    }
   ],
   "source": [
    "kmears_salmonela"
   ]
  },
  {
   "cell_type": "code",
   "execution_count": null,
   "id": "170eebf1",
   "metadata": {},
   "outputs": [],
   "source": [
    "'TTATCCACA'"
   ]
  },
  {
   "cell_type": "code",
   "execution_count": 182,
   "id": "8d2709dd",
   "metadata": {},
   "outputs": [],
   "source": [
    "patterns_pos_salmena = []\n",
    "for pattern in kmears_salmonela.keys():\n",
    "    patterns_pos_salmena += pattern_match(salmonella_enterica_genome_skewmin_L500, pattern) "
   ]
  },
  {
   "cell_type": "code",
   "execution_count": 183,
   "id": "94d8b01c",
   "metadata": {},
   "outputs": [
    {
     "data": {
      "text/plain": [
       "[903, 723]"
      ]
     },
     "execution_count": 183,
     "metadata": {},
     "output_type": "execute_result"
    }
   ],
   "source": [
    "patterns_pos_salmena"
   ]
  },
  {
   "cell_type": "code",
   "execution_count": 160,
   "id": "d64a352b",
   "metadata": {},
   "outputs": [
    {
     "data": {
      "image/png": "[encoded data removed]",
      "text/plain": [
       "<Figure size 432x288 with 1 Axes>"
      ]
     },
     "metadata": {
      "needs_background": "light"
     },
     "output_type": "display_data"
    }
   ],
   "source": [
    "plt.plot(skew_diagram_salmonela_min_L500, '-b')\n",
    "for pos in patterns_pos_salmena:\n",
    "    plt.plot(range(pos, pos + 9), skew_diagram_salmonela_min_L500[pos: pos + 9] , '.r')\n",
    "plt.title('skew_diagram_salmonela_min_L500')\n",
    "plt.show()"
   ]
  },
  {
   "cell_type": "code",
   "execution_count": 155,
   "id": "9b95d55c",
   "metadata": {},
   "outputs": [
    {
     "data": {
      "text/plain": [
       "500"
      ]
     },
     "execution_count": 155,
     "metadata": {},
     "output_type": "execute_result"
    }
   ],
   "source": [
    "len(range(pos, pos + 500))"
   ]
  },
  {
   "cell_type": "code",
   "execution_count": 157,
   "id": "a5cd83b2",
   "metadata": {},
   "outputs": [
    {
     "data": {
      "text/plain": [
       "18"
      ]
     },
     "execution_count": 157,
     "metadata": {},
     "output_type": "execute_result"
    }
   ],
   "source": [
    "len(skew_diagram_salmonela_min_L500[pos: pos + 500])"
   ]
  },
  {
   "cell_type": "code",
   "execution_count": 159,
   "id": "3a357129",
   "metadata": {},
   "outputs": [
    {
     "data": {
      "text/plain": [
       "482"
      ]
     },
     "execution_count": 159,
     "metadata": {},
     "output_type": "execute_result"
    }
   ],
   "source": [
    "pos, pos + 500"
   ]
  },
  {
   "cell_type": "code",
   "execution_count": 184,
   "id": "4075c34a",
   "metadata": {},
   "outputs": [
    {
     "data": {
      "text/plain": [
       "50"
      ]
     },
     "execution_count": 184,
     "metadata": {},
     "output_type": "execute_result"
    }
   ],
   "source": [
    "hamming_dist('TGACCCGTTATGCTCGAGTTCGGTCAGAGCGTCATTGCGAGTAGTCGTTTGCTTTCTCAAACTCC', 'GAGCGATTAAGCGTGACAGCCCCAGGGAACCCACAAAACGTGATCGCAGTCCATCCGATCATACA')"
   ]
  },
  {
   "cell_type": "code",
   "execution_count": 188,
   "id": "a7ca214a",
   "metadata": {},
   "outputs": [
    {
     "data": {
      "text/plain": [
       "(array([1]),)"
      ]
     },
     "execution_count": 188,
     "metadata": {},
     "output_type": "execute_result"
    }
   ],
   "source": [
    "np.where(skew_diagram('GCATACACTTCCCAGTAGGTACTG')==skew_diagram('GCATACACTTCCCAGTAGGTACTG').max())"
   ]
  },
  {
   "cell_type": "code",
   "execution_count": 189,
   "id": "df1b0b91",
   "metadata": {},
   "outputs": [
    {
     "data": {
      "text/plain": [
       "array([ 0,  1,  0,  0,  0,  0, -1, -1, -2, -2, -2, -3, -4, -5, -5, -4, -4,\n",
       "       -4, -3, -2, -2, -2, -3, -3, -2], dtype=int32)"
      ]
     },
     "execution_count": 189,
     "metadata": {},
     "output_type": "execute_result"
    }
   ],
   "source": [
    "skew_diagram('GCATACACTTCCCAGTAGGTACTG')"
   ]
  },
  {
   "cell_type": "code",
   "execution_count": 196,
   "id": "d75f129a",
   "metadata": {},
   "outputs": [
    {
     "data": {
      "text/plain": [
       "[0, 2, 6, 8, 10, 12, 18, 20]"
      ]
     },
     "execution_count": 196,
     "metadata": {},
     "output_type": "execute_result"
    }
   ],
   "source": [
    "aprox_pattern_match('CGTGACAGTGTATGGGCATCTTT', 'TGT', 1)"
   ]
  },
  {
   "cell_type": "code",
   "execution_count": 197,
   "id": "6d4dcced",
   "metadata": {},
   "outputs": [
    {
     "data": {
      "text/plain": [
       "8"
      ]
     },
     "execution_count": 197,
     "metadata": {},
     "output_type": "execute_result"
    }
   ],
   "source": [
    "len(aprox_pattern_match('CGTGACAGTGTATGGGCATCTTT', 'TGT', 1))"
   ]
  },
  {
   "cell_type": "code",
   "execution_count": 200,
   "id": "f2196fff",
   "metadata": {},
   "outputs": [
    {
     "data": {
      "text/plain": [
       "31"
      ]
     },
     "execution_count": 200,
     "metadata": {},
     "output_type": "execute_result"
    }
   ],
   "source": [
    "len(get_neighbors('CCAGTCAATG', 1))"
   ]
  },
  {
   "cell_type": "code",
   "execution_count": 201,
   "id": "6e33d9e8",
   "metadata": {},
   "outputs": [
    {
     "data": {
      "text/plain": [
       "31"
      ]
     },
     "execution_count": 201,
     "metadata": {},
     "output_type": "execute_result"
    }
   ],
   "source": [
    "len(set(get_neighbors('CCAGTCAATG', 1)))"
   ]
  },
  {
   "cell_type": "code",
   "execution_count": 202,
   "id": "802842b8",
   "metadata": {},
   "outputs": [
    {
     "data": {
      "text/plain": [
       "array([False, False, False, False, False, False, False, False, False,\n",
       "       False, False, False, False,  True, False, False, False, False,\n",
       "       False, False, False, False, False, False, False, False, False,\n",
       "       False, False, False, False])"
      ]
     },
     "execution_count": 202,
     "metadata": {},
     "output_type": "execute_result"
    }
   ],
   "source": [
    "np.array(get_neighbors('CCAGTCAATG', 1)) == 'CCAGTCAATG'"
   ]
  },
  {
   "cell_type": "code",
   "execution_count": null,
   "id": "41a5cc40",
   "metadata": {},
   "outputs": [],
   "source": []
  }
 ],
 "metadata": {
  "kernelspec": {
   "display_name": "Python 3",
   "language": "python",
   "name": "python3"
  },
  "language_info": {
   "codemirror_mode": {
    "name": "ipython",
    "version": 3
   },
   "file_extension": ".py",
   "mimetype": "text/x-python",
   "name": "python",
   "nbconvert_exporter": "python",
   "pygments_lexer": "ipython3",
   "version": "3.8.9"
  }
 },
 "nbformat": 4,
 "nbformat_minor": 5
}
